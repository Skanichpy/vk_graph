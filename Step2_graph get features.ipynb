{
 "cells": [
  {
   "cell_type": "markdown",
   "id": "4cc77691",
   "metadata": {},
   "source": [
    "В данном jupyter notebook формируются дополнительные параметры для связей (u, v) на основе трансцендентных связей.\n",
    "\n",
    "Учитываются все такие связи, а также, входящие и исходящие отдельно."
   ]
  },
  {
   "cell_type": "code",
   "execution_count": null,
   "id": "1fb37449",
   "metadata": {},
   "outputs": [],
   "source": [
    "!pip install pyarrow\n",
    "!pip install fastparquet"
   ]
  },
  {
   "cell_type": "code",
   "execution_count": null,
   "id": "78a39f54",
   "metadata": {},
   "outputs": [],
   "source": [
    "import pandas as pd\n",
    "import numpy as np\n",
    "\n",
    "from scipy import stats\n",
    "from tqdm.notebook import tqdm\n",
    "\n",
    "pd.set_option('display.max_rows', 500)\n",
    "pd.set_option('display.max_columns', 500)\n",
    "pd.set_option('display.width', 1000)\n",
    "\n",
    "import warnings\n",
    "warnings.filterwarnings('ignore')"
   ]
  },
  {
   "cell_type": "markdown",
   "id": "8796ffc3",
   "metadata": {},
   "source": [
    "# Чтение данных"
   ]
  },
  {
   "cell_type": "code",
   "execution_count": 2,
   "id": "7675a82a",
   "metadata": {},
   "outputs": [
    {
     "name": "stdout",
     "output_type": "stream",
     "text": [
      "CPU times: total: 18.3 s\n",
      "Wall time: 19.4 s\n"
     ]
    }
   ],
   "source": [
    "%%time\n",
    "test_df = pd.read_csv(\"./data/test.csv\")"
   ]
  },
  {
   "cell_type": "code",
   "execution_count": 3,
   "id": "875df1a2",
   "metadata": {
    "scrolled": true
   },
   "outputs": [
    {
     "name": "stdout",
     "output_type": "stream",
     "text": [
      "CPU times: total: 1min 1s\n",
      "Wall time: 2min 11s\n"
     ]
    }
   ],
   "source": [
    "%%time\n",
    "train_df = pd.read_csv(\"./data/train.csv\")"
   ]
  },
  {
   "cell_type": "code",
   "execution_count": 4,
   "id": "313d20bb",
   "metadata": {},
   "outputs": [
    {
     "name": "stdout",
     "output_type": "stream",
     "text": [
      "CPU times: total: 5.42 s\n",
      "Wall time: 6.29 s\n"
     ]
    }
   ],
   "source": [
    "%%time\n",
    "attr_df = pd.read_csv(\"./data/attr.csv\")"
   ]
  },
  {
   "cell_type": "markdown",
   "id": "57fc96e2",
   "metadata": {},
   "source": [
    "# Функция генерации фичей по одному эго графу"
   ]
  },
  {
   "cell_type": "code",
   "execution_count": 250,
   "id": "2b6bf0e1",
   "metadata": {},
   "outputs": [],
   "source": [
    "def generate_ego_features(ego_df: pd.DataFrame):\n",
    "    '''Генерирует дополнительные фичи для эго-графа на основе трансцендентных связей\n",
    "    \n",
    "    Parameters\n",
    "    ----------\n",
    "    ego_df : pd.DataFrame\n",
    "        Датафрейм одно эго-графа\n",
    "        Должен включать слолбцы:\n",
    "            ego_id: int\n",
    "            u: int\n",
    "            v: int\n",
    "            x1: float\n",
    "        Также может включать дополнительные данные (t, x2, x3),\n",
    "            которые остануться в возвращённом датафрейме\n",
    "        \n",
    "    Returns\n",
    "    -------\n",
    "    ego_df : pd.DataFrame\n",
    "        Расширенный дополнительныйми столбцами исходный датафрейм\n",
    "        Генерируемые столбцы:\n",
    "            'left_out_mean', 'left_in_mean', 'right_out_mean',\n",
    "            'right_in_mean', 'left_mean', 'right_mean',\n",
    "            'left_out_median', 'left_in_median', 'right_out_median',\n",
    "            'right_in_median', 'left_median', 'right_median', 'reverse'\n",
    "    '''\n",
    "    ## u`, v` - узлы-соседи u, v\n",
    "    \n",
    "    ## x1 для обратной связи (v, u)\n",
    "    reverse_df = pd.merge(\n",
    "        ego_df,\n",
    "        ego_df[['u', 'v', 'x1']],\n",
    "        how='left',\n",
    "        left_on=['u', 'v'],\n",
    "        right_on=['v', 'u'],\n",
    "        suffixes=['', '_y']\n",
    "    )[['u', 'v', 'x1_y']]\n",
    "    \n",
    "    ## Связи (u, v`)\n",
    "    left_out_df = pd.merge(\n",
    "        ego_df,\n",
    "        ego_df[['u', 'v', 'x1']],\n",
    "        how='left',\n",
    "        left_on=['u'],\n",
    "        right_on=['u'],\n",
    "        suffixes=['', '_y']\n",
    "    )\n",
    "    left_out_df = left_out_df[left_out_df['v'] != left_out_df['v_y']]\n",
    "\n",
    "    ## Связи (u`, u)\n",
    "    left_in_df = pd.merge(\n",
    "        ego_df,\n",
    "        ego_df[['u', 'v', 'x1']],\n",
    "        how='left',\n",
    "        left_on=['u'],\n",
    "        right_on=['v'],\n",
    "        suffixes=['', '_y']\n",
    "    )\n",
    "    left_in_df = left_in_df[left_in_df['v'] != left_in_df['u_y']]\n",
    "    \n",
    "    ## Связи (v, v`)\n",
    "    right_out_df = pd.merge(\n",
    "        ego_df,\n",
    "        ego_df[['u', 'v', 'x1']],\n",
    "        how='left',\n",
    "        left_on=['v'],\n",
    "        right_on=['u'],\n",
    "        suffixes=['', '_y']\n",
    "    )\n",
    "    right_out_df = right_out_df[right_out_df['u'] != right_out_df['v_y']]\n",
    "\n",
    "    ## Связи (u`, v)\n",
    "    right_in_df = pd.merge(\n",
    "        ego_df,\n",
    "        ego_df[['u', 'v', 'x1']],\n",
    "        how='left',\n",
    "        left_on=['v'],\n",
    "        right_on=['v'],\n",
    "        suffixes=['', '_y']\n",
    "    )\n",
    "    right_in_df = right_in_df[right_in_df['u'] != right_in_df['u_y']]\n",
    "    \n",
    "    ## Связи (u, v`) и (v`, u)\n",
    "    left_df = pd.concat(\n",
    "        [left_out_df, left_in_df]\n",
    "    )\n",
    "    \n",
    "    ## Связи (v, v`) и (u`, v)\n",
    "    right_df = pd.concat(\n",
    "        [right_out_df, right_in_df]\n",
    "    )\n",
    "    \n",
    "    ## Объединение ego_df с полученными признаками\n",
    "    ego_df = pd.merge(\n",
    "        ego_df,\n",
    "        left_out_df[['u', 'v', 'x1_y']].groupby(by=['u', 'v'], dropna=False).mean().reset_index()[['u', 'v', 'x1_y']]\\\n",
    "            .rename({'x1_y': 'left_out_mean'}, axis=1),\n",
    "        how='left',\n",
    "        on=['u', 'v']\n",
    "    )\n",
    "\n",
    "    ego_df = pd.merge(\n",
    "        ego_df,\n",
    "        left_in_df[['u', 'v', 'x1_y']].groupby(by=['u', 'v'], dropna=False).mean().reset_index()[['u', 'v', 'x1_y']]\\\n",
    "            .rename({'x1_y': 'left_in_mean'}, axis=1),\n",
    "        how='left',\n",
    "        on=['u', 'v']\n",
    "    )\n",
    "\n",
    "    ego_df = pd.merge(\n",
    "        ego_df,\n",
    "        right_out_df[['u', 'v', 'x1_y']].groupby(by=['u', 'v'], dropna=False).mean().reset_index()[['u', 'v', 'x1_y']]\\\n",
    "            .rename({'x1_y': 'right_out_mean'}, axis=1),\n",
    "        how='left',\n",
    "        on=['u', 'v']\n",
    "    )\n",
    "\n",
    "    ego_df = pd.merge(\n",
    "        ego_df,\n",
    "        right_in_df[['u', 'v', 'x1_y']].groupby(by=['u', 'v'], dropna=False).mean().reset_index()[['u', 'v', 'x1_y']]\\\n",
    "            .rename({'x1_y': 'right_in_mean'}, axis=1),\n",
    "        how='left',\n",
    "        on=['u', 'v']\n",
    "    )\n",
    "\n",
    "    ego_df = pd.merge(\n",
    "        ego_df,\n",
    "        left_df[['u', 'v', 'x1_y']].groupby(by=['u', 'v'], dropna=False).mean().reset_index()[['u', 'v', 'x1_y']]\\\n",
    "            .rename({'x1_y': 'left_mean'}, axis=1),\n",
    "        how='left',\n",
    "        on=['u', 'v']\n",
    "    )\n",
    "\n",
    "    ego_df = pd.merge(\n",
    "        ego_df,\n",
    "        right_df[['u', 'v', 'x1_y']].groupby(by=['u', 'v'], dropna=False).mean().reset_index()[['u', 'v', 'x1_y']]\\\n",
    "            .rename({'x1_y': 'right_mean'}, axis=1),\n",
    "        how='left',\n",
    "        on=['u', 'v']\n",
    "    )\n",
    "\n",
    "    ## Median\n",
    "    ego_df = pd.merge(\n",
    "        ego_df,\n",
    "        left_out_df[['u', 'v', 'x1_y']].groupby(by=['u', 'v'], dropna=False).median().reset_index()[['u', 'v', 'x1_y']]\\\n",
    "            .rename({'x1_y': 'left_out_median'}, axis=1),\n",
    "        how='left',\n",
    "        on=['u', 'v']\n",
    "    )\n",
    "\n",
    "    ego_df = pd.merge(\n",
    "        ego_df,\n",
    "        left_in_df[['u', 'v', 'x1_y']].groupby(by=['u', 'v'], dropna=False).median().reset_index()[['u', 'v', 'x1_y']]\\\n",
    "            .rename({'x1_y': 'left_in_median'}, axis=1),\n",
    "        how='left',\n",
    "        on=['u', 'v']\n",
    "    )\n",
    "\n",
    "    ego_df = pd.merge(\n",
    "        ego_df,\n",
    "        right_out_df[['u', 'v', 'x1_y']].groupby(by=['u', 'v'], dropna=False).median().reset_index()[['u', 'v', 'x1_y']]\\\n",
    "            .rename({'x1_y': 'right_out_median'}, axis=1),\n",
    "        how='left',\n",
    "        on=['u', 'v']\n",
    "    )\n",
    "\n",
    "    ego_df = pd.merge(\n",
    "        ego_df,\n",
    "        right_in_df[['u', 'v', 'x1_y']].groupby(by=['u', 'v'], dropna=False).median().reset_index()[['u', 'v', 'x1_y']]\\\n",
    "            .rename({'x1_y': 'right_in_median'}, axis=1),\n",
    "        how='left',\n",
    "        on=['u', 'v']\n",
    "    )\n",
    "\n",
    "    ego_df = pd.merge(\n",
    "        ego_df,\n",
    "        left_df[['u', 'v', 'x1_y']].groupby(by=['u', 'v'], dropna=False).median().reset_index()[['u', 'v', 'x1_y']]\\\n",
    "            .rename({'x1_y': 'left_median'}, axis=1),\n",
    "        how='left',\n",
    "        on=['u', 'v']\n",
    "    )\n",
    "\n",
    "    ego_df = pd.merge(\n",
    "        ego_df,\n",
    "        right_df[['u', 'v', 'x1_y']].groupby(by=['u', 'v'], dropna=False).median().reset_index()[['u', 'v', 'x1_y']]\\\n",
    "            .rename({'x1_y': 'right_median'}, axis=1),\n",
    "        how='left',\n",
    "        on=['u', 'v']\n",
    "    )\n",
    "\n",
    "    ego_df = pd.merge(\n",
    "        ego_df,\n",
    "        reverse_df.rename({'x1_y': 'reverse'}, axis=1),\n",
    "        how='left',\n",
    "        on=['u', 'v']\n",
    "    )\n",
    "\n",
    "    \n",
    "    ## Harmonic mean (depreciated)\n",
    "    \n",
    "    # ego_df = pd.merge(\n",
    "    #     ego_df,\n",
    "    #     left_df[['u', 'v', 'x1_y']].groupby(by=['u', 'v'], dropna=False).agg(stats.hmean).reset_index()[['u', 'v', 'x1_y']]\\\n",
    "    #         .rename({'x1_y': 'left_hmean'}, axis=1),\n",
    "    #     how='left',\n",
    "    #     on=['u', 'v']\n",
    "    # )\n",
    "\n",
    "    # ego_df = pd.merge(\n",
    "    #     ego_df,\n",
    "    #     right_df[['u', 'v', 'x1_y']].groupby(by=['u', 'v'], dropna=False).agg(stats.hmean).reset_index()[['u', 'v', 'x1_y']]\\\n",
    "    #         .rename({'x1_y': 'right_hmean'}, axis=1),\n",
    "    #     how='left',\n",
    "    #     on=['u', 'v']\n",
    "    # )\n",
    "    \n",
    "    \n",
    "    ## Рассчёт смежных показателей (depreciated)\n",
    "    \n",
    "    # new_ego_df['left_mean_div_by_mean_sum'] = new_ego_df['left_mean'] / (new_ego_df['left_mean'] + new_ego_df['right_mean'])\n",
    "    # new_ego_df['right_mean_div_by_mean_sum'] = new_ego_df['right_mean'] / (new_ego_df['left_mean'] + new_ego_df['right_mean'])\n",
    "    # new_ego_df['left_mean_right_mean_diff_abs'] = abs( new_ego_df['left_mean'] - new_ego_df['right_mean'] )\n",
    "\n",
    "    # new_ego_df['left_median_div_by_median_sum'] = new_ego_df['left_median'] / (new_ego_df['left_median'] + new_ego_df['right_median'])\n",
    "    # new_ego_df['right_median_div_by_median_sum'] = new_ego_df['right_median'] / (new_ego_df['left_median'] + new_ego_df['right_median'])\n",
    "    # new_ego_df['left_median_right_median_diff_abs'] = abs( new_ego_df['left_median'] - new_ego_df['right_median'] )\n",
    "\n",
    "    # new_ego_df['left_in_mean_div_by_in_mean_sum'] = new_ego_df['left_in_mean'] / (new_ego_df['left_in_mean'] + new_ego_df['right_in_mean'])\n",
    "    # new_ego_df['right_in_mean_div_by_in_mean_sum'] = new_ego_df['right_in_mean'] / (new_ego_df['left_in_mean'] + new_ego_df['right_in_mean'])\n",
    "    # new_ego_df['left_in_mean_right_in_mean_diff_abs'] = abs( new_ego_df['left_in_mean'] - new_ego_df['right_in_mean'] )\n",
    "\n",
    "    # new_ego_df['left_out_mean_div_by_out_mean_sum'] = new_ego_df['left_out_mean'] / (new_ego_df['left_out_mean'] + new_ego_df['right_out_mean'])\n",
    "    # new_ego_df['right_out_mean_div_by_out_mean_sum'] = new_ego_df['right_out_mean'] / (new_ego_df['left_out_mean'] + new_ego_df['right_out_mean'])\n",
    "    # new_ego_df['left_out_mean_right_out_mean_diff_abs'] = abs( new_ego_df['left_out_mean'] - new_ego_df['right_out_mean'] )\n",
    "    \n",
    "    return ego_df"
   ]
  },
  {
   "cell_type": "markdown",
   "id": "f3499f60",
   "metadata": {},
   "source": [
    "# Запуск функции в цикле и сохранение результатов в файлы"
   ]
  },
  {
   "cell_type": "code",
   "execution_count": null,
   "id": "87dddd91",
   "metadata": {},
   "outputs": [],
   "source": [
    "## Все ego_id\n",
    "ego_ids = test_df['ego_id'].unique()"
   ]
  },
  {
   "cell_type": "code",
   "execution_count": 554,
   "id": "ff039193",
   "metadata": {},
   "outputs": [
    {
     "data": {
      "application/vnd.jupyter.widget-view+json": {
       "model_id": "741d27394ea54ab29193dad85ca51272",
       "version_major": 2,
       "version_minor": 0
      },
      "text/plain": [
       "  0%|          | 0/20596 [00:00<?, ?it/s]"
      ]
     },
     "metadata": {},
     "output_type": "display_data"
    },
    {
     "name": "stdout",
     "output_type": "stream",
     "text": [
      "CPU times: total: 55min 47s\n",
      "Wall time: 1h 3min\n"
     ]
    }
   ],
   "source": [
    "%%time\n",
    "new_ego_list = list() ## Список для следующего сохранения\n",
    "\n",
    "for ego_n, ego_id in tqdm(enumerate(ego_ids), total = len(ego_ids)):\n",
    "    ## Получение одного эго-графа и рассчёт доп. параметров\n",
    "    ego_df = test_df[test_df['ego_id'] == ego_id]\n",
    "    ego_df = generate_ego_features(ego_df)\n",
    "    new_ego_list.append(ego_df)\n",
    "    \n",
    "    ## Сохранение промежуточных результатов\n",
    "    if (ego_n % 2500 == 0 or ego_n == len(ego_ids)-1) and ego_n != 0:\n",
    "        new_ego_df = pd.concat(new_ego_list)\n",
    "        new_ego_df.to_parquet(f'./data/graph_features/ego_{ego_n}.gz', index=None)\n",
    "        new_ego_list = list()"
   ]
  }
 ],
 "metadata": {
  "kernelspec": {
   "display_name": "Python 3 (ipykernel)",
   "language": "python",
   "name": "python3"
  },
  "language_info": {
   "codemirror_mode": {
    "name": "ipython",
    "version": 3
   },
   "file_extension": ".py",
   "mimetype": "text/x-python",
   "name": "python",
   "nbconvert_exporter": "python",
   "pygments_lexer": "ipython3",
   "version": "3.9.13"
  }
 },
 "nbformat": 4,
 "nbformat_minor": 5
}
