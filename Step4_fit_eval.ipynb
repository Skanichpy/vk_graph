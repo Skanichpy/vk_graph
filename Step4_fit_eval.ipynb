{
 "cells": [
  {
   "cell_type": "code",
   "execution_count": 1,
   "id": "b05a38b6-3dc7-473e-8916-eeccd7faa2d3",
   "metadata": {},
   "outputs": [],
   "source": [
    "import pandas as pd\n",
    "import numpy as np\n",
    "\n",
    "from sklearn.metrics import mean_squared_error\n",
    "from sklearn.model_selection import train_test_split\n",
    "\n",
    "from training.trainer import *\n",
    "import optuna\n",
    "from tqdm.notebook import tqdm"
   ]
  },
  {
   "cell_type": "code",
   "execution_count": 2,
   "id": "9c94effb-81db-475a-9f3c-c2ebafcbda46",
   "metadata": {},
   "outputs": [],
   "source": [
    "def read_data(cluster_num):\n",
    "    df_train = pd.read_parquet(f'./clean_data/train/cluster_{cluster_num}.gz')\n",
    "    df_test = pd.read_parquet(f'./clean_data/test/cluster_{cluster_num}.gz')\n",
    "    df_attr = pd.read_csv('./clean_data/attr.csv')\n",
    "    # soc-dem features u\n",
    "    df_train = df_train.merge(df_attr, \n",
    "                              how = 'left', \n",
    "                              left_on = ['ego_id', 'u'],\n",
    "                              right_on = ['ego_id', 'u']).rename(\n",
    "                                                                columns = {\n",
    "                                                                    'school':     'school_u',\n",
    "                                                                    'university': 'university_u',\n",
    "                                                                    'sex':        'sex_u',\n",
    "                                                                    'city_id':    'city_id_u',\n",
    "                                                                    'age':        'age_u'\n",
    "                                                                    }\n",
    "                                                                )\n",
    "    df_test = df_test.merge(df_attr, \n",
    "                              how = 'left', \n",
    "                              left_on = ['ego_id', 'u'],\n",
    "                              right_on = ['ego_id', 'u']).rename(\n",
    "                                                                columns = {\n",
    "                                                                    'school':     'school_u',\n",
    "                                                                    'university': 'university_u',\n",
    "                                                                    'sex':        'sex_u',\n",
    "                                                                    'city_id':    'city_id_u',\n",
    "                                                                    'age':        'age_u'\n",
    "                                                                    }\n",
    "                                                                )\n",
    "    # soc-dem features v\n",
    "    df_train = df_train.merge(df_attr, \n",
    "                              how = 'left', \n",
    "                              left_on = ['ego_id', 'v'],\n",
    "                              right_on = ['ego_id', 'u']).drop(['u_y'], axis = 1).rename(\n",
    "                                                                columns = {\n",
    "                                                                    'school':     'school_v',\n",
    "                                                                    'university': 'university_v',\n",
    "                                                                    'sex':        'sex_v',\n",
    "                                                                    'city_id':    'city_id_v',\n",
    "                                                                    'age':        'age_v',\n",
    "                                                                    'u_x': 'u'\n",
    "                                                                    }\n",
    "                                                                )\n",
    "    df_test = df_test.merge(df_attr, \n",
    "                              how = 'left', \n",
    "                              left_on = ['ego_id', 'v'],\n",
    "                              right_on = ['ego_id', 'u']).drop(['u_y'], axis = 1).rename(\n",
    "                                                                columns = {\n",
    "                                                                    'school':     'school_v',\n",
    "                                                                    'university': 'university_v',\n",
    "                                                                    'sex':        'sex_v',\n",
    "                                                                    'city_id':    'city_id_v',\n",
    "                                                                    'age':        'age_v',\n",
    "                                                                    'u_x': 'u'\n",
    "                                                                    }\n",
    "                                                                )\n",
    "    return df_train, df_test, df_attr"
   ]
  },
  {
   "cell_type": "code",
   "execution_count": 3,
   "id": "82fc851d-0fcd-49ad-8d5b-ae4e8571326d",
   "metadata": {},
   "outputs": [],
   "source": [
    "def preproc_and_get_features(df, df_attr):\n",
    "    for i in ['city_id_u', 'city_id_v', 'sex_u', 'sex_v', 'school_u', 'university_u', 'university_v', 'school_v', 't']:\n",
    "        df[i].fillna(-1, inplace = True)\n",
    "    iqr = np.quantile(df_attr['age'], 0.75)-np.quantile(df_attr['age'], .25)\n",
    "    m_age = df_attr[~(df_attr['age'].isna())]['age'].median()\n",
    "    df['age_u'].fillna(m_age, inplace = True)\n",
    "    df['age_v'].fillna(m_age, inplace = True)\n",
    "    df.loc[df['age_u']>m_age+1.5*iqr, 'age_u'] = m_age\n",
    "    df.loc[df['age_v']>m_age+1.5*iqr, 'age_v'] = m_age\n",
    "\n",
    "    df.loc[(df['university_u'] == df['university_v']) & (df['university_u'] != -1), 'university_is_equal'] = 1\n",
    "    df.loc[(df['university_u'] == -1) | (df['university_v'] == -1), 'university_is_equal'] = -1\n",
    "    df['university_is_equal'].fillna(0, inplace = True)\n",
    "    \n",
    "    df.loc[(df['school_u'] == df['school_v']) & (df['school_u'] != -1), 'school_is_equal'] = 1\n",
    "    df.loc[(df['school_u'] == -1) | (df['school_v'] == -1), 'school_is_equal'] = -1\n",
    "    df['school_is_equal'].fillna(0, inplace = True)\n",
    "    \n",
    "    df.loc[(df['city_id_u'] == df['city_id_v']) & (df['city_id_u'] != -1), 'city_is_equal'] = 1\n",
    "    df.loc[(df['city_id_v'] == -1) | (df['city_id_u'] == -1), 'city_is_equal'] = -1\n",
    "    df['city_is_equal'].fillna(0, inplace = True)\n",
    "    \n",
    "    df.loc[(df['sex_u'] == df['sex_v']) & (df['sex_v'] != -1), 'sex_is_equal'] = 1\n",
    "    df.loc[(df['sex_u'] == -1) | (df['sex_v'] == -1), 'sex_is_equal'] = -1\n",
    "    df['sex_is_equal'].fillna(0, inplace = True)\n",
    "    \n",
    "    df['age_diff'] = df['age_u']-df['age_v']\n",
    "    df.loc[abs(df['age_diff']) < 1, 'age_diff_1'] = 1\n",
    "    df.loc[~(abs(df['age_diff']) < 1), 'age_diff_1'] = 0\n",
    "    \n",
    "    df.loc[abs(df['age_diff']) < 2, 'age_diff_2'] = 1\n",
    "    df.loc[~(abs(df['age_diff']) < 2), 'age_diff_2'] = 0\n",
    "    \n",
    "    df.loc[abs(df['age_diff']) < 3, 'age_diff_3'] = 1\n",
    "    df.loc[~(abs(df['age_diff']) < 3), 'age_diff_3'] = 0\n",
    "    \n",
    "    df.loc[abs(df['age_diff']) < 4, 'age_diff_4'] = 1\n",
    "    df.loc[~(abs(df['age_diff']) < 4), 'age_diff_4'] = 0\n",
    "    \n",
    "    df.loc[abs(df['age_diff']) < 5, 'age_diff_5'] = 1\n",
    "    df.loc[~(abs(df['age_diff']) < 5), 'age_diff_5'] = 0\n",
    "    \n",
    "    df.loc[abs(df['age_diff']) < 10, 'age_diff_10'] = 1\n",
    "    df.loc[~(abs(df['age_diff']) < 10), 'age_diff_10'] = 0\n",
    "    \n",
    "    df.loc[abs(df['age_diff']) < 15, 'age_diff_15'] = 1\n",
    "    df.loc[~(abs(df['age_diff']) < 15), 'age_diff_15'] = 0\n",
    "    \n",
    "    df.loc[abs(df['age_diff']) < 20, 'age_diff_20'] = 1\n",
    "    df.loc[~(abs(df['age_diff']) < 20), 'age_diff_20'] = 0\n",
    "    \n",
    "    df.loc[abs(df['age_diff']) < 25, 'age_diff_25'] = 1\n",
    "    df.loc[~(abs(df['age_diff']) < 25), 'age_diff_25'] = 0\n",
    "    \n",
    "    df.loc[abs(df['age_diff']) < 30, 'age_diff_30'] = 1\n",
    "    df.loc[~(abs(df['age_diff']) < 30), 'age_diff_30'] = 0\n",
    "    \n",
    "    df.loc[(df['school_is_equal'] == 1) & (df['age_diff_2'] == 1), 'flg_classmates'] = 1\n",
    "    df.loc[~((df['school_is_equal'] == 1) & (df['age_diff_2'] == 1)), 'flg_classmates'] = 0\n",
    "    \n",
    "    df.loc[(df['university_is_equal'] == 1) & (df['age_diff_2'] == 1), 'flg_univermates'] = 1\n",
    "    df.loc[~((df['university_is_equal'] == 1) & (df['age_diff_2'] == 1)), 'flg_univermates'] = 0\n",
    "    \n",
    "    df.loc[df['u']==0, 'from_ego'] = 1\n",
    "    df.loc[~(df['u']==0), 'from_ego'] = 1\n",
    "    df.loc[df['v']==0, 'to_ego'] = 1\n",
    "    df.loc[~(df['v']==0), 'to_ego'] = 1\n",
    "\n",
    "    df.drop(['university_u', 'university_v', 'city_id_u', 'city_id_v', 'school_u', 'school_v'], axis = 1, inplace = True)\n",
    "    return df"
   ]
  },
  {
   "cell_type": "code",
   "execution_count": 4,
   "id": "b6783de9-e97e-4a37-827b-bdb014445968",
   "metadata": {},
   "outputs": [],
   "source": [
    "tech_cols = ['ego_id', 'u', 'v', 'x1']"
   ]
  },
  {
   "cell_type": "code",
   "execution_count": 5,
   "id": "06f95861-7973-4b2f-b5d4-b51f1cbfb235",
   "metadata": {},
   "outputs": [],
   "source": [
    "def train_model(train):\n",
    "    x = train.drop(tech_cols, axis = 1)\n",
    "    y = train['x1']\n",
    "\n",
    "    x_train, x_test, y_train, y_test = train_test_split(x, y, test_size = 0.8, \n",
    "                                                        shuffle = True, random_state = 42)\n",
    "    best_params = calc_hps('LGBM', x_train, y_train, 'reg', trials_num = 5)\n",
    "    model = lgb.LGBMRegressor()\n",
    "    model.set_params(**best_params)\n",
    "    model.fit(x_train, y_train)\n",
    "\n",
    "    rmse_train = mean_squared_error(y_train, model.predict(x_train), squared = False)\n",
    "    rmse_test = mean_squared_error(y_test, model.predict(x_test), squared = False)\n",
    "    \n",
    "    return model, rmse_train, rmse_test"
   ]
  },
  {
   "cell_type": "code",
   "execution_count": 6,
   "id": "02f95866-d6b7-4867-8fa7-0e4dff2f5e4a",
   "metadata": {},
   "outputs": [],
   "source": [
    "def make_submition():\n",
    "    df_subm = pd.read_csv('./clean_data/submission.csv')\n",
    "    test_pred = pd.DataFrame(columns = ['ego_id', 'u', 'v', 'pred'])\n",
    "    for cluster in tqdm(range(9)):\n",
    "        _, test, attr = read_data(cluster)\n",
    "        test = preproc_and_get_features(test, attr)\n",
    "        model = lgb.Booster(model_file=f'./models/cluster_{cluster}_model.txt')\n",
    "        test['pred'] = model.predict(test[model.feature_name()])\n",
    "        test_pred = pd.concat([test_pred, test[['ego_id', 'u', 'v', 'pred']]], axis = 0)\n",
    "    df_subm = df_subm.merge(test_pred, how = 'left', left_on = ['ego_id', 'u', 'v'],\n",
    "                           right_on = ['ego_id', 'u', 'v']).drop('x1', axis = 1)\\\n",
    "                .rename(columns = {'pred': 'x1'}).drop_duplicates(['ego_id','u', 'v'], keep='first')[['ego_id', 'u','v', 'x1']]\n",
    "    df_subm.to_csv('./submitions/submition.csv', index = False)\n",
    "    return df_subm"
   ]
  },
  {
   "cell_type": "code",
   "execution_count": 7,
   "id": "a30180cb-75b8-4190-9791-8debeb2e2dfd",
   "metadata": {
    "scrolled": true
   },
   "outputs": [
    {
     "data": {
      "application/vnd.jupyter.widget-view+json": {
       "model_id": "04e4617d067146acb1ca657f9628059f",
       "version_major": 2,
       "version_minor": 0
      },
      "text/plain": [
       "  0%|          | 0/9 [00:00<?, ?it/s]"
      ]
     },
     "metadata": {},
     "output_type": "display_data"
    },
    {
     "name": "stderr",
     "output_type": "stream",
     "text": [
      "\u001b[32m[I 2023-05-21 04:56:38,456]\u001b[0m A new study created in memory with name: no-name-3d0da58c-ff66-4d57-9de2-01edc7809bec\u001b[0m\n",
      "\u001b[32m[I 2023-05-21 04:56:46,433]\u001b[0m Trial 0 finished with value: -0.6038514067729256 and parameters: {'max_depth': 10, 'num_leaves': 98, 'n_estimators': 147, 'reg_alpha': 0.4181207578712726, 'reg_lambda': 2.6913857515375475e-07, 'min_child_samples': 37, 'min_child_weight': 1.9597272946419337}. Best is trial 0 with value: -0.6038514067729256.\u001b[0m\n",
      "\u001b[32m[I 2023-05-21 04:56:49,580]\u001b[0m Trial 1 finished with value: -0.696370783023756 and parameters: {'max_depth': 4, 'num_leaves': 28, 'n_estimators': 69, 'reg_alpha': 0.029837007071720243, 'reg_lambda': 1.8631412772492373, 'min_child_samples': 26, 'min_child_weight': 9.712061172465253}. Best is trial 0 with value: -0.6038514067729256.\u001b[0m\n",
      "\u001b[32m[I 2023-05-21 04:56:53,521]\u001b[0m Trial 2 finished with value: -0.700024309639072 and parameters: {'max_depth': 3, 'num_leaves': 64, 'n_estimators': 129, 'reg_alpha': 0.0032865051905924905, 'reg_lambda': 9.176850523806595e-05, 'min_child_samples': 47, 'min_child_weight': 1.3317284081935319}. Best is trial 0 with value: -0.6038514067729256.\u001b[0m\n",
      "\u001b[32m[I 2023-05-21 04:56:56,990]\u001b[0m Trial 3 finished with value: -0.7448918830762036 and parameters: {'max_depth': 2, 'num_leaves': 59, 'n_estimators': 114, 'reg_alpha': 0.0027239591918987957, 'reg_lambda': 0.6399108738528423, 'min_child_samples': 35, 'min_child_weight': 8.617589054271102}. Best is trial 0 with value: -0.6038514067729256.\u001b[0m\n",
      "\u001b[32m[I 2023-05-21 04:57:00,895]\u001b[0m Trial 4 finished with value: -0.7353382876280402 and parameters: {'max_depth': 2, 'num_leaves': 38, 'n_estimators': 157, 'reg_alpha': 0.004136776706709595, 'reg_lambda': 0.02977308894112331, 'min_child_samples': 47, 'min_child_weight': 4.317297799699859}. Best is trial 0 with value: -0.6038514067729256.\u001b[0m\n"
     ]
    },
    {
     "name": "stdout",
     "output_type": "stream",
     "text": [
      "----- Cluster 0 -----\n",
      "RMSE TRAIN: 0.604\n",
      "RMSE VAL: 0.657\n"
     ]
    },
    {
     "name": "stderr",
     "output_type": "stream",
     "text": [
      "\u001b[32m[I 2023-05-21 04:57:50,558]\u001b[0m A new study created in memory with name: no-name-261c504d-52fa-4413-b8f7-ded3110b616d\u001b[0m\n",
      "\u001b[32m[I 2023-05-21 04:57:53,608]\u001b[0m Trial 0 finished with value: -0.6248107670668874 and parameters: {'max_depth': 9, 'num_leaves': 82, 'n_estimators': 111, 'reg_alpha': 0.004983254087499036, 'reg_lambda': 0.004028405287950032, 'min_child_samples': 46, 'min_child_weight': 2.6613185072808148}. Best is trial 0 with value: -0.6248107670668874.\u001b[0m\n",
      "\u001b[32m[I 2023-05-21 04:57:57,076]\u001b[0m Trial 1 finished with value: -0.623971076996371 and parameters: {'max_depth': 8, 'num_leaves': 92, 'n_estimators': 140, 'reg_alpha': 0.09196685384261512, 'reg_lambda': 1.1880037706600035, 'min_child_samples': 57, 'min_child_weight': 0.8884351732088747}. Best is trial 1 with value: -0.623971076996371.\u001b[0m\n",
      "\u001b[32m[I 2023-05-21 04:57:58,841]\u001b[0m Trial 2 finished with value: -0.7038454737355568 and parameters: {'max_depth': 4, 'num_leaves': 20, 'n_estimators': 107, 'reg_alpha': 1.67994228552334e-06, 'reg_lambda': 3.4315186561583304, 'min_child_samples': 8, 'min_child_weight': 8.788511800193323}. Best is trial 1 with value: -0.623971076996371.\u001b[0m\n",
      "\u001b[32m[I 2023-05-21 04:58:02,335]\u001b[0m Trial 3 finished with value: -0.5997581918938745 and parameters: {'max_depth': 8, 'num_leaves': 71, 'n_estimators': 158, 'reg_alpha': 4.799914848151183, 'reg_lambda': 1.4582071598554729e-05, 'min_child_samples': 5, 'min_child_weight': 5.025712852256013}. Best is trial 3 with value: -0.5997581918938745.\u001b[0m\n",
      "\u001b[32m[I 2023-05-21 04:58:05,374]\u001b[0m Trial 4 finished with value: -0.6084772474608632 and parameters: {'max_depth': 9, 'num_leaves': 90, 'n_estimators': 93, 'reg_alpha': 3.107861087041163e-05, 'reg_lambda': 1.0638816369985144e-07, 'min_child_samples': 14, 'min_child_weight': 3.8979948752046516}. Best is trial 3 with value: -0.5997581918938745.\u001b[0m\n"
     ]
    },
    {
     "name": "stdout",
     "output_type": "stream",
     "text": [
      "----- Cluster 1 -----\n",
      "RMSE TRAIN: 0.600\n",
      "RMSE VAL: 0.685\n"
     ]
    },
    {
     "name": "stderr",
     "output_type": "stream",
     "text": [
      "\u001b[32m[I 2023-05-21 04:59:58,520]\u001b[0m A new study created in memory with name: no-name-6e8f0839-fbd8-445b-8728-bc1e224de7f3\u001b[0m\n",
      "\u001b[32m[I 2023-05-21 05:00:08,452]\u001b[0m Trial 0 finished with value: -0.7086821055703671 and parameters: {'max_depth': 2, 'num_leaves': 39, 'n_estimators': 100, 'reg_alpha': 3.8159380543001022, 'reg_lambda': 7.455000359642387e-05, 'min_child_samples': 52, 'min_child_weight': 4.830878466254876}. Best is trial 0 with value: -0.7086821055703671.\u001b[0m\n",
      "\u001b[32m[I 2023-05-21 05:00:18,019]\u001b[0m Trial 1 finished with value: -0.6989238098351263 and parameters: {'max_depth': 2, 'num_leaves': 60, 'n_estimators': 149, 'reg_alpha': 0.00025972828926772845, 'reg_lambda': 5.413502477457515e-06, 'min_child_samples': 56, 'min_child_weight': 0.19572671690008792}. Best is trial 1 with value: -0.6989238098351263.\u001b[0m\n",
      "\u001b[32m[I 2023-05-21 05:00:31,066]\u001b[0m Trial 2 finished with value: -0.6248871347892238 and parameters: {'max_depth': 6, 'num_leaves': 74, 'n_estimators': 99, 'reg_alpha': 4.6386908770842785, 'reg_lambda': 1.4686680179999719e-06, 'min_child_samples': 8, 'min_child_weight': 6.8438398312304605}. Best is trial 2 with value: -0.6248871347892238.\u001b[0m\n",
      "\u001b[32m[I 2023-05-21 05:00:40,562]\u001b[0m Trial 3 finished with value: -0.6975633024431744 and parameters: {'max_depth': 2, 'num_leaves': 42, 'n_estimators': 160, 'reg_alpha': 2.0511796462766376e-06, 'reg_lambda': 3.5647412948000277, 'min_child_samples': 56, 'min_child_weight': 1.589465190747408}. Best is trial 2 with value: -0.6248871347892238.\u001b[0m\n",
      "\u001b[32m[I 2023-05-21 05:00:51,555]\u001b[0m Trial 4 finished with value: -0.6918640971908574 and parameters: {'max_depth': 2, 'num_leaves': 40, 'n_estimators': 200, 'reg_alpha': 8.694084366445962, 'reg_lambda': 0.6785003080734534, 'min_child_samples': 27, 'min_child_weight': 2.8089335528145747}. Best is trial 2 with value: -0.6248871347892238.\u001b[0m\n"
     ]
    },
    {
     "name": "stdout",
     "output_type": "stream",
     "text": [
      "----- Cluster 2 -----\n",
      "RMSE TRAIN: 0.625\n",
      "RMSE VAL: 0.633\n"
     ]
    },
    {
     "name": "stderr",
     "output_type": "stream",
     "text": [
      "\u001b[32m[I 2023-05-21 05:02:41,815]\u001b[0m A new study created in memory with name: no-name-b7a9ebb9-f75e-4587-9487-d7c0d052e896\u001b[0m\n",
      "\u001b[32m[I 2023-05-21 05:03:01,442]\u001b[0m Trial 0 finished with value: -0.5983089432214226 and parameters: {'max_depth': 9, 'num_leaves': 69, 'n_estimators': 195, 'reg_alpha': 2.3111543836469234e-08, 'reg_lambda': 0.007087967274114281, 'min_child_samples': 67, 'min_child_weight': 4.82224448186533}. Best is trial 0 with value: -0.5983089432214226.\u001b[0m\n",
      "\u001b[32m[I 2023-05-21 05:03:14,806]\u001b[0m Trial 1 finished with value: -0.6171314524080461 and parameters: {'max_depth': 9, 'num_leaves': 31, 'n_estimators': 173, 'reg_alpha': 0.12250037011291531, 'reg_lambda': 0.0002882476836523549, 'min_child_samples': 12, 'min_child_weight': 5.093923499394223}. Best is trial 0 with value: -0.5983089432214226.\u001b[0m\n",
      "\u001b[32m[I 2023-05-21 05:03:21,564]\u001b[0m Trial 2 finished with value: -0.7935095235150867 and parameters: {'max_depth': 1, 'num_leaves': 85, 'n_estimators': 110, 'reg_alpha': 4.220261402983253e-06, 'reg_lambda': 2.608870788801902e-05, 'min_child_samples': 17, 'min_child_weight': 5.460360021931758}. Best is trial 0 with value: -0.5983089432214226.\u001b[0m\n",
      "\u001b[32m[I 2023-05-21 05:03:34,372]\u001b[0m Trial 3 finished with value: -0.6646952527047031 and parameters: {'max_depth': 3, 'num_leaves': 24, 'n_estimators': 154, 'reg_alpha': 1.2712783410278054e-07, 'reg_lambda': 1.656245099527122e-05, 'min_child_samples': 32, 'min_child_weight': 7.915198990035524}. Best is trial 0 with value: -0.5983089432214226.\u001b[0m\n",
      "\u001b[32m[I 2023-05-21 05:03:50,537]\u001b[0m Trial 4 finished with value: -0.6225640197989696 and parameters: {'max_depth': 6, 'num_leaves': 49, 'n_estimators': 128, 'reg_alpha': 4.363881393230466e-06, 'reg_lambda': 0.0032280450830145598, 'min_child_samples': 64, 'min_child_weight': 2.837123279966354}. Best is trial 0 with value: -0.5983089432214226.\u001b[0m\n"
     ]
    },
    {
     "name": "stdout",
     "output_type": "stream",
     "text": [
      "----- Cluster 3 -----\n",
      "RMSE TRAIN: 0.598\n",
      "RMSE VAL: 0.623\n"
     ]
    },
    {
     "name": "stderr",
     "output_type": "stream",
     "text": [
      "\u001b[32m[I 2023-05-21 05:05:18,788]\u001b[0m A new study created in memory with name: no-name-024001f9-454f-44fd-b62a-740d68af134c\u001b[0m\n",
      "\u001b[32m[I 2023-05-21 05:05:22,034]\u001b[0m Trial 0 finished with value: -0.6581402600790698 and parameters: {'max_depth': 5, 'num_leaves': 84, 'n_estimators': 84, 'reg_alpha': 0.009965678754213968, 'reg_lambda': 0.0008126149950126926, 'min_child_samples': 33, 'min_child_weight': 2.8912422996364966}. Best is trial 0 with value: -0.6581402600790698.\u001b[0m\n",
      "\u001b[32m[I 2023-05-21 05:05:24,691]\u001b[0m Trial 1 finished with value: -0.8104727019982547 and parameters: {'max_depth': 1, 'num_leaves': 70, 'n_estimators': 175, 'reg_alpha': 0.04871023028363573, 'reg_lambda': 8.865464139929352e-08, 'min_child_samples': 59, 'min_child_weight': 7.937777603439409}. Best is trial 0 with value: -0.6581402600790698.\u001b[0m\n",
      "\u001b[32m[I 2023-05-21 05:05:27,343]\u001b[0m Trial 2 finished with value: -0.7036617779087556 and parameters: {'max_depth': 3, 'num_leaves': 82, 'n_estimators': 86, 'reg_alpha': 0.0431890569929215, 'reg_lambda': 1.1040324395805777e-08, 'min_child_samples': 56, 'min_child_weight': 9.948441157475022}. Best is trial 0 with value: -0.6581402600790698.\u001b[0m\n",
      "\u001b[32m[I 2023-05-21 05:05:32,874]\u001b[0m Trial 3 finished with value: -0.624919604280022 and parameters: {'max_depth': 8, 'num_leaves': 31, 'n_estimators': 192, 'reg_alpha': 6.959822439541449e-06, 'reg_lambda': 8.306051576053995e-07, 'min_child_samples': 46, 'min_child_weight': 7.2663943842101855}. Best is trial 3 with value: -0.624919604280022.\u001b[0m\n",
      "\u001b[32m[I 2023-05-21 05:05:40,674]\u001b[0m Trial 4 finished with value: -0.5858492401089891 and parameters: {'max_depth': 8, 'num_leaves': 96, 'n_estimators': 157, 'reg_alpha': 1.1805879726775048, 'reg_lambda': 0.4036819563690727, 'min_child_samples': 19, 'min_child_weight': 9.241221031775725}. Best is trial 4 with value: -0.5858492401089891.\u001b[0m\n"
     ]
    },
    {
     "name": "stdout",
     "output_type": "stream",
     "text": [
      "----- Cluster 4 -----\n",
      "RMSE TRAIN: 0.586\n",
      "RMSE VAL: 0.652\n"
     ]
    },
    {
     "name": "stderr",
     "output_type": "stream",
     "text": [
      "\u001b[32m[I 2023-05-21 05:07:35,029]\u001b[0m A new study created in memory with name: no-name-24f24f53-18a4-4424-a7df-a3e8a0dac4ac\u001b[0m\n",
      "\u001b[32m[I 2023-05-21 05:07:43,117]\u001b[0m Trial 0 finished with value: -0.7201833471711339 and parameters: {'max_depth': 2, 'num_leaves': 24, 'n_estimators': 93, 'reg_alpha': 0.5011408643441198, 'reg_lambda': 0.0002470792677914736, 'min_child_samples': 20, 'min_child_weight': 7.895454970673182}. Best is trial 0 with value: -0.7201833471711339.\u001b[0m\n",
      "\u001b[32m[I 2023-05-21 05:08:00,118]\u001b[0m Trial 1 finished with value: -0.6111335802939656 and parameters: {'max_depth': 8, 'num_leaves': 71, 'n_estimators': 147, 'reg_alpha': 3.4620601139129164e-07, 'reg_lambda': 2.532856740850941e-06, 'min_child_samples': 50, 'min_child_weight': 3.9199016765992902}. Best is trial 1 with value: -0.6111335802939656.\u001b[0m\n",
      "\u001b[32m[I 2023-05-21 05:08:10,116]\u001b[0m Trial 2 finished with value: -0.6658819797467617 and parameters: {'max_depth': 3, 'num_leaves': 29, 'n_estimators': 178, 'reg_alpha': 5.7292416225986724e-08, 'reg_lambda': 1.3505651662364513, 'min_child_samples': 61, 'min_child_weight': 3.372668617174799}. Best is trial 1 with value: -0.6111335802939656.\u001b[0m\n",
      "\u001b[32m[I 2023-05-21 05:08:21,284]\u001b[0m Trial 3 finished with value: -0.6502255328581826 and parameters: {'max_depth': 4, 'num_leaves': 21, 'n_estimators': 163, 'reg_alpha': 0.0006684047868792291, 'reg_lambda': 0.007055262881628636, 'min_child_samples': 51, 'min_child_weight': 9.655198926808874}. Best is trial 1 with value: -0.6111335802939656.\u001b[0m\n",
      "\u001b[32m[I 2023-05-21 05:08:31,594]\u001b[0m Trial 4 finished with value: -0.6642307865946756 and parameters: {'max_depth': 3, 'num_leaves': 62, 'n_estimators': 190, 'reg_alpha': 3.055472087376278e-05, 'reg_lambda': 0.00010556339365137658, 'min_child_samples': 41, 'min_child_weight': 4.368339528582}. Best is trial 1 with value: -0.6111335802939656.\u001b[0m\n"
     ]
    },
    {
     "name": "stdout",
     "output_type": "stream",
     "text": [
      "----- Cluster 5 -----\n",
      "RMSE TRAIN: 0.611\n",
      "RMSE VAL: 0.630\n"
     ]
    },
    {
     "name": "stderr",
     "output_type": "stream",
     "text": [
      "\u001b[32m[I 2023-05-21 05:10:06,456]\u001b[0m A new study created in memory with name: no-name-781c76cd-59cd-44fe-9d26-6f3fecb267c4\u001b[0m\n",
      "\u001b[32m[I 2023-05-21 05:10:14,690]\u001b[0m Trial 0 finished with value: -0.6418325788156799 and parameters: {'max_depth': 7, 'num_leaves': 26, 'n_estimators': 115, 'reg_alpha': 1.3367404125029252e-05, 'reg_lambda': 0.9157312752220751, 'min_child_samples': 44, 'min_child_weight': 4.682278337574818}. Best is trial 0 with value: -0.6418325788156799.\u001b[0m\n",
      "\u001b[32m[I 2023-05-21 05:10:25,170]\u001b[0m Trial 1 finished with value: -0.6268075207021075 and parameters: {'max_depth': 6, 'num_leaves': 45, 'n_estimators': 160, 'reg_alpha': 1.2420998051440284e-06, 'reg_lambda': 2.374077145907645, 'min_child_samples': 67, 'min_child_weight': 2.112672308782514}. Best is trial 1 with value: -0.6268075207021075.\u001b[0m\n",
      "\u001b[32m[I 2023-05-21 05:10:31,591]\u001b[0m Trial 2 finished with value: -0.6360274195087404 and parameters: {'max_depth': 6, 'num_leaves': 38, 'n_estimators': 106, 'reg_alpha': 0.008913851198107158, 'reg_lambda': 0.08865399710057593, 'min_child_samples': 17, 'min_child_weight': 3.096608306455492}. Best is trial 1 with value: -0.6268075207021075.\u001b[0m\n",
      "\u001b[32m[I 2023-05-21 05:10:37,125]\u001b[0m Trial 3 finished with value: -0.6626406748445707 and parameters: {'max_depth': 9, 'num_leaves': 11, 'n_estimators': 137, 'reg_alpha': 4.797775842845588e-07, 'reg_lambda': 0.0002276678608672667, 'min_child_samples': 11, 'min_child_weight': 4.864776504386874}. Best is trial 1 with value: -0.6268075207021075.\u001b[0m\n",
      "\u001b[32m[I 2023-05-21 05:10:41,741]\u001b[0m Trial 4 finished with value: -0.672550551748897 and parameters: {'max_depth': 6, 'num_leaves': 10, 'n_estimators': 109, 'reg_alpha': 0.00011795707935869978, 'reg_lambda': 0.10913251833517248, 'min_child_samples': 9, 'min_child_weight': 5.0762614032580515}. Best is trial 1 with value: -0.6268075207021075.\u001b[0m\n"
     ]
    },
    {
     "name": "stdout",
     "output_type": "stream",
     "text": [
      "----- Cluster 6 -----\n",
      "RMSE TRAIN: 0.627\n",
      "RMSE VAL: 0.646\n"
     ]
    },
    {
     "name": "stderr",
     "output_type": "stream",
     "text": [
      "\u001b[32m[I 2023-05-21 05:12:43,717]\u001b[0m A new study created in memory with name: no-name-f1abc3bf-e575-469f-9660-68ffa207ca35\u001b[0m\n",
      "\u001b[32m[I 2023-05-21 05:13:02,487]\u001b[0m Trial 0 finished with value: -0.6036868517234363 and parameters: {'max_depth': 10, 'num_leaves': 99, 'n_estimators': 109, 'reg_alpha': 0.013261049818641919, 'reg_lambda': 0.5796967997707857, 'min_child_samples': 15, 'min_child_weight': 9.492703860625026}. Best is trial 0 with value: -0.6036868517234363.\u001b[0m\n",
      "\u001b[32m[I 2023-05-21 05:13:14,085]\u001b[0m Trial 1 finished with value: -0.650901798317116 and parameters: {'max_depth': 4, 'num_leaves': 24, 'n_estimators': 136, 'reg_alpha': 3.130349097950584e-05, 'reg_lambda': 5.677670011742192e-06, 'min_child_samples': 11, 'min_child_weight': 6.549609550952463}. Best is trial 0 with value: -0.6036868517234363.\u001b[0m\n",
      "\u001b[32m[I 2023-05-21 05:13:22,919]\u001b[0m Trial 2 finished with value: -0.7080096578198266 and parameters: {'max_depth': 2, 'num_leaves': 26, 'n_estimators': 106, 'reg_alpha': 0.0664024871841602, 'reg_lambda': 9.483006055982327e-08, 'min_child_samples': 32, 'min_child_weight': 9.931666029679421}. Best is trial 0 with value: -0.6036868517234363.\u001b[0m\n",
      "\u001b[32m[I 2023-05-21 05:13:39,036]\u001b[0m Trial 3 finished with value: -0.6228678426977962 and parameters: {'max_depth': 10, 'num_leaves': 34, 'n_estimators': 141, 'reg_alpha': 3.5654805855657526e-06, 'reg_lambda': 0.525978477221847, 'min_child_samples': 28, 'min_child_weight': 2.8376792549224437}. Best is trial 0 with value: -0.6036868517234363.\u001b[0m\n",
      "\u001b[32m[I 2023-05-21 05:13:53,961]\u001b[0m Trial 4 finished with value: -0.6190021895089787 and parameters: {'max_depth': 7, 'num_leaves': 64, 'n_estimators': 107, 'reg_alpha': 3.1918036501122314e-08, 'reg_lambda': 1.8045483185264266e-08, 'min_child_samples': 48, 'min_child_weight': 9.070097487433966}. Best is trial 0 with value: -0.6036868517234363.\u001b[0m\n"
     ]
    },
    {
     "name": "stdout",
     "output_type": "stream",
     "text": [
      "----- Cluster 7 -----\n",
      "RMSE TRAIN: 0.604\n",
      "RMSE VAL: 0.627\n"
     ]
    },
    {
     "name": "stderr",
     "output_type": "stream",
     "text": [
      "\u001b[32m[I 2023-05-21 05:15:17,623]\u001b[0m A new study created in memory with name: no-name-b8d8f7e8-b831-4103-8e07-7a815ab3f9ae\u001b[0m\n",
      "\u001b[32m[I 2023-05-21 05:15:20,110]\u001b[0m Trial 0 finished with value: -0.5564562508621911 and parameters: {'max_depth': 9, 'num_leaves': 78, 'n_estimators': 130, 'reg_alpha': 0.13553984668324973, 'reg_lambda': 0.00040492869611053763, 'min_child_samples': 29, 'min_child_weight': 5.715421368431086}. Best is trial 0 with value: -0.5564562508621911.\u001b[0m\n",
      "\u001b[32m[I 2023-05-21 05:15:21,500]\u001b[0m Trial 1 finished with value: -0.6610517884044214 and parameters: {'max_depth': 4, 'num_leaves': 43, 'n_estimators': 124, 'reg_alpha': 0.016237629257358752, 'reg_lambda': 1.2346426267112125, 'min_child_samples': 40, 'min_child_weight': 6.24102470353816}. Best is trial 0 with value: -0.5564562508621911.\u001b[0m\n",
      "\u001b[32m[I 2023-05-21 05:15:22,690]\u001b[0m Trial 2 finished with value: -0.6899215095149245 and parameters: {'max_depth': 3, 'num_leaves': 69, 'n_estimators': 117, 'reg_alpha': 2.897184249740328, 'reg_lambda': 2.2535949762330154e-05, 'min_child_samples': 35, 'min_child_weight': 8.439384115273779}. Best is trial 0 with value: -0.5564562508621911.\u001b[0m\n",
      "\u001b[32m[I 2023-05-21 05:15:24,080]\u001b[0m Trial 3 finished with value: -0.6275653756433139 and parameters: {'max_depth': 7, 'num_leaves': 67, 'n_estimators': 67, 'reg_alpha': 0.009533492798228786, 'reg_lambda': 1.812944598495692, 'min_child_samples': 63, 'min_child_weight': 6.307271306095162}. Best is trial 0 with value: -0.5564562508621911.\u001b[0m\n",
      "\u001b[32m[I 2023-05-21 05:15:24,884]\u001b[0m Trial 4 finished with value: -0.9028470052801537 and parameters: {'max_depth': 1, 'num_leaves': 13, 'n_estimators': 62, 'reg_alpha': 1.2968763683752453e-05, 'reg_lambda': 0.04914488769720383, 'min_child_samples': 28, 'min_child_weight': 0.3397369581257086}. Best is trial 0 with value: -0.5564562508621911.\u001b[0m\n"
     ]
    },
    {
     "name": "stdout",
     "output_type": "stream",
     "text": [
      "----- Cluster 8 -----\n",
      "RMSE TRAIN: 0.556\n",
      "RMSE VAL: 0.656\n"
     ]
    }
   ],
   "source": [
    "models = {}\n",
    "for cluster in tqdm(range(9)):\n",
    "    train, test, attr = read_data(cluster)\n",
    "    train = preproc_and_get_features(train, attr)\n",
    "    test = preproc_and_get_features(test, attr)\n",
    "    del attr\n",
    "    model, rmse_train, rmse_val = train_model(train)\n",
    "    models[cluster] = model\n",
    "    model.booster_.save_model(f'./models/cluster_{cluster}_model.txt')\n",
    "    \n",
    "    print(f'----- Cluster {cluster} -----')\n",
    "    print(f'RMSE TRAIN: {rmse_train:.3f}')\n",
    "    print(f'RMSE VAL: {rmse_val:.3f}')"
   ]
  },
  {
   "cell_type": "code",
   "execution_count": 8,
   "id": "33c4146d-6f64-4b2a-ab89-382f701c6459",
   "metadata": {},
   "outputs": [
    {
     "data": {
      "application/vnd.jupyter.widget-view+json": {
       "model_id": "f0eebb279f1a42648c994573991f63c1",
       "version_major": 2,
       "version_minor": 0
      },
      "text/plain": [
       "  0%|          | 0/9 [00:00<?, ?it/s]"
      ]
     },
     "metadata": {},
     "output_type": "display_data"
    }
   ],
   "source": [
    "submition = make_submition()"
   ]
  },
  {
   "cell_type": "code",
   "execution_count": null,
   "id": "71e3c0f7-258a-4f4a-b1a8-1b9a5d9c1518",
   "metadata": {},
   "outputs": [],
   "source": []
  }
 ],
 "metadata": {
  "kernelspec": {
   "display_name": "Python 3 (ipykernel)",
   "language": "python",
   "name": "python3"
  },
  "language_info": {
   "codemirror_mode": {
    "name": "ipython",
    "version": 3
   },
   "file_extension": ".py",
   "mimetype": "text/x-python",
   "name": "python",
   "nbconvert_exporter": "python",
   "pygments_lexer": "ipython3",
   "version": "3.9.6"
  }
 },
 "nbformat": 4,
 "nbformat_minor": 5
}
