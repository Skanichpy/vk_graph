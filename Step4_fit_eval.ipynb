{
 "cells": [
  {
   "cell_type": "code",
   "execution_count": 1,
   "id": "b05a38b6-3dc7-473e-8916-eeccd7faa2d3",
   "metadata": {},
   "outputs": [],
   "source": [
    "import pandas as pd\n",
    "import numpy as np\n",
    "\n",
    "from sklearn.metrics import mean_squared_error\n",
    "from sklearn.model_selection import train_test_split\n",
    "\n",
    "from training.trainer import *\n",
    "import optuna\n",
    "from tqdm.notebook import tqdm"
   ]
  },
  {
   "cell_type": "code",
   "execution_count": 2,
   "id": "9c94effb-81db-475a-9f3c-c2ebafcbda46",
   "metadata": {},
   "outputs": [],
   "source": [
    "def read_data(cluster_num):\n",
    "    df_train = pd.read_parquet(f'./clean_data/train/cluster_{cluster_num}.gz')\n",
    "    df_test = pd.read_parquet(f'./clean_data/test/cluster_{cluster_num}.gz')\n",
    "    df_attr = pd.read_csv('./clean_data/attr.csv')\n",
    "    # soc-dem features u\n",
    "    df_train = df_train.merge(df_attr, \n",
    "                              how = 'left', \n",
    "                              left_on = ['ego_id', 'u'],\n",
    "                              right_on = ['ego_id', 'u']).rename(\n",
    "                                                                columns = {\n",
    "                                                                    'school':     'school_u',\n",
    "                                                                    'university': 'university_u',\n",
    "                                                                    'sex':        'sex_u',\n",
    "                                                                    'city_id':    'city_id_u',\n",
    "                                                                    'age':        'age_u'\n",
    "                                                                    }\n",
    "                                                                )\n",
    "    df_test = df_test.merge(df_attr, \n",
    "                              how = 'left', \n",
    "                              left_on = ['ego_id', 'u'],\n",
    "                              right_on = ['ego_id', 'u']).rename(\n",
    "                                                                columns = {\n",
    "                                                                    'school':     'school_u',\n",
    "                                                                    'university': 'university_u',\n",
    "                                                                    'sex':        'sex_u',\n",
    "                                                                    'city_id':    'city_id_u',\n",
    "                                                                    'age':        'age_u'\n",
    "                                                                    }\n",
    "                                                                )\n",
    "    # soc-dem features v\n",
    "    df_train = df_train.merge(df_attr, \n",
    "                              how = 'left', \n",
    "                              left_on = ['ego_id', 'v'],\n",
    "                              right_on = ['ego_id', 'u']).drop(['u_y'], axis = 1).rename(\n",
    "                                                                columns = {\n",
    "                                                                    'school':     'school_v',\n",
    "                                                                    'university': 'university_v',\n",
    "                                                                    'sex':        'sex_v',\n",
    "                                                                    'city_id':    'city_id_v',\n",
    "                                                                    'age':        'age_v',\n",
    "                                                                    'u_x': 'u'\n",
    "                                                                    }\n",
    "                                                                )\n",
    "    df_test = df_test.merge(df_attr, \n",
    "                              how = 'left', \n",
    "                              left_on = ['ego_id', 'v'],\n",
    "                              right_on = ['ego_id', 'u']).drop(['u_y'], axis = 1).rename(\n",
    "                                                                columns = {\n",
    "                                                                    'school':     'school_v',\n",
    "                                                                    'university': 'university_v',\n",
    "                                                                    'sex':        'sex_v',\n",
    "                                                                    'city_id':    'city_id_v',\n",
    "                                                                    'age':        'age_v',\n",
    "                                                                    'u_x': 'u'\n",
    "                                                                    }\n",
    "                                                                )\n",
    "    return df_train, df_test, df_attr"
   ]
  },
  {
   "cell_type": "code",
   "execution_count": 3,
   "id": "82fc851d-0fcd-49ad-8d5b-ae4e8571326d",
   "metadata": {},
   "outputs": [],
   "source": [
    "def preproc_and_get_features(df, df_attr):\n",
    "    for i in ['city_id_u', 'city_id_v', 'sex_u', 'sex_v', 'school_u', 'university_u', 'university_v', 'school_v', 't']:\n",
    "        df[i].fillna(-1, inplace = True)\n",
    "    iqr = np.quantile(df_attr['age'], 0.75)-np.quantile(df_attr['age'], .25)\n",
    "    m_age = df_attr[~(df_attr['age'].isna())]['age'].median()\n",
    "    df['age_u'].fillna(m_age, inplace = True)\n",
    "    df['age_v'].fillna(m_age, inplace = True)\n",
    "    df.loc[df['age_u']>m_age+1.5*iqr, 'age_u'] = m_age\n",
    "    df.loc[df['age_v']>m_age+1.5*iqr, 'age_v'] = m_age\n",
    "\n",
    "    df.loc[(df['university_u'] == df['university_v']) & (df['university_u'] != -1), 'university_is_equal'] = 1\n",
    "    df.loc[(df['university_u'] == -1) | (df['university_v'] == -1), 'university_is_equal'] = -1\n",
    "    df['university_is_equal'].fillna(0, inplace = True)\n",
    "    \n",
    "    df.loc[(df['school_u'] == df['school_v']) & (df['school_u'] != -1), 'school_is_equal'] = 1\n",
    "    df.loc[(df['school_u'] == -1) | (df['school_v'] == -1), 'school_is_equal'] = -1\n",
    "    df['school_is_equal'].fillna(0, inplace = True)\n",
    "    \n",
    "    df.loc[(df['city_id_u'] == df['city_id_v']) & (df['city_id_u'] != -1), 'city_is_equal'] = 1\n",
    "    df.loc[(df['city_id_v'] == -1) | (df['city_id_u'] == -1), 'city_is_equal'] = -1\n",
    "    df['city_is_equal'].fillna(0, inplace = True)\n",
    "    \n",
    "    df.loc[(df['sex_u'] == df['sex_v']) & (df['sex_v'] != -1), 'sex_is_equal'] = 1\n",
    "    df.loc[(df['sex_u'] == -1) | (df['sex_v'] == -1), 'sex_is_equal'] = -1\n",
    "    df['sex_is_equal'].fillna(0, inplace = True)\n",
    "    \n",
    "    df['age_diff'] = df['age_u']-df['age_v']\n",
    "    df.loc[abs(df['age_diff']) < 1, 'age_diff_1'] = 1\n",
    "    df.loc[~(abs(df['age_diff']) < 1), 'age_diff_1'] = 0\n",
    "    \n",
    "    df.loc[abs(df['age_diff']) < 2, 'age_diff_2'] = 1\n",
    "    df.loc[~(abs(df['age_diff']) < 2), 'age_diff_2'] = 0\n",
    "    \n",
    "    df.loc[abs(df['age_diff']) < 3, 'age_diff_3'] = 1\n",
    "    df.loc[~(abs(df['age_diff']) < 3), 'age_diff_3'] = 0\n",
    "    \n",
    "    df.loc[abs(df['age_diff']) < 4, 'age_diff_4'] = 1\n",
    "    df.loc[~(abs(df['age_diff']) < 4), 'age_diff_4'] = 0\n",
    "    \n",
    "    df.loc[abs(df['age_diff']) < 5, 'age_diff_5'] = 1\n",
    "    df.loc[~(abs(df['age_diff']) < 5), 'age_diff_5'] = 0\n",
    "    \n",
    "    df.loc[abs(df['age_diff']) < 10, 'age_diff_10'] = 1\n",
    "    df.loc[~(abs(df['age_diff']) < 10), 'age_diff_10'] = 0\n",
    "    \n",
    "    df.loc[abs(df['age_diff']) < 15, 'age_diff_15'] = 1\n",
    "    df.loc[~(abs(df['age_diff']) < 15), 'age_diff_15'] = 0\n",
    "    \n",
    "    df.loc[abs(df['age_diff']) < 20, 'age_diff_20'] = 1\n",
    "    df.loc[~(abs(df['age_diff']) < 20), 'age_diff_20'] = 0\n",
    "    \n",
    "    df.loc[abs(df['age_diff']) < 25, 'age_diff_25'] = 1\n",
    "    df.loc[~(abs(df['age_diff']) < 25), 'age_diff_25'] = 0\n",
    "    \n",
    "    df.loc[abs(df['age_diff']) < 30, 'age_diff_30'] = 1\n",
    "    df.loc[~(abs(df['age_diff']) < 30), 'age_diff_30'] = 0\n",
    "    \n",
    "    df.loc[(df['school_is_equal'] == 1) & (df['age_diff_2'] == 1), 'flg_classmates'] = 1\n",
    "    df.loc[~((df['school_is_equal'] == 1) & (df['age_diff_2'] == 1)), 'flg_classmates'] = 0\n",
    "    \n",
    "    df.loc[(df['university_is_equal'] == 1) & (df['age_diff_2'] == 1), 'flg_univermates'] = 1\n",
    "    df.loc[~((df['university_is_equal'] == 1) & (df['age_diff_2'] == 1)), 'flg_univermates'] = 0\n",
    "    \n",
    "    df.loc[df['u']==0, 'from_ego'] = 1\n",
    "    df.loc[~(df['u']==0), 'from_ego'] = 1\n",
    "    df.loc[df['v']==0, 'to_ego'] = 1\n",
    "    df.loc[~(df['v']==0), 'to_ego'] = 1\n",
    "\n",
    "    df.drop(['university_u', 'university_v', 'city_id_u', 'city_id_v', 'school_u', 'school_v'], axis = 1, inplace = True)\n",
    "    return df"
   ]
  },
  {
   "cell_type": "code",
   "execution_count": 4,
   "id": "b6783de9-e97e-4a37-827b-bdb014445968",
   "metadata": {},
   "outputs": [],
   "source": [
    "tech_cols = ['ego_id', 'u', 'v', 'x1']"
   ]
  },
  {
   "cell_type": "code",
   "execution_count": 5,
   "id": "06f95861-7973-4b2f-b5d4-b51f1cbfb235",
   "metadata": {},
   "outputs": [],
   "source": [
    "def train_model(train):\n",
    "    x = train.drop(tech_cols, axis = 1)\n",
    "    y = train['x1']\n",
    "\n",
    "    x_train, x_test, y_train, y_test = train_test_split(x, y, test_size = 0.8, \n",
    "                                                        shuffle = True, random_state = 42)\n",
    "    best_params = calc_hps('LGBM', x_train, y_train, x_test, y_test, 'reg', trials_num = 5)\n",
    "    model = lgb.LGBMRegressor()\n",
    "    model.set_params(**best_params)\n",
    "    model.fit(x_train, y_train)\n",
    "\n",
    "    rmse_train = mean_squared_error(y_train, model.predict(x_train), squared = False)\n",
    "    rmse_test = mean_squared_error(y_test, model.predict(x_test), squared = False)\n",
    "    \n",
    "    return model, rmse_train, rmse_test"
   ]
  },
  {
   "cell_type": "code",
   "execution_count": 6,
   "id": "02f95866-d6b7-4867-8fa7-0e4dff2f5e4a",
   "metadata": {},
   "outputs": [],
   "source": [
    "def make_submition():\n",
    "    df_subm = pd.read_csv('./clean_data/submission.csv')\n",
    "    test_pred = pd.DataFrame(columns = ['ego_id', 'u', 'v', 'pred'])\n",
    "    for cluster in tqdm(range(9)):\n",
    "        _, test, attr = read_data(cluster)\n",
    "        test = preproc_and_get_features(test, attr)\n",
    "        model = lgb.Booster(model_file=f'./models/cluster_{cluster}_model.txt')\n",
    "        test['pred'] = model.predict(test[model.feature_name()])\n",
    "        test_pred = pd.concat([test_pred, test[['ego_id', 'u', 'v', 'pred']]], axis = 0)\n",
    "    df_subm = df_subm.merge(test_pred, how = 'left', left_on = ['ego_id', 'u', 'v'],\n",
    "                           right_on = ['ego_id', 'u', 'v']).drop('x1', axis = 1)\\\n",
    "                .rename(columns = {'pred': 'x1'}).drop_duplicates(['ego_id','u', 'v'], keep='first')[['ego_id', 'u','v', 'x1']]\n",
    "    df_subm.to_csv('./submitions/submition.csv', index = False)\n",
    "    return df_subm"
   ]
  },
  {
   "cell_type": "code",
   "execution_count": 7,
   "id": "a30180cb-75b8-4190-9791-8debeb2e2dfd",
   "metadata": {
    "scrolled": true
   },
   "outputs": [
    {
     "data": {
      "application/vnd.jupyter.widget-view+json": {
       "model_id": "cf42573249ab4bebab2c1f6d6295cda4",
       "version_major": 2,
       "version_minor": 0
      },
      "text/plain": [
       "  0%|          | 0/9 [00:00<?, ?it/s]"
      ]
     },
     "metadata": {},
     "output_type": "display_data"
    },
    {
     "name": "stderr",
     "output_type": "stream",
     "text": [
      "\u001b[32m[I 2023-05-21 05:39:37,646]\u001b[0m A new study created in memory with name: no-name-5b80dbb8-87bc-4c28-b69f-9f0e924065c8\u001b[0m\n",
      "\u001b[32m[I 2023-05-21 05:39:45,881]\u001b[0m Trial 0 finished with value: -0.6946038967059192 and parameters: {'max_depth': 5, 'num_leaves': 77, 'n_estimators': 51, 'reg_alpha': 2.0279124388934814e-06, 'reg_lambda': 8.31978304684231e-05, 'min_child_samples': 51, 'min_child_weight': 5.56115387155981}. Best is trial 0 with value: -0.6946038967059192.\u001b[0m\n",
      "\u001b[32m[I 2023-05-21 05:40:01,616]\u001b[0m Trial 1 finished with value: -0.6646759989570522 and parameters: {'max_depth': 10, 'num_leaves': 34, 'n_estimators': 164, 'reg_alpha': 6.50654872235369e-05, 'reg_lambda': 6.800057268745558e-05, 'min_child_samples': 10, 'min_child_weight': 3.8276430589065074}. Best is trial 1 with value: -0.6646759989570522.\u001b[0m\n",
      "\u001b[32m[I 2023-05-21 05:40:07,997]\u001b[0m Trial 2 finished with value: -0.8402371718088049 and parameters: {'max_depth': 1, 'num_leaves': 99, 'n_estimators': 141, 'reg_alpha': 0.0032262975990217393, 'reg_lambda': 6.599582848236507e-08, 'min_child_samples': 49, 'min_child_weight': 1.1320875460750872}. Best is trial 1 with value: -0.6646759989570522.\u001b[0m\n",
      "\u001b[32m[I 2023-05-21 05:40:19,255]\u001b[0m Trial 3 finished with value: -0.674023421202517 and parameters: {'max_depth': 5, 'num_leaves': 39, 'n_estimators': 138, 'reg_alpha': 0.002133496440134166, 'reg_lambda': 0.0012792583367689677, 'min_child_samples': 59, 'min_child_weight': 2.110439648532514}. Best is trial 1 with value: -0.6646759989570522.\u001b[0m\n",
      "\u001b[32m[I 2023-05-21 05:40:34,981]\u001b[0m Trial 4 finished with value: -0.6608387400658221 and parameters: {'max_depth': 9, 'num_leaves': 67, 'n_estimators': 161, 'reg_alpha': 2.5324419791567523e-08, 'reg_lambda': 0.00030920274424879563, 'min_child_samples': 6, 'min_child_weight': 3.869745535940962}. Best is trial 4 with value: -0.6608387400658221.\u001b[0m\n"
     ]
    },
    {
     "name": "stdout",
     "output_type": "stream",
     "text": [
      "----- Cluster 0 -----\n",
      "RMSE TRAIN: 0.608\n",
      "RMSE VAL: 0.661\n"
     ]
    },
    {
     "name": "stderr",
     "output_type": "stream",
     "text": [
      "\u001b[32m[I 2023-05-21 05:41:25,292]\u001b[0m A new study created in memory with name: no-name-7ecec78f-4d40-43e1-bdec-2ba845aeede6\u001b[0m\n",
      "\u001b[32m[I 2023-05-21 05:41:28,367]\u001b[0m Trial 0 finished with value: -0.7692628526110515 and parameters: {'max_depth': 2, 'num_leaves': 50, 'n_estimators': 158, 'reg_alpha': 0.00042321451389922075, 'reg_lambda': 1.9453873937777516e-07, 'min_child_samples': 29, 'min_child_weight': 7.324401979644921}. Best is trial 0 with value: -0.7692628526110515.\u001b[0m\n",
      "\u001b[32m[I 2023-05-21 05:41:36,500]\u001b[0m Trial 1 finished with value: -0.6848939650917628 and parameters: {'max_depth': 10, 'num_leaves': 89, 'n_estimators': 145, 'reg_alpha': 0.006528053981966564, 'reg_lambda': 1.6221845543658377, 'min_child_samples': 60, 'min_child_weight': 4.20332407239607}. Best is trial 1 with value: -0.6848939650917628.\u001b[0m\n",
      "\u001b[32m[I 2023-05-21 05:41:44,179]\u001b[0m Trial 2 finished with value: -0.6853094378064937 and parameters: {'max_depth': 8, 'num_leaves': 63, 'n_estimators': 172, 'reg_alpha': 0.1790999316649408, 'reg_lambda': 0.020593245743864477, 'min_child_samples': 44, 'min_child_weight': 6.542368389384444}. Best is trial 1 with value: -0.6848939650917628.\u001b[0m\n",
      "\u001b[32m[I 2023-05-21 05:41:48,719]\u001b[0m Trial 3 finished with value: -0.6871984793352277 and parameters: {'max_depth': 9, 'num_leaves': 92, 'n_estimators': 71, 'reg_alpha': 0.12555837791904395, 'reg_lambda': 0.013950711435220755, 'min_child_samples': 28, 'min_child_weight': 4.3198914017283085}. Best is trial 1 with value: -0.6848939650917628.\u001b[0m\n",
      "\u001b[32m[I 2023-05-21 05:41:54,792]\u001b[0m Trial 4 finished with value: -0.6860709316267557 and parameters: {'max_depth': 10, 'num_leaves': 87, 'n_estimators': 102, 'reg_alpha': 1.3011942393587183e-07, 'reg_lambda': 0.11394246097261565, 'min_child_samples': 66, 'min_child_weight': 5.724869702528351}. Best is trial 1 with value: -0.6848939650917628.\u001b[0m\n"
     ]
    },
    {
     "name": "stdout",
     "output_type": "stream",
     "text": [
      "----- Cluster 1 -----\n",
      "RMSE TRAIN: 0.611\n",
      "RMSE VAL: 0.685\n"
     ]
    },
    {
     "name": "stderr",
     "output_type": "stream",
     "text": [
      "\u001b[32m[I 2023-05-21 05:43:51,557]\u001b[0m A new study created in memory with name: no-name-7f501d4f-15d6-4f1f-82b3-9d4a15dd50bf\u001b[0m\n",
      "\u001b[32m[I 2023-05-21 05:44:45,659]\u001b[0m Trial 0 finished with value: -0.6270992909900679 and parameters: {'max_depth': 10, 'num_leaves': 48, 'n_estimators': 136, 'reg_alpha': 0.002758590586016117, 'reg_lambda': 6.330186502947234, 'min_child_samples': 18, 'min_child_weight': 4.917571884382152}. Best is trial 0 with value: -0.6270992909900679.\u001b[0m\n",
      "\u001b[32m[I 2023-05-21 05:45:15,186]\u001b[0m Trial 1 finished with value: -0.7600565210807675 and parameters: {'max_depth': 1, 'num_leaves': 31, 'n_estimators': 174, 'reg_alpha': 0.0006420367303344119, 'reg_lambda': 0.0025840313986855777, 'min_child_samples': 70, 'min_child_weight': 6.973166037054832}. Best is trial 0 with value: -0.6270992909900679.\u001b[0m\n",
      "\u001b[32m[I 2023-05-21 05:45:46,842]\u001b[0m Trial 2 finished with value: -0.6358220082542136 and parameters: {'max_depth': 7, 'num_leaves': 78, 'n_estimators': 56, 'reg_alpha': 0.00025752452701894137, 'reg_lambda': 0.0034133010192311237, 'min_child_samples': 30, 'min_child_weight': 6.348998383156759}. Best is trial 0 with value: -0.6270992909900679.\u001b[0m\n",
      "\u001b[32m[I 2023-05-21 05:46:21,186]\u001b[0m Trial 3 finished with value: -0.6325756544757782 and parameters: {'max_depth': 10, 'num_leaves': 82, 'n_estimators': 54, 'reg_alpha': 0.49906738923943866, 'reg_lambda': 0.044973002257100096, 'min_child_samples': 14, 'min_child_weight': 6.761485736531277}. Best is trial 0 with value: -0.6270992909900679.\u001b[0m\n",
      "\u001b[32m[I 2023-05-21 05:46:55,738]\u001b[0m Trial 4 finished with value: -0.7551268824158862 and parameters: {'max_depth': 1, 'num_leaves': 45, 'n_estimators': 198, 'reg_alpha': 0.01277739842882017, 'reg_lambda': 8.303593934896914e-08, 'min_child_samples': 38, 'min_child_weight': 9.409230280288178}. Best is trial 0 with value: -0.6270992909900679.\u001b[0m\n"
     ]
    },
    {
     "name": "stdout",
     "output_type": "stream",
     "text": [
      "----- Cluster 2 -----\n",
      "RMSE TRAIN: 0.617\n",
      "RMSE VAL: 0.627\n"
     ]
    },
    {
     "name": "stderr",
     "output_type": "stream",
     "text": [
      "\u001b[32m[I 2023-05-21 05:49:05,184]\u001b[0m A new study created in memory with name: no-name-98bbc715-aa93-4067-a4a5-41771f3df387\u001b[0m\n",
      "\u001b[32m[I 2023-05-21 05:49:40,170]\u001b[0m Trial 0 finished with value: -0.6280703630633573 and parameters: {'max_depth': 9, 'num_leaves': 98, 'n_estimators': 77, 'reg_alpha': 2.622918703137743e-07, 'reg_lambda': 1.1248718039155068e-07, 'min_child_samples': 63, 'min_child_weight': 1.7946358367006463}. Best is trial 0 with value: -0.6280703630633573.\u001b[0m\n",
      "\u001b[32m[I 2023-05-21 05:49:58,739]\u001b[0m Trial 1 finished with value: -0.655983223755255 and parameters: {'max_depth': 7, 'num_leaves': 18, 'n_estimators': 64, 'reg_alpha': 0.019033012384035982, 'reg_lambda': 0.1143062348061024, 'min_child_samples': 21, 'min_child_weight': 1.6056678173047667}. Best is trial 0 with value: -0.6280703630633573.\u001b[0m\n",
      "\u001b[32m[I 2023-05-21 05:50:14,101]\u001b[0m Trial 2 finished with value: -0.6815886027506376 and parameters: {'max_depth': 3, 'num_leaves': 55, 'n_estimators': 77, 'reg_alpha': 0.003111301266539872, 'reg_lambda': 7.611043133964228, 'min_child_samples': 7, 'min_child_weight': 0.9406122341641666}. Best is trial 0 with value: -0.6280703630633573.\u001b[0m\n",
      "\u001b[32m[I 2023-05-21 05:50:36,063]\u001b[0m Trial 3 finished with value: -0.7676647425959825 and parameters: {'max_depth': 1, 'num_leaves': 18, 'n_estimators': 181, 'reg_alpha': 2.736161353564554e-08, 'reg_lambda': 1.4995408983479803, 'min_child_samples': 69, 'min_child_weight': 9.143291364651514}. Best is trial 0 with value: -0.6280703630633573.\u001b[0m\n",
      "\u001b[32m[I 2023-05-21 05:51:18,744]\u001b[0m Trial 4 finished with value: -0.6240643390135733 and parameters: {'max_depth': 9, 'num_leaves': 84, 'n_estimators': 150, 'reg_alpha': 0.00030160494830081485, 'reg_lambda': 3.1983320005566474e-05, 'min_child_samples': 40, 'min_child_weight': 7.2249073475935015}. Best is trial 4 with value: -0.6240643390135733.\u001b[0m\n"
     ]
    },
    {
     "name": "stdout",
     "output_type": "stream",
     "text": [
      "----- Cluster 3 -----\n",
      "RMSE TRAIN: 0.598\n",
      "RMSE VAL: 0.624\n"
     ]
    },
    {
     "name": "stderr",
     "output_type": "stream",
     "text": [
      "\u001b[32m[I 2023-05-21 05:52:52,179]\u001b[0m A new study created in memory with name: no-name-158ea547-4d1b-4ad9-8592-f08e53c382d6\u001b[0m\n",
      "\u001b[32m[I 2023-05-21 05:53:18,221]\u001b[0m Trial 0 finished with value: -0.651523845750466 and parameters: {'max_depth': 9, 'num_leaves': 75, 'n_estimators': 161, 'reg_alpha': 1.6531294713133527e-05, 'reg_lambda': 0.627829810183127, 'min_child_samples': 38, 'min_child_weight': 0.11472038288336685}. Best is trial 0 with value: -0.651523845750466.\u001b[0m\n",
      "\u001b[32m[I 2023-05-21 05:53:35,075]\u001b[0m Trial 1 finished with value: -0.6579018635504349 and parameters: {'max_depth': 6, 'num_leaves': 51, 'n_estimators': 176, 'reg_alpha': 0.0061946988212798525, 'reg_lambda': 0.002206721657149849, 'min_child_samples': 64, 'min_child_weight': 7.037110570434314}. Best is trial 0 with value: -0.651523845750466.\u001b[0m\n",
      "\u001b[32m[I 2023-05-21 05:53:45,187]\u001b[0m Trial 2 finished with value: -0.69689981439149 and parameters: {'max_depth': 3, 'num_leaves': 61, 'n_estimators': 150, 'reg_alpha': 0.0004481774499943793, 'reg_lambda': 4.361140679886353e-05, 'min_child_samples': 63, 'min_child_weight': 8.460709659282424}. Best is trial 0 with value: -0.651523845750466.\u001b[0m\n",
      "\u001b[32m[I 2023-05-21 05:54:03,717]\u001b[0m Trial 3 finished with value: -0.656233922409414 and parameters: {'max_depth': 7, 'num_leaves': 72, 'n_estimators': 128, 'reg_alpha': 0.00018260393635490885, 'reg_lambda': 2.0003870516198576, 'min_child_samples': 26, 'min_child_weight': 3.891333217964556}. Best is trial 0 with value: -0.651523845750466.\u001b[0m\n",
      "\u001b[32m[I 2023-05-21 05:54:18,656]\u001b[0m Trial 4 finished with value: -0.659164548316243 and parameters: {'max_depth': 6, 'num_leaves': 100, 'n_estimators': 147, 'reg_alpha': 1.4014613649505409e-08, 'reg_lambda': 0.0012906202585616269, 'min_child_samples': 50, 'min_child_weight': 0.11950175733811368}. Best is trial 0 with value: -0.651523845750466.\u001b[0m\n"
     ]
    },
    {
     "name": "stdout",
     "output_type": "stream",
     "text": [
      "----- Cluster 4 -----\n",
      "RMSE TRAIN: 0.597\n",
      "RMSE VAL: 0.652\n"
     ]
    },
    {
     "name": "stderr",
     "output_type": "stream",
     "text": [
      "\u001b[32m[I 2023-05-21 05:56:50,786]\u001b[0m A new study created in memory with name: no-name-2f0d0527-ae49-4b90-a86c-3f92ee55228f\u001b[0m\n",
      "\u001b[32m[I 2023-05-21 05:58:05,666]\u001b[0m Trial 0 finished with value: -0.6309788272391964 and parameters: {'max_depth': 10, 'num_leaves': 86, 'n_estimators': 109, 'reg_alpha': 0.05343639003627918, 'reg_lambda': 4.178470548413366, 'min_child_samples': 20, 'min_child_weight': 4.060815797788485}. Best is trial 0 with value: -0.6309788272391964.\u001b[0m\n",
      "\u001b[32m[I 2023-05-21 05:58:51,415]\u001b[0m Trial 1 finished with value: -0.6549598380515054 and parameters: {'max_depth': 5, 'num_leaves': 23, 'n_estimators': 90, 'reg_alpha': 0.001956918850194811, 'reg_lambda': 0.00026169461796316396, 'min_child_samples': 54, 'min_child_weight': 8.620905752282066}. Best is trial 0 with value: -0.6309788272391964.\u001b[0m\n",
      "\u001b[32m[I 2023-05-21 05:59:39,583]\u001b[0m Trial 2 finished with value: -0.6512874116877844 and parameters: {'max_depth': 4, 'num_leaves': 23, 'n_estimators': 184, 'reg_alpha': 6.458643098302497, 'reg_lambda': 6.247214272047393e-05, 'min_child_samples': 53, 'min_child_weight': 8.156203299884615}. Best is trial 0 with value: -0.6309788272391964.\u001b[0m\n",
      "\u001b[32m[I 2023-05-21 06:00:12,361]\u001b[0m Trial 3 finished with value: -0.674406404824274 and parameters: {'max_depth': 3, 'num_leaves': 27, 'n_estimators': 132, 'reg_alpha': 1.2122055774125414e-05, 'reg_lambda': 0.0027873555063542316, 'min_child_samples': 5, 'min_child_weight': 9.305274642962875}. Best is trial 0 with value: -0.6309788272391964.\u001b[0m\n",
      "\u001b[32m[I 2023-05-21 06:00:49,294]\u001b[0m Trial 4 finished with value: -0.6434422956988521 and parameters: {'max_depth': 9, 'num_leaves': 33, 'n_estimators': 86, 'reg_alpha': 0.22669424666074015, 'reg_lambda': 5.418652915848651e-06, 'min_child_samples': 7, 'min_child_weight': 7.386622196709528}. Best is trial 0 with value: -0.6309788272391964.\u001b[0m\n"
     ]
    },
    {
     "name": "stdout",
     "output_type": "stream",
     "text": [
      "----- Cluster 5 -----\n",
      "RMSE TRAIN: 0.610\n",
      "RMSE VAL: 0.631\n"
     ]
    },
    {
     "name": "stderr",
     "output_type": "stream",
     "text": [
      "\u001b[32m[I 2023-05-21 06:02:32,184]\u001b[0m A new study created in memory with name: no-name-c17b4ef6-f2c5-4cab-9481-49d29b0a0d7e\u001b[0m\n",
      "\u001b[32m[I 2023-05-21 06:02:46,868]\u001b[0m Trial 0 finished with value: -0.6502562786949133 and parameters: {'max_depth': 7, 'num_leaves': 34, 'n_estimators': 107, 'reg_alpha': 5.1502187112246354e-05, 'reg_lambda': 8.042705287944094e-07, 'min_child_samples': 51, 'min_child_weight': 4.136549631706926}. Best is trial 0 with value: -0.6502562786949133.\u001b[0m\n",
      "\u001b[32m[I 2023-05-21 06:02:55,628]\u001b[0m Trial 1 finished with value: -0.722590591188346 and parameters: {'max_depth': 2, 'num_leaves': 82, 'n_estimators': 132, 'reg_alpha': 0.012197883875131809, 'reg_lambda': 3.582107327827566e-06, 'min_child_samples': 67, 'min_child_weight': 0.29454269072538536}. Best is trial 0 with value: -0.6502562786949133.\u001b[0m\n",
      "\u001b[32m[I 2023-05-21 06:03:08,845]\u001b[0m Trial 2 finished with value: -0.6543685885483624 and parameters: {'max_depth': 5, 'num_leaves': 77, 'n_estimators': 130, 'reg_alpha': 3.3200576862063733, 'reg_lambda': 6.868130139146142e-06, 'min_child_samples': 66, 'min_child_weight': 4.930021923664733}. Best is trial 0 with value: -0.6502562786949133.\u001b[0m\n",
      "\u001b[32m[I 2023-05-21 06:03:14,446]\u001b[0m Trial 3 finished with value: -0.8759254124689037 and parameters: {'max_depth': 1, 'num_leaves': 11, 'n_estimators': 58, 'reg_alpha': 2.2275324006988994e-07, 'reg_lambda': 3.6200281537714507, 'min_child_samples': 17, 'min_child_weight': 2.4771531347519216}. Best is trial 0 with value: -0.6502562786949133.\u001b[0m\n",
      "\u001b[32m[I 2023-05-21 06:03:21,228]\u001b[0m Trial 4 finished with value: -0.8252560795670785 and parameters: {'max_depth': 1, 'num_leaves': 88, 'n_estimators': 109, 'reg_alpha': 0.005191524421875826, 'reg_lambda': 0.013504192168639595, 'min_child_samples': 52, 'min_child_weight': 4.160445572626539}. Best is trial 0 with value: -0.6502562786949133.\u001b[0m\n"
     ]
    },
    {
     "name": "stdout",
     "output_type": "stream",
     "text": [
      "----- Cluster 6 -----\n",
      "RMSE TRAIN: 0.637\n",
      "RMSE VAL: 0.650\n"
     ]
    },
    {
     "name": "stderr",
     "output_type": "stream",
     "text": [
      "\u001b[32m[I 2023-05-21 06:05:20,898]\u001b[0m A new study created in memory with name: no-name-a97c35f4-b61b-46c5-bc00-55ee4a8167b6\u001b[0m\n",
      "\u001b[32m[I 2023-05-21 06:05:54,237]\u001b[0m Trial 0 finished with value: -0.7852189901624597 and parameters: {'max_depth': 1, 'num_leaves': 36, 'n_estimators': 117, 'reg_alpha': 0.00016281837657437873, 'reg_lambda': 1.2828194536079013e-07, 'min_child_samples': 10, 'min_child_weight': 3.8680849691169845}. Best is trial 0 with value: -0.7852189901624597.\u001b[0m\n",
      "\u001b[32m[I 2023-05-21 06:06:36,488]\u001b[0m Trial 1 finished with value: -0.6400988693405734 and parameters: {'max_depth': 6, 'num_leaves': 89, 'n_estimators': 82, 'reg_alpha': 2.8190045457371753e-05, 'reg_lambda': 7.61616333967245e-07, 'min_child_samples': 23, 'min_child_weight': 2.0408221840806284}. Best is trial 1 with value: -0.6400988693405734.\u001b[0m\n",
      "\u001b[32m[I 2023-05-21 06:07:20,565]\u001b[0m Trial 2 finished with value: -0.6391493379787145 and parameters: {'max_depth': 9, 'num_leaves': 29, 'n_estimators': 109, 'reg_alpha': 2.4716177439220605e-08, 'reg_lambda': 0.23184544734005255, 'min_child_samples': 58, 'min_child_weight': 5.160894148185879}. Best is trial 2 with value: -0.6391493379787145.\u001b[0m\n",
      "\u001b[32m[I 2023-05-21 06:07:52,825]\u001b[0m Trial 3 finished with value: -0.7026755111265042 and parameters: {'max_depth': 2, 'num_leaves': 60, 'n_estimators': 130, 'reg_alpha': 1.9857956670680876e-05, 'reg_lambda': 1.612186358762161, 'min_child_samples': 65, 'min_child_weight': 4.2135361545090255}. Best is trial 2 with value: -0.6391493379787145.\u001b[0m\n",
      "\u001b[32m[I 2023-05-21 06:08:23,505]\u001b[0m Trial 4 finished with value: -0.6728190877706269 and parameters: {'max_depth': 3, 'num_leaves': 23, 'n_estimators': 117, 'reg_alpha': 0.057944834001728965, 'reg_lambda': 7.838113945327042e-07, 'min_child_samples': 31, 'min_child_weight': 6.574871511667353}. Best is trial 2 with value: -0.6391493379787145.\u001b[0m\n"
     ]
    },
    {
     "name": "stdout",
     "output_type": "stream",
     "text": [
      "----- Cluster 7 -----\n",
      "RMSE TRAIN: 0.631\n",
      "RMSE VAL: 0.639\n"
     ]
    },
    {
     "name": "stderr",
     "output_type": "stream",
     "text": [
      "\u001b[32m[I 2023-05-21 06:09:30,597]\u001b[0m A new study created in memory with name: no-name-e92f82cd-c169-454f-9911-124f75661d6e\u001b[0m\n",
      "\u001b[32m[I 2023-05-21 06:09:36,053]\u001b[0m Trial 0 finished with value: -0.6592336258876853 and parameters: {'max_depth': 7, 'num_leaves': 53, 'n_estimators': 177, 'reg_alpha': 1.8996414067427207e-06, 'reg_lambda': 0.1006861986736221, 'min_child_samples': 51, 'min_child_weight': 1.8336229123970575}. Best is trial 0 with value: -0.6592336258876853.\u001b[0m\n",
      "\u001b[32m[I 2023-05-21 06:09:39,929]\u001b[0m Trial 1 finished with value: -0.6563610688653171 and parameters: {'max_depth': 9, 'num_leaves': 81, 'n_estimators': 98, 'reg_alpha': 0.6573537329229889, 'reg_lambda': 8.211224931841161e-06, 'min_child_samples': 29, 'min_child_weight': 0.9771519241303217}. Best is trial 1 with value: -0.6563610688653171.\u001b[0m\n",
      "\u001b[32m[I 2023-05-21 06:09:42,747]\u001b[0m Trial 2 finished with value: -0.6728359688939499 and parameters: {'max_depth': 5, 'num_leaves': 90, 'n_estimators': 100, 'reg_alpha': 0.27544057694644875, 'reg_lambda': 3.8058590382786035e-05, 'min_child_samples': 62, 'min_child_weight': 1.399320309392809}. Best is trial 1 with value: -0.6563610688653171.\u001b[0m\n",
      "\u001b[32m[I 2023-05-21 06:09:44,868]\u001b[0m Trial 3 finished with value: -0.6879364511416348 and parameters: {'max_depth': 10, 'num_leaves': 12, 'n_estimators': 78, 'reg_alpha': 0.009414501282817058, 'reg_lambda': 2.91141163766983e-06, 'min_child_samples': 70, 'min_child_weight': 0.6951420132439534}. Best is trial 1 with value: -0.6563610688653171.\u001b[0m\n",
      "\u001b[32m[I 2023-05-21 06:09:46,880]\u001b[0m Trial 4 finished with value: -0.8470722875032939 and parameters: {'max_depth': 1, 'num_leaves': 44, 'n_estimators': 140, 'reg_alpha': 5.13097625065008e-05, 'reg_lambda': 2.784169825287333e-08, 'min_child_samples': 15, 'min_child_weight': 3.8395359415130152}. Best is trial 1 with value: -0.6563610688653171.\u001b[0m\n"
     ]
    },
    {
     "name": "stdout",
     "output_type": "stream",
     "text": [
      "----- Cluster 8 -----\n",
      "RMSE TRAIN: 0.570\n",
      "RMSE VAL: 0.656\n"
     ]
    }
   ],
   "source": [
    "models = {}\n",
    "for cluster in tqdm(range(9)):\n",
    "    train, test, attr = read_data(cluster)\n",
    "    train = preproc_and_get_features(train, attr)\n",
    "    test = preproc_and_get_features(test, attr)\n",
    "    del attr\n",
    "    model, rmse_train, rmse_val = train_model(train)\n",
    "    models[cluster] = model\n",
    "    model.booster_.save_model(f'./models/cluster_{cluster}_model.txt')\n",
    "    \n",
    "    print(f'----- Cluster {cluster} -----')\n",
    "    print(f'RMSE TRAIN: {rmse_train:.3f}')\n",
    "    print(f'RMSE VAL: {rmse_val:.3f}')"
   ]
  },
  {
   "cell_type": "code",
   "execution_count": 8,
   "id": "33c4146d-6f64-4b2a-ab89-382f701c6459",
   "metadata": {},
   "outputs": [
    {
     "data": {
      "application/vnd.jupyter.widget-view+json": {
       "model_id": "b1939bc945954abc877687b82a63cd5d",
       "version_major": 2,
       "version_minor": 0
      },
      "text/plain": [
       "  0%|          | 0/9 [00:00<?, ?it/s]"
      ]
     },
     "metadata": {},
     "output_type": "display_data"
    }
   ],
   "source": [
    "submition = make_submition()"
   ]
  },
  {
   "cell_type": "code",
   "execution_count": null,
   "id": "71e3c0f7-258a-4f4a-b1a8-1b9a5d9c1518",
   "metadata": {},
   "outputs": [],
   "source": []
  }
 ],
 "metadata": {
  "kernelspec": {
   "display_name": "Python 3 (ipykernel)",
   "language": "python",
   "name": "python3"
  },
  "language_info": {
   "codemirror_mode": {
    "name": "ipython",
    "version": 3
   },
   "file_extension": ".py",
   "mimetype": "text/x-python",
   "name": "python",
   "nbconvert_exporter": "python",
   "pygments_lexer": "ipython3",
   "version": "3.9.6"
  }
 },
 "nbformat": 4,
 "nbformat_minor": 5
}
