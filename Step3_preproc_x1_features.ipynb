{
 "cells": [
  {
   "cell_type": "code",
   "execution_count": 9,
   "id": "daec0af7-bd09-473e-9eae-92067dea4e28",
   "metadata": {},
   "outputs": [],
   "source": [
    "## data handlers:\n",
    "import pandas as pd \n",
    "\n",
    "## support: \n",
    "import os \n",
    "from tqdm import tqdm"
   ]
  },
  {
   "cell_type": "code",
   "execution_count": 42,
   "id": "18bd4b37-b131-4626-93d0-c4056a1763c7",
   "metadata": {},
   "outputs": [],
   "source": [
    "PATH2PARQUETS = '../../data/graph_features'\n",
    "PATH2TEST_CLUSTERING = '../../data/clustering_result_test.csv'\n",
    "\n",
    "def get_x1_features(path): \n",
    "    gz_files = os.listdir(path)\n",
    "    df_list = list()\n",
    "    for gz_file in tqdm(gz_files, desc='reading x1 based features'):\n",
    "        df_list.append(\n",
    "            pd.read_parquet(f'{path}/{gz_file}')\n",
    "        )\n",
    "    return pd.concat(df_list)\n",
    "\n",
    "def preproc_x1_features(x1_features: pd.DataFrame): \n",
    "    x1_features['t'] = x1_features['t'].fillna(-1) \n",
    "    \n",
    "    train_data = x1_features[x1_features.x1.notna()]\n",
    "    test_data = x1_features[x1_features.x1.isna()]\n",
    "    \n",
    "    train_data = train_data.fillna(0)\n",
    "    test_data = test_data.fillna(0)\n",
    "\n",
    "    test_data = test_data.drop('x1', axis=1)\n",
    "\n",
    "    return train_data, test_data \n",
    "\n",
    "def add_clustering_to_train_test(train_data, test_data,\n",
    "                                 clustering): \n",
    "    train_data = train_data.merge(clustering,\n",
    "                                  left_on=['ego_id'],\n",
    "                                  right_on=['ego_id'],\n",
    "                                  how='left') \n",
    "                                     \n",
    "    test_data = test_data.merge(clustering,\n",
    "                                left_on=['ego_id'],\n",
    "                                right_on=['ego_id'],\n",
    "                                how='left')\n",
    "                                     \n",
    "    return train_data, test_data\n",
    "\n",
    "def write_data_to_dir_with_clustering(data, type_='train',\n",
    "                                      folder_name='clean_data') -> None:\n",
    "    assert 'cluster' in data\n",
    "    if folder_name not in os.listdir(): \n",
    "        os.mkdir(folder_name)\n",
    "\n",
    "    if type_ not in os.listdir(folder_name):\n",
    "        os.mkdir(f'{folder_name}/{type_}')\n",
    "        \n",
    "    for cluster in tqdm(data['cluster'].unique(), desc=f'writing {type_} files'): \n",
    "        data_sliced = data[data['cluster'] == cluster].reset_index(drop=True) \n",
    "        data_sliced.to_parquet(f'{folder_name}/{type_}/cluster_{cluster}.gz',\n",
    "                               index=False) \n",
    "        \n"
   ]
  },
  {
   "cell_type": "code",
   "execution_count": 44,
   "id": "cc82997f-df21-46a7-b5ef-6bbab46d71cb",
   "metadata": {},
   "outputs": [
    {
     "name": "stderr",
     "output_type": "stream",
     "text": [
      "reading x1 based features: 100%|██████████| 9/9 [00:04<00:00,  2.12it/s]\n",
      "writing train files: 100%|██████████| 9/9 [00:36<00:00,  4.07s/it]\n",
      "writing test files: 100%|██████████| 9/9 [00:12<00:00,  1.34s/it]\n"
     ]
    }
   ],
   "source": [
    "x1_features = get_x1_features(PATH2PARQUETS) \n",
    "clustering = pd.read_csv(PATH2TEST_CLUSTERING)\n",
    "train_data, test_data = preproc_x1_features(x1_features)\n",
    "train_data, test_data = add_clustering_to_train_test(train_data, test_data,\n",
    "                                                     clustering)\n",
    "write_data_to_dir_with_clustering(train_data, type_='train')\n",
    "write_data_to_dir_with_clustering(test_data, type_='test')"
   ]
  }
 ],
 "metadata": {
  "kernelspec": {
   "display_name": "Python 3 (ipykernel)",
   "language": "python",
   "name": "python3"
  },
  "language_info": {
   "codemirror_mode": {
    "name": "ipython",
    "version": 3
   },
   "file_extension": ".py",
   "mimetype": "text/x-python",
   "name": "python",
   "nbconvert_exporter": "python",
   "pygments_lexer": "ipython3",
   "version": "3.10.6"
  }
 },
 "nbformat": 4,
 "nbformat_minor": 5
}
