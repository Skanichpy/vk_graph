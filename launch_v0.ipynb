{
 "cells": [
  {
   "cell_type": "code",
   "execution_count": 77,
   "metadata": {},
   "outputs": [],
   "source": [
    "from sklearn.linear_model import LogisticRegression\n",
    "from sklearn.neighbors import KNeighborsClassifier\n",
    "from sklearn.tree import DecisionTreeClassifier\n",
    "\n",
    "from sklearn.datasets import make_classification \n",
    "from sklearn.model_selection import train_test_split\n",
    "from sklearn.metrics import roc_auc_score, accuracy_score, f1_score\n",
    "\n",
    "import pandas as pd\n",
    "import sklearn.exceptions as se \n",
    "import warnings \n",
    "\n",
    "warnings.filterwarnings(action='ignore', category=se.DataConversionWarning)"
   ]
  },
  {
   "attachments": {},
   "cell_type": "markdown",
   "metadata": {},
   "source": [
    "## p1. <b>Training</b>:"
   ]
  },
  {
   "cell_type": "code",
   "execution_count": 60,
   "metadata": {},
   "outputs": [],
   "source": [
    "# %load_ext autoreload\n",
    "# %autoreload 2\n",
    "\n",
    "import meta_modeling as mm\n",
    "from meta_modeling.kfolds import KFoldsIterator\n"
   ]
  },
  {
   "cell_type": "code",
   "execution_count": 63,
   "metadata": {},
   "outputs": [],
   "source": [
    "X, y = make_classification(n_samples=200, n_features=32, n_classes=2)\n",
    "X = pd.DataFrame(X)\n",
    "y = pd.DataFrame(y)\n",
    "\n",
    "X_train, X_test, y_train, y_test = train_test_split(X, y, test_size=.2)\n"
   ]
  },
  {
   "cell_type": "code",
   "execution_count": 72,
   "metadata": {},
   "outputs": [
    {
     "name": "stdout",
     "output_type": "stream",
     "text": [
      "Fold: 0\n",
      "X_cur_train.shape = (128, 32)\n",
      "X_cur_val.shape = (32, 32)\n",
      "y_cur_train.shape = (128, 1)\n",
      "y_cur_val.shape = (32, 1)\n",
      "Fold: 1\n",
      "X_cur_train.shape = (128, 32)\n",
      "X_cur_val.shape = (32, 32)\n",
      "y_cur_train.shape = (128, 1)\n",
      "y_cur_val.shape = (32, 1)\n",
      "Fold: 2\n",
      "X_cur_train.shape = (128, 32)\n",
      "X_cur_val.shape = (32, 32)\n",
      "y_cur_train.shape = (128, 1)\n",
      "y_cur_val.shape = (32, 1)\n",
      "Fold: 3\n",
      "X_cur_train.shape = (128, 32)\n",
      "X_cur_val.shape = (32, 32)\n",
      "y_cur_train.shape = (128, 1)\n",
      "y_cur_val.shape = (32, 1)\n",
      "Fold: 4\n",
      "X_cur_train.shape = (128, 32)\n",
      "X_cur_val.shape = (32, 32)\n",
      "y_cur_train.shape = (128, 1)\n",
      "y_cur_val.shape = (32, 1)\n"
     ]
    }
   ],
   "source": [
    "data_iter =KFoldsIterator(n_splits=5, X_train=X_train, \n",
    "                          y_train=y_train)\n",
    "\n",
    "for fold_idx, ((X_fold_train, X_fold_val), (y_fold_train, y_fold_val)) in enumerate(data_iter): \n",
    "    print(f'Fold: {fold_idx}')\n",
    "    print(f'X_cur_train.shape = {X_fold_train.shape}')\n",
    "    print(f'X_cur_val.shape = {X_fold_val.shape}')\n",
    "\n",
    "    print(f'y_cur_train.shape = {y_fold_train.shape}')\n",
    "    print(f'y_cur_val.shape = {y_fold_val.shape}')"
   ]
  },
  {
   "cell_type": "code",
   "execution_count": 71,
   "metadata": {},
   "outputs": [
    {
     "data": {
      "text/plain": [
       "((128, 32), (32, 32))"
      ]
     },
     "execution_count": 71,
     "metadata": {},
     "output_type": "execute_result"
    }
   ],
   "source": [
    "X_fold_train.shape, X_fold_val.shape"
   ]
  },
  {
   "attachments": {},
   "cell_type": "markdown",
   "metadata": {},
   "source": [
    "## p2. <b>Evalutor</b>:"
   ]
  },
  {
   "cell_type": "code",
   "execution_count": 74,
   "metadata": {},
   "outputs": [
    {
     "name": "stdout",
     "output_type": "stream",
     "text": [
      "The autoreload extension is already loaded. To reload it, use:\n",
      "  %reload_ext autoreload\n"
     ]
    }
   ],
   "source": [
    "%load_ext autoreload\n",
    "%autoreload 2\n",
    "\n",
    "from evaluating import Evaluator"
   ]
  },
  {
   "cell_type": "code",
   "execution_count": 75,
   "metadata": {},
   "outputs": [],
   "source": [
    "X, y = make_classification(n_samples=200, n_features=32, n_classes=2)\n",
    "X = pd.DataFrame(X)\n",
    "y = pd.DataFrame(y)"
   ]
  },
  {
   "cell_type": "code",
   "execution_count": 76,
   "metadata": {},
   "outputs": [],
   "source": [
    "X_train, X_test, y_train, y_test = train_test_split(X, y, test_size=.3,\n",
    "                                                    shuffle=True)"
   ]
  },
  {
   "cell_type": "code",
   "execution_count": 81,
   "metadata": {},
   "outputs": [],
   "source": [
    "models = [KNeighborsClassifier(n_neighbors=10),\n",
    "          LogisticRegression(C=.12, fit_intercept=False),\n",
    "          DecisionTreeClassifier(max_features=16, max_depth=6)]\n",
    "\n",
    "for model in models: \n",
    "    model.fit(X_train, y_train)\n",
    "    evaluator = Evaluator(model, model_name=model.__str__().split('(')[0])\n",
    "    evaluator.write_all(X_train, X_test, y_train, y_test,\n",
    "                        dir_load='results', \n",
    "                        metric_func_set=[accuracy_score, roc_auc_score, f1_score],\n",
    "                        log=False,\n",
    "                        features='all')\n"
   ]
  },
  {
   "cell_type": "code",
   "execution_count": null,
   "metadata": {},
   "outputs": [],
   "source": []
  }
 ],
 "metadata": {
  "kernelspec": {
   "display_name": "Python 3",
   "language": "python",
   "name": "python3"
  },
  "language_info": {
   "codemirror_mode": {
    "name": "ipython",
    "version": 3
   },
   "file_extension": ".py",
   "mimetype": "text/x-python",
   "name": "python",
   "nbconvert_exporter": "python",
   "pygments_lexer": "ipython3",
   "version": "3.10.7"
  },
  "orig_nbformat": 4
 },
 "nbformat": 4,
 "nbformat_minor": 2
}
