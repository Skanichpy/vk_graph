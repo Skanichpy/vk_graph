{
 "cells": [
  {
   "cell_type": "code",
   "execution_count": 1,
   "metadata": {},
   "outputs": [],
   "source": [
    "%load_ext autoreload\n",
    "%autoreload 2\n",
    "\n",
    "from evaluating import Evaluator"
   ]
  },
  {
   "cell_type": "code",
   "execution_count": 2,
   "metadata": {},
   "outputs": [],
   "source": [
    "from sklearn.linear_model import LogisticRegression\n",
    "from sklearn.neighbors import KNeighborsClassifier\n",
    "from sklearn.datasets import make_classification \n",
    "from sklearn.model_selection import train_test_split\n",
    "from sklearn.metrics import roc_auc_score, accuracy_score, f1_score\n",
    "\n",
    "import pandas as pd\n",
    "import sklearn.exceptions as se \n",
    "import warnings \n",
    "import numpy as np\n",
    "\n",
    "warnings.filterwarnings(action='ignore', category=se.DataConversionWarning)"
   ]
  },
  {
   "cell_type": "code",
   "execution_count": 3,
   "metadata": {},
   "outputs": [],
   "source": [
    "from training.trainer import *\n",
    "import lightgbm as lgb\n",
    "import optuna"
   ]
  },
  {
   "cell_type": "code",
   "execution_count": 4,
   "metadata": {},
   "outputs": [],
   "source": [
    "X, y = make_classification(n_samples=200, n_features=32, n_classes=2)\n",
    "X = pd.DataFrame(X)\n",
    "y = pd.DataFrame(y)"
   ]
  },
  {
   "cell_type": "code",
   "execution_count": 5,
   "metadata": {},
   "outputs": [],
   "source": [
    "X_train, X_test, y_train, y_test = train_test_split(X, y, test_size=.3,\n",
    "                                                    shuffle=True)"
   ]
  },
  {
   "cell_type": "code",
   "execution_count": 10,
   "metadata": {},
   "outputs": [],
   "source": [
    "model = LogisticRegression(C=.12, fit_intercept=False)"
   ]
  },
  {
   "cell_type": "code",
   "execution_count": 6,
   "metadata": {
    "scrolled": true
   },
   "outputs": [
    {
     "name": "stderr",
     "output_type": "stream",
     "text": [
      "\u001b[32m[I 2023-05-19 03:02:34,338]\u001b[0m A new study created in memory with name: no-name-b0fdc08a-6cff-426b-8824-954ea2d1c7e5\u001b[0m\n",
      "\u001b[32m[I 2023-05-19 03:02:34,377]\u001b[0m Trial 0 finished with value: 0.9977435897435898 and parameters: {'lambda_l1': 3.5940011174235924e-08, 'lambda_l2': 0.009294497637149507, 'num_leaves': 88, 'feature_fraction': 0.6094997446412413, 'bagging_fraction': 0.45560392350744006, 'bagging_freq': 2, 'min_child_samples': 25}. Best is trial 0 with value: 0.9977435897435898.\u001b[0m\n",
      "\u001b[32m[I 2023-05-19 03:02:34,403]\u001b[0m Trial 1 finished with value: 0.5 and parameters: {'lambda_l1': 0.00035543175728193466, 'lambda_l2': 6.770552983721135e-05, 'num_leaves': 57, 'feature_fraction': 0.9475293895475995, 'bagging_fraction': 0.9257254951379349, 'bagging_freq': 2, 'min_child_samples': 72}. Best is trial 0 with value: 0.9977435897435898.\u001b[0m\n",
      "\u001b[32m[I 2023-05-19 03:02:34,431]\u001b[0m Trial 2 finished with value: 0.5 and parameters: {'lambda_l1': 4.209144034674649e-06, 'lambda_l2': 3.9066809851767766e-07, 'num_leaves': 105, 'feature_fraction': 0.9530980734042813, 'bagging_fraction': 0.5617638031671222, 'bagging_freq': 5, 'min_child_samples': 63}. Best is trial 0 with value: 0.9977435897435898.\u001b[0m\n",
      "\u001b[32m[I 2023-05-19 03:02:34,469]\u001b[0m Trial 3 finished with value: 0.9819487179487179 and parameters: {'lambda_l1': 0.05571007464646795, 'lambda_l2': 2.571596901296653e-05, 'num_leaves': 46, 'feature_fraction': 0.8289703875949022, 'bagging_fraction': 0.7812314205434141, 'bagging_freq': 6, 'min_child_samples': 52}. Best is trial 0 with value: 0.9977435897435898.\u001b[0m\n",
      "\u001b[32m[I 2023-05-19 03:02:34,514]\u001b[0m Trial 4 finished with value: 0.997948717948718 and parameters: {'lambda_l1': 1.2475500573395678e-08, 'lambda_l2': 3.189510807984063e-07, 'num_leaves': 150, 'feature_fraction': 0.9981872747120513, 'bagging_fraction': 0.9465024330039522, 'bagging_freq': 1, 'min_child_samples': 49}. Best is trial 4 with value: 0.997948717948718.\u001b[0m\n",
      "\u001b[32m[I 2023-05-19 03:02:34,550]\u001b[0m Trial 5 finished with value: 0.9714871794871796 and parameters: {'lambda_l1': 0.011465939568254545, 'lambda_l2': 1.3698387217344026e-07, 'num_leaves': 101, 'feature_fraction': 0.5506746932921442, 'bagging_fraction': 0.5627872704802288, 'bagging_freq': 1, 'min_child_samples': 43}. Best is trial 4 with value: 0.997948717948718.\u001b[0m\n"
     ]
    },
    {
     "name": "stdout",
     "output_type": "stream",
     "text": [
      "[LightGBM] [Warning] feature_fraction is set=0.6094997446412413, colsample_bytree=1.0 will be ignored. Current value: feature_fraction=0.6094997446412413\n",
      "[LightGBM] [Warning] bagging_freq is set=2, subsample_freq=0 will be ignored. Current value: bagging_freq=2\n",
      "[LightGBM] [Warning] bagging_fraction is set=0.45560392350744006, subsample=1.0 will be ignored. Current value: bagging_fraction=0.45560392350744006\n",
      "[LightGBM] [Warning] lambda_l2 is set=0.009294497637149507, reg_lambda=0.0 will be ignored. Current value: lambda_l2=0.009294497637149507\n",
      "[LightGBM] [Warning] lambda_l1 is set=3.5940011174235924e-08, reg_alpha=0.0 will be ignored. Current value: lambda_l1=3.5940011174235924e-08\n",
      "[LightGBM] [Warning] feature_fraction is set=0.9475293895475995, colsample_bytree=1.0 will be ignored. Current value: feature_fraction=0.9475293895475995\n",
      "[LightGBM] [Warning] bagging_freq is set=2, subsample_freq=0 will be ignored. Current value: bagging_freq=2\n",
      "[LightGBM] [Warning] bagging_fraction is set=0.9257254951379349, subsample=1.0 will be ignored. Current value: bagging_fraction=0.9257254951379349\n",
      "[LightGBM] [Warning] lambda_l2 is set=6.770552983721135e-05, reg_lambda=0.0 will be ignored. Current value: lambda_l2=6.770552983721135e-05\n",
      "[LightGBM] [Warning] lambda_l1 is set=0.00035543175728193466, reg_alpha=0.0 will be ignored. Current value: lambda_l1=0.00035543175728193466\n",
      "[LightGBM] [Warning] feature_fraction is set=0.9530980734042813, colsample_bytree=1.0 will be ignored. Current value: feature_fraction=0.9530980734042813\n",
      "[LightGBM] [Warning] bagging_freq is set=5, subsample_freq=0 will be ignored. Current value: bagging_freq=5\n",
      "[LightGBM] [Warning] bagging_fraction is set=0.5617638031671222, subsample=1.0 will be ignored. Current value: bagging_fraction=0.5617638031671222\n",
      "[LightGBM] [Warning] lambda_l2 is set=3.9066809851767766e-07, reg_lambda=0.0 will be ignored. Current value: lambda_l2=3.9066809851767766e-07\n",
      "[LightGBM] [Warning] lambda_l1 is set=4.209144034674649e-06, reg_alpha=0.0 will be ignored. Current value: lambda_l1=4.209144034674649e-06\n",
      "[LightGBM] [Warning] feature_fraction is set=0.8289703875949022, colsample_bytree=1.0 will be ignored. Current value: feature_fraction=0.8289703875949022\n",
      "[LightGBM] [Warning] bagging_freq is set=6, subsample_freq=0 will be ignored. Current value: bagging_freq=6\n",
      "[LightGBM] [Warning] bagging_fraction is set=0.7812314205434141, subsample=1.0 will be ignored. Current value: bagging_fraction=0.7812314205434141\n",
      "[LightGBM] [Warning] lambda_l2 is set=2.571596901296653e-05, reg_lambda=0.0 will be ignored. Current value: lambda_l2=2.571596901296653e-05\n",
      "[LightGBM] [Warning] lambda_l1 is set=0.05571007464646795, reg_alpha=0.0 will be ignored. Current value: lambda_l1=0.05571007464646795\n",
      "[LightGBM] [Warning] feature_fraction is set=0.9981872747120513, colsample_bytree=1.0 will be ignored. Current value: feature_fraction=0.9981872747120513\n",
      "[LightGBM] [Warning] bagging_freq is set=1, subsample_freq=0 will be ignored. Current value: bagging_freq=1\n",
      "[LightGBM] [Warning] bagging_fraction is set=0.9465024330039522, subsample=1.0 will be ignored. Current value: bagging_fraction=0.9465024330039522\n",
      "[LightGBM] [Warning] lambda_l2 is set=3.189510807984063e-07, reg_lambda=0.0 will be ignored. Current value: lambda_l2=3.189510807984063e-07\n",
      "[LightGBM] [Warning] lambda_l1 is set=1.2475500573395678e-08, reg_alpha=0.0 will be ignored. Current value: lambda_l1=1.2475500573395678e-08\n",
      "[LightGBM] [Warning] feature_fraction is set=0.5506746932921442, colsample_bytree=1.0 will be ignored. Current value: feature_fraction=0.5506746932921442\n",
      "[LightGBM] [Warning] bagging_freq is set=1, subsample_freq=0 will be ignored. Current value: bagging_freq=1\n",
      "[LightGBM] [Warning] bagging_fraction is set=0.5627872704802288, subsample=1.0 will be ignored. Current value: bagging_fraction=0.5627872704802288\n",
      "[LightGBM] [Warning] lambda_l2 is set=1.3698387217344026e-07, reg_lambda=0.0 will be ignored. Current value: lambda_l2=1.3698387217344026e-07\n",
      "[LightGBM] [Warning] lambda_l1 is set=0.011465939568254545, reg_alpha=0.0 will be ignored. Current value: lambda_l1=0.011465939568254545\n"
     ]
    },
    {
     "name": "stderr",
     "output_type": "stream",
     "text": [
      "\u001b[32m[I 2023-05-19 03:02:34,615]\u001b[0m Trial 6 finished with value: 0.5 and parameters: {'lambda_l1': 1.5390769100267546e-08, 'lambda_l2': 0.0027417113465119853, 'num_leaves': 205, 'feature_fraction': 0.5334880496413251, 'bagging_fraction': 0.6115106178659687, 'bagging_freq': 6, 'min_child_samples': 56}. Best is trial 4 with value: 0.997948717948718.\u001b[0m\n",
      "\u001b[32m[I 2023-05-19 03:02:34,654]\u001b[0m Trial 7 finished with value: 0.5 and parameters: {'lambda_l1': 6.33202365775948e-06, 'lambda_l2': 5.172774139354226e-05, 'num_leaves': 225, 'feature_fraction': 0.4788057107215342, 'bagging_fraction': 0.6556107474084177, 'bagging_freq': 5, 'min_child_samples': 64}. Best is trial 4 with value: 0.997948717948718.\u001b[0m\n",
      "\u001b[32m[I 2023-05-19 03:02:34,688]\u001b[0m Trial 8 finished with value: 0.9524102564102565 and parameters: {'lambda_l1': 3.907211295110531e-08, 'lambda_l2': 1.0995344434868997e-06, 'num_leaves': 25, 'feature_fraction': 0.5987521001586743, 'bagging_fraction': 0.8402527653343677, 'bagging_freq': 4, 'min_child_samples': 62}. Best is trial 4 with value: 0.997948717948718.\u001b[0m\n"
     ]
    },
    {
     "name": "stdout",
     "output_type": "stream",
     "text": [
      "[LightGBM] [Warning] feature_fraction is set=0.5334880496413251, colsample_bytree=1.0 will be ignored. Current value: feature_fraction=0.5334880496413251\n",
      "[LightGBM] [Warning] bagging_freq is set=6, subsample_freq=0 will be ignored. Current value: bagging_freq=6\n",
      "[LightGBM] [Warning] bagging_fraction is set=0.6115106178659687, subsample=1.0 will be ignored. Current value: bagging_fraction=0.6115106178659687\n",
      "[LightGBM] [Warning] lambda_l2 is set=0.0027417113465119853, reg_lambda=0.0 will be ignored. Current value: lambda_l2=0.0027417113465119853\n",
      "[LightGBM] [Warning] lambda_l1 is set=1.5390769100267546e-08, reg_alpha=0.0 will be ignored. Current value: lambda_l1=1.5390769100267546e-08\n",
      "[LightGBM] [Warning] feature_fraction is set=0.4788057107215342, colsample_bytree=1.0 will be ignored. Current value: feature_fraction=0.4788057107215342\n",
      "[LightGBM] [Warning] bagging_freq is set=5, subsample_freq=0 will be ignored. Current value: bagging_freq=5\n",
      "[LightGBM] [Warning] bagging_fraction is set=0.6556107474084177, subsample=1.0 will be ignored. Current value: bagging_fraction=0.6556107474084177\n",
      "[LightGBM] [Warning] lambda_l2 is set=5.172774139354226e-05, reg_lambda=0.0 will be ignored. Current value: lambda_l2=5.172774139354226e-05\n",
      "[LightGBM] [Warning] lambda_l1 is set=6.33202365775948e-06, reg_alpha=0.0 will be ignored. Current value: lambda_l1=6.33202365775948e-06\n",
      "[LightGBM] [Warning] feature_fraction is set=0.5987521001586743, colsample_bytree=1.0 will be ignored. Current value: feature_fraction=0.5987521001586743\n",
      "[LightGBM] [Warning] bagging_freq is set=4, subsample_freq=0 will be ignored. Current value: bagging_freq=4\n",
      "[LightGBM] [Warning] bagging_fraction is set=0.8402527653343677, subsample=1.0 will be ignored. Current value: bagging_fraction=0.8402527653343677\n",
      "[LightGBM] [Warning] lambda_l2 is set=1.0995344434868997e-06, reg_lambda=0.0 will be ignored. Current value: lambda_l2=1.0995344434868997e-06\n",
      "[LightGBM] [Warning] lambda_l1 is set=3.907211295110531e-08, reg_alpha=0.0 will be ignored. Current value: lambda_l1=3.907211295110531e-08\n",
      "[LightGBM] [Warning] feature_fraction is set=0.5874043552438959, colsample_bytree=1.0 will be ignored. Current value: feature_fraction=0.5874043552438959\n",
      "[LightGBM] [Warning] bagging_freq is set=5, subsample_freq=0 will be ignored. Current value: bagging_freq=5\n",
      "[LightGBM] [Warning] bagging_fraction is set=0.9732817786330177, subsample=1.0 will be ignored. Current value: bagging_fraction=0.9732817786330177\n",
      "[LightGBM] [Warning] lambda_l2 is set=1.0898158717951682e-05, reg_lambda=0.0 will be ignored. Current value: lambda_l2=1.0898158717951682e-05\n",
      "[LightGBM] [Warning] lambda_l1 is set=0.0019777799953276396, reg_alpha=0.0 will be ignored. Current value: lambda_l1=0.0019777799953276396\n"
     ]
    },
    {
     "name": "stderr",
     "output_type": "stream",
     "text": [
      "\u001b[32m[I 2023-05-19 03:02:34,768]\u001b[0m Trial 9 finished with value: 1.0 and parameters: {'lambda_l1': 0.0019777799953276396, 'lambda_l2': 1.0898158717951682e-05, 'num_leaves': 168, 'feature_fraction': 0.5874043552438959, 'bagging_fraction': 0.9732817786330177, 'bagging_freq': 5, 'min_child_samples': 22}. Best is trial 9 with value: 1.0.\u001b[0m\n",
      "\u001b[32m[I 2023-05-19 03:02:34,858]\u001b[0m Trial 10 finished with value: 0.9892307692307691 and parameters: {'lambda_l1': 8.784820156853742, 'lambda_l2': 1.5683237434707717, 'num_leaves': 166, 'feature_fraction': 0.4141847984840174, 'bagging_fraction': 0.968265684220937, 'bagging_freq': 7, 'min_child_samples': 6}. Best is trial 9 with value: 1.0.\u001b[0m\n",
      "\u001b[32m[I 2023-05-19 03:02:34,918]\u001b[0m Trial 11 finished with value: 0.5 and parameters: {'lambda_l1': 3.1784798769685424e-06, 'lambda_l2': 1.504655351121969e-08, 'num_leaves': 164, 'feature_fraction': 0.7525342970721984, 'bagging_fraction': 0.9799230546620341, 'bagging_freq': 3, 'min_child_samples': 92}. Best is trial 9 with value: 1.0.\u001b[0m\n",
      "\u001b[32m[I 2023-05-19 03:02:34,986]\u001b[0m Trial 12 finished with value: 1.0 and parameters: {'lambda_l1': 0.00020572055382123738, 'lambda_l2': 2.8784220518413907e-06, 'num_leaves': 159, 'feature_fraction': 0.6872450803797359, 'bagging_fraction': 0.8768437552365579, 'bagging_freq': 4, 'min_child_samples': 30}. Best is trial 9 with value: 1.0.\u001b[0m\n"
     ]
    },
    {
     "name": "stdout",
     "output_type": "stream",
     "text": [
      "[LightGBM] [Warning] feature_fraction is set=0.4141847984840174, colsample_bytree=1.0 will be ignored. Current value: feature_fraction=0.4141847984840174\n",
      "[LightGBM] [Warning] bagging_freq is set=7, subsample_freq=0 will be ignored. Current value: bagging_freq=7\n",
      "[LightGBM] [Warning] bagging_fraction is set=0.968265684220937, subsample=1.0 will be ignored. Current value: bagging_fraction=0.968265684220937\n",
      "[LightGBM] [Warning] lambda_l2 is set=1.5683237434707717, reg_lambda=0.0 will be ignored. Current value: lambda_l2=1.5683237434707717\n",
      "[LightGBM] [Warning] lambda_l1 is set=8.784820156853742, reg_alpha=0.0 will be ignored. Current value: lambda_l1=8.784820156853742\n",
      "[LightGBM] [Warning] feature_fraction is set=0.7525342970721984, colsample_bytree=1.0 will be ignored. Current value: feature_fraction=0.7525342970721984\n",
      "[LightGBM] [Warning] bagging_freq is set=3, subsample_freq=0 will be ignored. Current value: bagging_freq=3\n",
      "[LightGBM] [Warning] bagging_fraction is set=0.9799230546620341, subsample=1.0 will be ignored. Current value: bagging_fraction=0.9799230546620341\n",
      "[LightGBM] [Warning] lambda_l2 is set=1.504655351121969e-08, reg_lambda=0.0 will be ignored. Current value: lambda_l2=1.504655351121969e-08\n",
      "[LightGBM] [Warning] lambda_l1 is set=3.1784798769685424e-06, reg_alpha=0.0 will be ignored. Current value: lambda_l1=3.1784798769685424e-06\n",
      "[LightGBM] [Warning] feature_fraction is set=0.6872450803797359, colsample_bytree=1.0 will be ignored. Current value: feature_fraction=0.6872450803797359\n",
      "[LightGBM] [Warning] bagging_freq is set=4, subsample_freq=0 will be ignored. Current value: bagging_freq=4\n",
      "[LightGBM] [Warning] bagging_fraction is set=0.8768437552365579, subsample=1.0 will be ignored. Current value: bagging_fraction=0.8768437552365579\n",
      "[LightGBM] [Warning] lambda_l2 is set=2.8784220518413907e-06, reg_lambda=0.0 will be ignored. Current value: lambda_l2=2.8784220518413907e-06\n",
      "[LightGBM] [Warning] lambda_l1 is set=0.00020572055382123738, reg_alpha=0.0 will be ignored. Current value: lambda_l1=0.00020572055382123738\n",
      "[LightGBM] [Warning] feature_fraction is set=0.6782423057942022, colsample_bytree=1.0 will be ignored. Current value: feature_fraction=0.6782423057942022\n",
      "[LightGBM] [Warning] bagging_freq is set=4, subsample_freq=0 will be ignored. Current value: bagging_freq=4\n",
      "[LightGBM] [Warning] bagging_fraction is set=0.8338600351495177, subsample=1.0 will be ignored. Current value: bagging_fraction=0.8338600351495177\n",
      "[LightGBM] [Warning] lambda_l2 is set=5.186054937536764e-06, reg_lambda=0.0 will be ignored. Current value: lambda_l2=5.186054937536764e-06\n",
      "[LightGBM] [Warning] lambda_l1 is set=0.0004758528846812044, reg_alpha=0.0 will be ignored. Current value: lambda_l1=0.0004758528846812044\n"
     ]
    },
    {
     "name": "stderr",
     "output_type": "stream",
     "text": [
      "\u001b[32m[I 2023-05-19 03:02:35,068]\u001b[0m Trial 13 finished with value: 1.0 and parameters: {'lambda_l1': 0.0004758528846812044, 'lambda_l2': 5.186054937536764e-06, 'num_leaves': 202, 'feature_fraction': 0.6782423057942022, 'bagging_fraction': 0.8338600351495177, 'bagging_freq': 4, 'min_child_samples': 27}. Best is trial 9 with value: 1.0.\u001b[0m\n",
      "\u001b[32m[I 2023-05-19 03:02:35,145]\u001b[0m Trial 14 finished with value: 1.0 and parameters: {'lambda_l1': 0.015212560597840551, 'lambda_l2': 2.8068774841291613e-06, 'num_leaves': 241, 'feature_fraction': 0.6753853900309835, 'bagging_fraction': 0.8790237203952351, 'bagging_freq': 5, 'min_child_samples': 23}. Best is trial 9 with value: 1.0.\u001b[0m\n",
      "\u001b[32m[I 2023-05-19 03:02:35,244]\u001b[0m Trial 15 finished with value: 1.0 and parameters: {'lambda_l1': 5.02973037242311e-05, 'lambda_l2': 0.00039611898312538567, 'num_leaves': 137, 'feature_fraction': 0.7644092412589465, 'bagging_fraction': 0.7664000816302795, 'bagging_freq': 3, 'min_child_samples': 8}. Best is trial 9 with value: 1.0.\u001b[0m\n",
      "\u001b[32m[I 2023-05-19 03:02:35,315]\u001b[0m Trial 16 finished with value: 1.0 and parameters: {'lambda_l1': 0.0016467413141229485, 'lambda_l2': 1.326653380420317e-08, 'num_leaves': 189, 'feature_fraction': 0.6368305362327389, 'bagging_fraction': 0.8996749645870112, 'bagging_freq': 7, 'min_child_samples': 36}. Best is trial 9 with value: 1.0.\u001b[0m\n"
     ]
    },
    {
     "name": "stdout",
     "output_type": "stream",
     "text": [
      "[LightGBM] [Warning] feature_fraction is set=0.6753853900309835, colsample_bytree=1.0 will be ignored. Current value: feature_fraction=0.6753853900309835\n",
      "[LightGBM] [Warning] bagging_freq is set=5, subsample_freq=0 will be ignored. Current value: bagging_freq=5\n",
      "[LightGBM] [Warning] bagging_fraction is set=0.8790237203952351, subsample=1.0 will be ignored. Current value: bagging_fraction=0.8790237203952351\n",
      "[LightGBM] [Warning] lambda_l2 is set=2.8068774841291613e-06, reg_lambda=0.0 will be ignored. Current value: lambda_l2=2.8068774841291613e-06\n",
      "[LightGBM] [Warning] lambda_l1 is set=0.015212560597840551, reg_alpha=0.0 will be ignored. Current value: lambda_l1=0.015212560597840551\n",
      "[LightGBM] [Warning] feature_fraction is set=0.7644092412589465, colsample_bytree=1.0 will be ignored. Current value: feature_fraction=0.7644092412589465\n",
      "[LightGBM] [Warning] bagging_freq is set=3, subsample_freq=0 will be ignored. Current value: bagging_freq=3\n",
      "[LightGBM] [Warning] bagging_fraction is set=0.7664000816302795, subsample=1.0 will be ignored. Current value: bagging_fraction=0.7664000816302795\n",
      "[LightGBM] [Warning] lambda_l2 is set=0.00039611898312538567, reg_lambda=0.0 will be ignored. Current value: lambda_l2=0.00039611898312538567\n",
      "[LightGBM] [Warning] lambda_l1 is set=5.02973037242311e-05, reg_alpha=0.0 will be ignored. Current value: lambda_l1=5.02973037242311e-05\n",
      "[LightGBM] [Warning] feature_fraction is set=0.6368305362327389, colsample_bytree=1.0 will be ignored. Current value: feature_fraction=0.6368305362327389\n",
      "[LightGBM] [Warning] bagging_freq is set=7, subsample_freq=0 will be ignored. Current value: bagging_freq=7\n",
      "[LightGBM] [Warning] bagging_fraction is set=0.8996749645870112, subsample=1.0 will be ignored. Current value: bagging_fraction=0.8996749645870112\n",
      "[LightGBM] [Warning] lambda_l2 is set=1.326653380420317e-08, reg_lambda=0.0 will be ignored. Current value: lambda_l2=1.326653380420317e-08\n",
      "[LightGBM] [Warning] lambda_l1 is set=0.0016467413141229485, reg_alpha=0.0 will be ignored. Current value: lambda_l1=0.0016467413141229485\n"
     ]
    },
    {
     "name": "stderr",
     "output_type": "stream",
     "text": [
      "\u001b[32m[I 2023-05-19 03:02:35,398]\u001b[0m Trial 17 finished with value: 1.0 and parameters: {'lambda_l1': 5.045423990057511e-05, 'lambda_l2': 6.381354708703647e-06, 'num_leaves': 255, 'feature_fraction': 0.7468761958648457, 'bagging_fraction': 0.9978808346356542, 'bagging_freq': 3, 'min_child_samples': 16}. Best is trial 9 with value: 1.0.\u001b[0m\n",
      "\u001b[32m[I 2023-05-19 03:02:35,477]\u001b[0m Trial 18 finished with value: 0.9991794871794872 and parameters: {'lambda_l1': 0.28906516280133454, 'lambda_l2': 0.00040047581587623, 'num_leaves': 120, 'feature_fraction': 0.551776344604034, 'bagging_fraction': 0.7299436134395961, 'bagging_freq': 6, 'min_child_samples': 37}. Best is trial 9 with value: 1.0.\u001b[0m\n",
      "\u001b[32m[I 2023-05-19 03:02:35,562]\u001b[0m Trial 19 finished with value: 1.0 and parameters: {'lambda_l1': 0.002895826889574903, 'lambda_l2': 1.2804791512488235e-07, 'num_leaves': 178, 'feature_fraction': 0.6523013738635896, 'bagging_fraction': 0.8724913958348367, 'bagging_freq': 4, 'min_child_samples': 18}. Best is trial 9 with value: 1.0.\u001b[0m\n"
     ]
    },
    {
     "name": "stdout",
     "output_type": "stream",
     "text": [
      "[LightGBM] [Warning] feature_fraction is set=0.7468761958648457, colsample_bytree=1.0 will be ignored. Current value: feature_fraction=0.7468761958648457\n",
      "[LightGBM] [Warning] bagging_freq is set=3, subsample_freq=0 will be ignored. Current value: bagging_freq=3\n",
      "[LightGBM] [Warning] bagging_fraction is set=0.9978808346356542, subsample=1.0 will be ignored. Current value: bagging_fraction=0.9978808346356542\n",
      "[LightGBM] [Warning] lambda_l2 is set=6.381354708703647e-06, reg_lambda=0.0 will be ignored. Current value: lambda_l2=6.381354708703647e-06\n",
      "[LightGBM] [Warning] lambda_l1 is set=5.045423990057511e-05, reg_alpha=0.0 will be ignored. Current value: lambda_l1=5.045423990057511e-05\n",
      "[LightGBM] [Warning] feature_fraction is set=0.551776344604034, colsample_bytree=1.0 will be ignored. Current value: feature_fraction=0.551776344604034\n",
      "[LightGBM] [Warning] bagging_freq is set=6, subsample_freq=0 will be ignored. Current value: bagging_freq=6\n",
      "[LightGBM] [Warning] bagging_fraction is set=0.7299436134395961, subsample=1.0 will be ignored. Current value: bagging_fraction=0.7299436134395961\n",
      "[LightGBM] [Warning] lambda_l2 is set=0.00040047581587623, reg_lambda=0.0 will be ignored. Current value: lambda_l2=0.00040047581587623\n",
      "[LightGBM] [Warning] lambda_l1 is set=0.28906516280133454, reg_alpha=0.0 will be ignored. Current value: lambda_l1=0.28906516280133454\n",
      "[LightGBM] [Warning] feature_fraction is set=0.6523013738635896, colsample_bytree=1.0 will be ignored. Current value: feature_fraction=0.6523013738635896\n",
      "[LightGBM] [Warning] bagging_freq is set=4, subsample_freq=0 will be ignored. Current value: bagging_freq=4\n",
      "[LightGBM] [Warning] bagging_fraction is set=0.8724913958348367, subsample=1.0 will be ignored. Current value: bagging_fraction=0.8724913958348367\n",
      "[LightGBM] [Warning] lambda_l2 is set=1.2804791512488235e-07, reg_lambda=0.0 will be ignored. Current value: lambda_l2=1.2804791512488235e-07\n",
      "[LightGBM] [Warning] lambda_l1 is set=0.002895826889574903, reg_alpha=0.0 will be ignored. Current value: lambda_l1=0.002895826889574903\n"
     ]
    },
    {
     "name": "stderr",
     "output_type": "stream",
     "text": [
      "\u001b[32m[I 2023-05-19 03:02:35,642]\u001b[0m Trial 20 finished with value: 1.0 and parameters: {'lambda_l1': 6.684184796761322e-05, 'lambda_l2': 5.958189099840988e-06, 'num_leaves': 80, 'feature_fraction': 0.7175035990704197, 'bagging_fraction': 0.8133304671302874, 'bagging_freq': 5, 'min_child_samples': 34}. Best is trial 9 with value: 1.0.\u001b[0m\n",
      "\u001b[32m[I 2023-05-19 03:02:35,718]\u001b[0m Trial 21 finished with value: 1.0 and parameters: {'lambda_l1': 0.000610339836520689, 'lambda_l2': 7.1711661522843e-06, 'num_leaves': 203, 'feature_fraction': 0.6875556876109266, 'bagging_fraction': 0.8398103607666418, 'bagging_freq': 4, 'min_child_samples': 29}. Best is trial 9 with value: 1.0.\u001b[0m\n",
      "\u001b[32m[I 2023-05-19 03:02:35,799]\u001b[0m Trial 22 finished with value: 1.0 and parameters: {'lambda_l1': 0.0015888592060650706, 'lambda_l2': 1.8859531141453983e-06, 'num_leaves': 150, 'feature_fraction': 0.6050850531596697, 'bagging_fraction': 0.9179249669408882, 'bagging_freq': 4, 'min_child_samples': 15}. Best is trial 9 with value: 1.0.\u001b[0m\n"
     ]
    },
    {
     "name": "stdout",
     "output_type": "stream",
     "text": [
      "[LightGBM] [Warning] feature_fraction is set=0.7175035990704197, colsample_bytree=1.0 will be ignored. Current value: feature_fraction=0.7175035990704197\n",
      "[LightGBM] [Warning] bagging_freq is set=5, subsample_freq=0 will be ignored. Current value: bagging_freq=5\n",
      "[LightGBM] [Warning] bagging_fraction is set=0.8133304671302874, subsample=1.0 will be ignored. Current value: bagging_fraction=0.8133304671302874\n",
      "[LightGBM] [Warning] lambda_l2 is set=5.958189099840988e-06, reg_lambda=0.0 will be ignored. Current value: lambda_l2=5.958189099840988e-06\n",
      "[LightGBM] [Warning] lambda_l1 is set=6.684184796761322e-05, reg_alpha=0.0 will be ignored. Current value: lambda_l1=6.684184796761322e-05\n",
      "[LightGBM] [Warning] feature_fraction is set=0.6875556876109266, colsample_bytree=1.0 will be ignored. Current value: feature_fraction=0.6875556876109266\n",
      "[LightGBM] [Warning] bagging_freq is set=4, subsample_freq=0 will be ignored. Current value: bagging_freq=4\n",
      "[LightGBM] [Warning] bagging_fraction is set=0.8398103607666418, subsample=1.0 will be ignored. Current value: bagging_fraction=0.8398103607666418\n",
      "[LightGBM] [Warning] lambda_l2 is set=7.1711661522843e-06, reg_lambda=0.0 will be ignored. Current value: lambda_l2=7.1711661522843e-06\n",
      "[LightGBM] [Warning] lambda_l1 is set=0.000610339836520689, reg_alpha=0.0 will be ignored. Current value: lambda_l1=0.000610339836520689\n",
      "[LightGBM] [Warning] feature_fraction is set=0.6050850531596697, colsample_bytree=1.0 will be ignored. Current value: feature_fraction=0.6050850531596697\n",
      "[LightGBM] [Warning] bagging_freq is set=4, subsample_freq=0 will be ignored. Current value: bagging_freq=4\n",
      "[LightGBM] [Warning] bagging_fraction is set=0.9179249669408882, subsample=1.0 will be ignored. Current value: bagging_fraction=0.9179249669408882\n",
      "[LightGBM] [Warning] lambda_l2 is set=1.8859531141453983e-06, reg_lambda=0.0 will be ignored. Current value: lambda_l2=1.8859531141453983e-06\n",
      "[LightGBM] [Warning] lambda_l1 is set=0.0015888592060650706, reg_alpha=0.0 will be ignored. Current value: lambda_l1=0.0015888592060650706\n"
     ]
    },
    {
     "name": "stderr",
     "output_type": "stream",
     "text": [
      "\u001b[32m[I 2023-05-19 03:02:35,890]\u001b[0m Trial 23 finished with value: 1.0 and parameters: {'lambda_l1': 0.000178406474470634, 'lambda_l2': 5.02455745364403e-05, 'num_leaves': 216, 'feature_fraction': 0.6924203447841566, 'bagging_fraction': 0.8871063622914263, 'bagging_freq': 3, 'min_child_samples': 29}. Best is trial 9 with value: 1.0.\u001b[0m\n",
      "\u001b[32m[I 2023-05-19 03:02:35,968]\u001b[0m Trial 24 finished with value: 0.9993846153846154 and parameters: {'lambda_l1': 0.006259451114390803, 'lambda_l2': 8.207583706693447e-07, 'num_leaves': 185, 'feature_fraction': 0.8140059078091957, 'bagging_fraction': 0.9351318660215083, 'bagging_freq': 5, 'min_child_samples': 44}. Best is trial 9 with value: 1.0.\u001b[0m\n",
      "\u001b[32m[I 2023-05-19 03:02:36,056]\u001b[0m Trial 25 finished with value: 1.0 and parameters: {'lambda_l1': 0.0003670285007880054, 'lambda_l2': 1.1355292374677609e-05, 'num_leaves': 130, 'feature_fraction': 0.6384032813886843, 'bagging_fraction': 0.9976078790507933, 'bagging_freq': 4, 'min_child_samples': 21}. Best is trial 9 with value: 1.0.\u001b[0m\n"
     ]
    },
    {
     "name": "stdout",
     "output_type": "stream",
     "text": [
      "[LightGBM] [Warning] feature_fraction is set=0.6924203447841566, colsample_bytree=1.0 will be ignored. Current value: feature_fraction=0.6924203447841566\n",
      "[LightGBM] [Warning] bagging_freq is set=3, subsample_freq=0 will be ignored. Current value: bagging_freq=3\n",
      "[LightGBM] [Warning] bagging_fraction is set=0.8871063622914263, subsample=1.0 will be ignored. Current value: bagging_fraction=0.8871063622914263\n",
      "[LightGBM] [Warning] lambda_l2 is set=5.02455745364403e-05, reg_lambda=0.0 will be ignored. Current value: lambda_l2=5.02455745364403e-05\n",
      "[LightGBM] [Warning] lambda_l1 is set=0.000178406474470634, reg_alpha=0.0 will be ignored. Current value: lambda_l1=0.000178406474470634\n",
      "[LightGBM] [Warning] feature_fraction is set=0.8140059078091957, colsample_bytree=1.0 will be ignored. Current value: feature_fraction=0.8140059078091957\n",
      "[LightGBM] [Warning] bagging_freq is set=5, subsample_freq=0 will be ignored. Current value: bagging_freq=5\n",
      "[LightGBM] [Warning] bagging_fraction is set=0.9351318660215083, subsample=1.0 will be ignored. Current value: bagging_fraction=0.9351318660215083\n",
      "[LightGBM] [Warning] lambda_l2 is set=8.207583706693447e-07, reg_lambda=0.0 will be ignored. Current value: lambda_l2=8.207583706693447e-07\n",
      "[LightGBM] [Warning] lambda_l1 is set=0.006259451114390803, reg_alpha=0.0 will be ignored. Current value: lambda_l1=0.006259451114390803\n",
      "[LightGBM] [Warning] feature_fraction is set=0.6384032813886843, colsample_bytree=1.0 will be ignored. Current value: feature_fraction=0.6384032813886843\n",
      "[LightGBM] [Warning] bagging_freq is set=4, subsample_freq=0 will be ignored. Current value: bagging_freq=4\n",
      "[LightGBM] [Warning] bagging_fraction is set=0.9976078790507933, subsample=1.0 will be ignored. Current value: bagging_fraction=0.9976078790507933\n",
      "[LightGBM] [Warning] lambda_l2 is set=1.1355292374677609e-05, reg_lambda=0.0 will be ignored. Current value: lambda_l2=1.1355292374677609e-05\n",
      "[LightGBM] [Warning] lambda_l1 is set=0.0003670285007880054, reg_alpha=0.0 will be ignored. Current value: lambda_l1=0.0003670285007880054\n"
     ]
    },
    {
     "name": "stderr",
     "output_type": "stream",
     "text": [
      "\u001b[32m[I 2023-05-19 03:02:36,137]\u001b[0m Trial 26 finished with value: 1.0 and parameters: {'lambda_l1': 0.08267454541247396, 'lambda_l2': 6.918277261516245e-08, 'num_leaves': 226, 'feature_fraction': 0.58806295787395, 'bagging_fraction': 0.8282744473345989, 'bagging_freq': 6, 'min_child_samples': 13}. Best is trial 9 with value: 1.0.\u001b[0m\n",
      "\u001b[32m[I 2023-05-19 03:02:36,202]\u001b[0m Trial 27 finished with value: 0.9989743589743589 and parameters: {'lambda_l1': 0.0012772830047958674, 'lambda_l2': 1.3087737295629442e-06, 'num_leaves': 160, 'feature_fraction': 0.6663354700690315, 'bagging_fraction': 0.7712210384355972, 'bagging_freq': 2, 'min_child_samples': 41}. Best is trial 9 with value: 1.0.\u001b[0m\n",
      "\u001b[32m[I 2023-05-19 03:02:36,267]\u001b[0m Trial 28 finished with value: 1.0 and parameters: {'lambda_l1': 0.00013875442999352076, 'lambda_l2': 1.8214278154852374e-05, 'num_leaves': 196, 'feature_fraction': 0.4986776174355654, 'bagging_fraction': 0.8656538628184355, 'bagging_freq': 5, 'min_child_samples': 29}. Best is trial 9 with value: 1.0.\u001b[0m\n"
     ]
    },
    {
     "name": "stdout",
     "output_type": "stream",
     "text": [
      "[LightGBM] [Warning] feature_fraction is set=0.58806295787395, colsample_bytree=1.0 will be ignored. Current value: feature_fraction=0.58806295787395\n",
      "[LightGBM] [Warning] bagging_freq is set=6, subsample_freq=0 will be ignored. Current value: bagging_freq=6\n",
      "[LightGBM] [Warning] bagging_fraction is set=0.8282744473345989, subsample=1.0 will be ignored. Current value: bagging_fraction=0.8282744473345989\n",
      "[LightGBM] [Warning] lambda_l2 is set=6.918277261516245e-08, reg_lambda=0.0 will be ignored. Current value: lambda_l2=6.918277261516245e-08\n",
      "[LightGBM] [Warning] lambda_l1 is set=0.08267454541247396, reg_alpha=0.0 will be ignored. Current value: lambda_l1=0.08267454541247396\n",
      "[LightGBM] [Warning] feature_fraction is set=0.6663354700690315, colsample_bytree=1.0 will be ignored. Current value: feature_fraction=0.6663354700690315\n",
      "[LightGBM] [Warning] bagging_freq is set=2, subsample_freq=0 will be ignored. Current value: bagging_freq=2\n",
      "[LightGBM] [Warning] bagging_fraction is set=0.7712210384355972, subsample=1.0 will be ignored. Current value: bagging_fraction=0.7712210384355972\n",
      "[LightGBM] [Warning] lambda_l2 is set=1.3087737295629442e-06, reg_lambda=0.0 will be ignored. Current value: lambda_l2=1.3087737295629442e-06\n",
      "[LightGBM] [Warning] lambda_l1 is set=0.0012772830047958674, reg_alpha=0.0 will be ignored. Current value: lambda_l1=0.0012772830047958674\n",
      "[LightGBM] [Warning] feature_fraction is set=0.4986776174355654, colsample_bytree=1.0 will be ignored. Current value: feature_fraction=0.4986776174355654\n",
      "[LightGBM] [Warning] bagging_freq is set=5, subsample_freq=0 will be ignored. Current value: bagging_freq=5\n",
      "[LightGBM] [Warning] bagging_fraction is set=0.8656538628184355, subsample=1.0 will be ignored. Current value: bagging_fraction=0.8656538628184355\n",
      "[LightGBM] [Warning] lambda_l2 is set=1.8214278154852374e-05, reg_lambda=0.0 will be ignored. Current value: lambda_l2=1.8214278154852374e-05\n",
      "[LightGBM] [Warning] lambda_l1 is set=0.00013875442999352076, reg_alpha=0.0 will be ignored. Current value: lambda_l1=0.00013875442999352076\n"
     ]
    },
    {
     "name": "stderr",
     "output_type": "stream",
     "text": [
      "\u001b[32m[I 2023-05-19 03:02:36,370]\u001b[0m Trial 29 finished with value: 0.5 and parameters: {'lambda_l1': 0.005118756147130597, 'lambda_l2': 0.0001417157074135447, 'num_leaves': 140, 'feature_fraction': 0.6167165452152282, 'bagging_fraction': 0.9320136966895309, 'bagging_freq': 4, 'min_child_samples': 95}. Best is trial 9 with value: 1.0.\u001b[0m\n",
      "\u001b[32m[I 2023-05-19 03:02:36,515]\u001b[0m Trial 30 finished with value: 0.5 and parameters: {'lambda_l1': 1.5367014414301547e-05, 'lambda_l2': 2.823590087510334e-06, 'num_leaves': 176, 'feature_fraction': 0.7239064925729023, 'bagging_fraction': 0.960009562139627, 'bagging_freq': 3, 'min_child_samples': 82}. Best is trial 9 with value: 1.0.\u001b[0m\n"
     ]
    },
    {
     "name": "stdout",
     "output_type": "stream",
     "text": [
      "[LightGBM] [Warning] feature_fraction is set=0.6167165452152282, colsample_bytree=1.0 will be ignored. Current value: feature_fraction=0.6167165452152282\n",
      "[LightGBM] [Warning] bagging_freq is set=4, subsample_freq=0 will be ignored. Current value: bagging_freq=4\n",
      "[LightGBM] [Warning] bagging_fraction is set=0.9320136966895309, subsample=1.0 will be ignored. Current value: bagging_fraction=0.9320136966895309\n",
      "[LightGBM] [Warning] lambda_l2 is set=0.0001417157074135447, reg_lambda=0.0 will be ignored. Current value: lambda_l2=0.0001417157074135447\n",
      "[LightGBM] [Warning] lambda_l1 is set=0.005118756147130597, reg_alpha=0.0 will be ignored. Current value: lambda_l1=0.005118756147130597\n",
      "[LightGBM] [Warning] feature_fraction is set=0.7239064925729023, colsample_bytree=1.0 will be ignored. Current value: feature_fraction=0.7239064925729023\n",
      "[LightGBM] [Warning] bagging_freq is set=3, subsample_freq=0 will be ignored. Current value: bagging_freq=3\n",
      "[LightGBM] [Warning] bagging_fraction is set=0.960009562139627, subsample=1.0 will be ignored. Current value: bagging_fraction=0.960009562139627\n",
      "[LightGBM] [Warning] lambda_l2 is set=2.823590087510334e-06, reg_lambda=0.0 will be ignored. Current value: lambda_l2=2.823590087510334e-06\n",
      "[LightGBM] [Warning] lambda_l1 is set=1.5367014414301547e-05, reg_alpha=0.0 will be ignored. Current value: lambda_l1=1.5367014414301547e-05\n"
     ]
    },
    {
     "name": "stderr",
     "output_type": "stream",
     "text": [
      "\u001b[32m[I 2023-05-19 03:02:36,689]\u001b[0m Trial 31 finished with value: 1.0 and parameters: {'lambda_l1': 0.014340180646070221, 'lambda_l2': 2.855247739015816e-06, 'num_leaves': 247, 'feature_fraction': 0.6627286004853846, 'bagging_fraction': 0.8860590896311369, 'bagging_freq': 5, 'min_child_samples': 25}. Best is trial 9 with value: 1.0.\u001b[0m\n",
      "\u001b[32m[I 2023-05-19 03:02:36,784]\u001b[0m Trial 32 finished with value: 1.0 and parameters: {'lambda_l1': 0.0006322232096714712, 'lambda_l2': 9.5584903897875e-06, 'num_leaves': 239, 'feature_fraction': 0.6849891860685292, 'bagging_fraction': 0.9110318111224949, 'bagging_freq': 4, 'min_child_samples': 24}. Best is trial 9 with value: 1.0.\u001b[0m\n"
     ]
    },
    {
     "name": "stdout",
     "output_type": "stream",
     "text": [
      "[LightGBM] [Warning] feature_fraction is set=0.6627286004853846, colsample_bytree=1.0 will be ignored. Current value: feature_fraction=0.6627286004853846\n",
      "[LightGBM] [Warning] bagging_freq is set=5, subsample_freq=0 will be ignored. Current value: bagging_freq=5\n",
      "[LightGBM] [Warning] bagging_fraction is set=0.8860590896311369, subsample=1.0 will be ignored. Current value: bagging_fraction=0.8860590896311369\n",
      "[LightGBM] [Warning] lambda_l2 is set=2.855247739015816e-06, reg_lambda=0.0 will be ignored. Current value: lambda_l2=2.855247739015816e-06\n",
      "[LightGBM] [Warning] lambda_l1 is set=0.014340180646070221, reg_alpha=0.0 will be ignored. Current value: lambda_l1=0.014340180646070221\n",
      "[LightGBM] [Warning] feature_fraction is set=0.6849891860685292, colsample_bytree=1.0 will be ignored. Current value: feature_fraction=0.6849891860685292\n",
      "[LightGBM] [Warning] bagging_freq is set=4, subsample_freq=0 will be ignored. Current value: bagging_freq=4\n",
      "[LightGBM] [Warning] bagging_fraction is set=0.9110318111224949, subsample=1.0 will be ignored. Current value: bagging_fraction=0.9110318111224949\n",
      "[LightGBM] [Warning] lambda_l2 is set=9.5584903897875e-06, reg_lambda=0.0 will be ignored. Current value: lambda_l2=9.5584903897875e-06\n",
      "[LightGBM] [Warning] lambda_l1 is set=0.0006322232096714712, reg_alpha=0.0 will be ignored. Current value: lambda_l1=0.0006322232096714712\n"
     ]
    },
    {
     "name": "stderr",
     "output_type": "stream",
     "text": [
      "\u001b[32m[I 2023-05-19 03:02:36,884]\u001b[0m Trial 33 finished with value: 1.0 and parameters: {'lambda_l1': 0.00038617034730783226, 'lambda_l2': 5.217604882166166e-07, 'num_leaves': 234, 'feature_fraction': 0.5814582690242226, 'bagging_fraction': 0.8596965945291876, 'bagging_freq': 5, 'min_child_samples': 10}. Best is trial 9 with value: 1.0.\u001b[0m\n",
      "\u001b[32m[I 2023-05-19 03:02:36,968]\u001b[0m Trial 34 finished with value: 1.0 and parameters: {'lambda_l1': 0.02784624382433185, 'lambda_l2': 2.8836478633189753e-05, 'num_leaves': 212, 'feature_fraction': 0.6283218765203917, 'bagging_fraction': 0.9081599932025268, 'bagging_freq': 6, 'min_child_samples': 21}. Best is trial 9 with value: 1.0.\u001b[0m\n",
      "\u001b[32m[I 2023-05-19 03:02:37,045]\u001b[0m Trial 35 finished with value: 1.0 and parameters: {'lambda_l1': 0.002660982320701645, 'lambda_l2': 0.00016636484385489634, 'num_leaves': 112, 'feature_fraction': 0.6644431467291559, 'bagging_fraction': 0.9563495164211469, 'bagging_freq': 5, 'min_child_samples': 33}. Best is trial 9 with value: 1.0.\u001b[0m\n"
     ]
    },
    {
     "name": "stdout",
     "output_type": "stream",
     "text": [
      "[LightGBM] [Warning] feature_fraction is set=0.5814582690242226, colsample_bytree=1.0 will be ignored. Current value: feature_fraction=0.5814582690242226\n",
      "[LightGBM] [Warning] bagging_freq is set=5, subsample_freq=0 will be ignored. Current value: bagging_freq=5\n",
      "[LightGBM] [Warning] bagging_fraction is set=0.8596965945291876, subsample=1.0 will be ignored. Current value: bagging_fraction=0.8596965945291876\n",
      "[LightGBM] [Warning] lambda_l2 is set=5.217604882166166e-07, reg_lambda=0.0 will be ignored. Current value: lambda_l2=5.217604882166166e-07\n",
      "[LightGBM] [Warning] lambda_l1 is set=0.00038617034730783226, reg_alpha=0.0 will be ignored. Current value: lambda_l1=0.00038617034730783226\n",
      "[LightGBM] [Warning] feature_fraction is set=0.6283218765203917, colsample_bytree=1.0 will be ignored. Current value: feature_fraction=0.6283218765203917\n",
      "[LightGBM] [Warning] bagging_freq is set=6, subsample_freq=0 will be ignored. Current value: bagging_freq=6\n",
      "[LightGBM] [Warning] bagging_fraction is set=0.9081599932025268, subsample=1.0 will be ignored. Current value: bagging_fraction=0.9081599932025268\n",
      "[LightGBM] [Warning] lambda_l2 is set=2.8836478633189753e-05, reg_lambda=0.0 will be ignored. Current value: lambda_l2=2.8836478633189753e-05\n",
      "[LightGBM] [Warning] lambda_l1 is set=0.02784624382433185, reg_alpha=0.0 will be ignored. Current value: lambda_l1=0.02784624382433185\n",
      "[LightGBM] [Warning] feature_fraction is set=0.6644431467291559, colsample_bytree=1.0 will be ignored. Current value: feature_fraction=0.6644431467291559\n",
      "[LightGBM] [Warning] bagging_freq is set=5, subsample_freq=0 will be ignored. Current value: bagging_freq=5\n",
      "[LightGBM] [Warning] bagging_fraction is set=0.9563495164211469, subsample=1.0 will be ignored. Current value: bagging_fraction=0.9563495164211469\n",
      "[LightGBM] [Warning] lambda_l2 is set=0.00016636484385489634, reg_lambda=0.0 will be ignored. Current value: lambda_l2=0.00016636484385489634\n",
      "[LightGBM] [Warning] lambda_l1 is set=0.002660982320701645, reg_alpha=0.0 will be ignored. Current value: lambda_l1=0.002660982320701645\n"
     ]
    },
    {
     "name": "stderr",
     "output_type": "stream",
     "text": [
      "\u001b[32m[I 2023-05-19 03:02:37,117]\u001b[0m Trial 36 finished with value: 1.0 and parameters: {'lambda_l1': 0.011717166793658203, 'lambda_l2': 6.050298257096985e-07, 'num_leaves': 194, 'feature_fraction': 0.79021506086292, 'bagging_fraction': 0.8010914024279834, 'bagging_freq': 2, 'min_child_samples': 26}. Best is trial 9 with value: 1.0.\u001b[0m\n",
      "\u001b[32m[I 2023-05-19 03:02:37,181]\u001b[0m Trial 37 finished with value: 0.9985641025641027 and parameters: {'lambda_l1': 0.10841066484486545, 'lambda_l2': 2.2970623968186719e-07, 'num_leaves': 214, 'feature_fraction': 0.858827590313035, 'bagging_fraction': 0.8529548609016525, 'bagging_freq': 4, 'min_child_samples': 45}. Best is trial 9 with value: 1.0.\u001b[0m\n",
      "\u001b[32m[I 2023-05-19 03:02:37,252]\u001b[0m Trial 38 finished with value: 0.9922051282051282 and parameters: {'lambda_l1': 0.006343496744830428, 'lambda_l2': 2.6434898245909094e-06, 'num_leaves': 148, 'feature_fraction': 0.716521886677671, 'bagging_fraction': 0.8095224424930372, 'bagging_freq': 6, 'min_child_samples': 50}. Best is trial 9 with value: 1.0.\u001b[0m\n"
     ]
    },
    {
     "name": "stdout",
     "output_type": "stream",
     "text": [
      "[LightGBM] [Warning] feature_fraction is set=0.79021506086292, colsample_bytree=1.0 will be ignored. Current value: feature_fraction=0.79021506086292\n",
      "[LightGBM] [Warning] bagging_freq is set=2, subsample_freq=0 will be ignored. Current value: bagging_freq=2\n",
      "[LightGBM] [Warning] bagging_fraction is set=0.8010914024279834, subsample=1.0 will be ignored. Current value: bagging_fraction=0.8010914024279834\n",
      "[LightGBM] [Warning] lambda_l2 is set=6.050298257096985e-07, reg_lambda=0.0 will be ignored. Current value: lambda_l2=6.050298257096985e-07\n",
      "[LightGBM] [Warning] lambda_l1 is set=0.011717166793658203, reg_alpha=0.0 will be ignored. Current value: lambda_l1=0.011717166793658203\n",
      "[LightGBM] [Warning] feature_fraction is set=0.858827590313035, colsample_bytree=1.0 will be ignored. Current value: feature_fraction=0.858827590313035\n",
      "[LightGBM] [Warning] bagging_freq is set=4, subsample_freq=0 will be ignored. Current value: bagging_freq=4\n",
      "[LightGBM] [Warning] bagging_fraction is set=0.8529548609016525, subsample=1.0 will be ignored. Current value: bagging_fraction=0.8529548609016525\n",
      "[LightGBM] [Warning] lambda_l2 is set=2.2970623968186719e-07, reg_lambda=0.0 will be ignored. Current value: lambda_l2=2.2970623968186719e-07\n",
      "[LightGBM] [Warning] lambda_l1 is set=0.10841066484486545, reg_alpha=0.0 will be ignored. Current value: lambda_l1=0.10841066484486545\n",
      "[LightGBM] [Warning] feature_fraction is set=0.716521886677671, colsample_bytree=1.0 will be ignored. Current value: feature_fraction=0.716521886677671\n",
      "[LightGBM] [Warning] bagging_freq is set=6, subsample_freq=0 will be ignored. Current value: bagging_freq=6\n",
      "[LightGBM] [Warning] bagging_fraction is set=0.8095224424930372, subsample=1.0 will be ignored. Current value: bagging_fraction=0.8095224424930372\n",
      "[LightGBM] [Warning] lambda_l2 is set=2.6434898245909094e-06, reg_lambda=0.0 will be ignored. Current value: lambda_l2=2.6434898245909094e-06\n",
      "[LightGBM] [Warning] lambda_l1 is set=0.006343496744830428, reg_alpha=0.0 will be ignored. Current value: lambda_l1=0.006343496744830428\n"
     ]
    },
    {
     "name": "stderr",
     "output_type": "stream",
     "text": [
      "\u001b[32m[I 2023-05-19 03:02:37,352]\u001b[0m Trial 39 finished with value: 1.0 and parameters: {'lambda_l1': 0.0008546744909762408, 'lambda_l2': 2.513403348246376e-05, 'num_leaves': 89, 'feature_fraction': 0.6938336420800935, 'bagging_fraction': 0.9359321935422347, 'bagging_freq': 5, 'min_child_samples': 20}. Best is trial 9 with value: 1.0.\u001b[0m\n",
      "\u001b[32m[I 2023-05-19 03:02:37,433]\u001b[0m Trial 40 finished with value: 0.9454358974358975 and parameters: {'lambda_l1': 0.03049230766089689, 'lambda_l2': 5.053971406060136e-05, 'num_leaves': 228, 'feature_fraction': 0.5786197107894031, 'bagging_fraction': 0.7449762108574163, 'bagging_freq': 3, 'min_child_samples': 57}. Best is trial 9 with value: 1.0.\u001b[0m\n"
     ]
    },
    {
     "name": "stdout",
     "output_type": "stream",
     "text": [
      "[LightGBM] [Warning] feature_fraction is set=0.6938336420800935, colsample_bytree=1.0 will be ignored. Current value: feature_fraction=0.6938336420800935\n",
      "[LightGBM] [Warning] bagging_freq is set=5, subsample_freq=0 will be ignored. Current value: bagging_freq=5\n",
      "[LightGBM] [Warning] bagging_fraction is set=0.9359321935422347, subsample=1.0 will be ignored. Current value: bagging_fraction=0.9359321935422347\n",
      "[LightGBM] [Warning] lambda_l2 is set=2.513403348246376e-05, reg_lambda=0.0 will be ignored. Current value: lambda_l2=2.513403348246376e-05\n",
      "[LightGBM] [Warning] lambda_l1 is set=0.0008546744909762408, reg_alpha=0.0 will be ignored. Current value: lambda_l1=0.0008546744909762408\n",
      "[LightGBM] [Warning] feature_fraction is set=0.5786197107894031, colsample_bytree=1.0 will be ignored. Current value: feature_fraction=0.5786197107894031\n",
      "[LightGBM] [Warning] bagging_freq is set=3, subsample_freq=0 will be ignored. Current value: bagging_freq=3\n",
      "[LightGBM] [Warning] bagging_fraction is set=0.7449762108574163, subsample=1.0 will be ignored. Current value: bagging_fraction=0.7449762108574163\n",
      "[LightGBM] [Warning] lambda_l2 is set=5.053971406060136e-05, reg_lambda=0.0 will be ignored. Current value: lambda_l2=5.053971406060136e-05\n",
      "[LightGBM] [Warning] lambda_l1 is set=0.03049230766089689, reg_alpha=0.0 will be ignored. Current value: lambda_l1=0.03049230766089689\n",
      "[LightGBM] [Warning] feature_fraction is set=0.7546363655026461, colsample_bytree=1.0 will be ignored. Current value: feature_fraction=0.7546363655026461\n",
      "[LightGBM] [Warning] bagging_freq is set=3, subsample_freq=0 will be ignored. Current value: bagging_freq=3\n",
      "[LightGBM] [Warning] bagging_fraction is set=0.7785268810692852, subsample=1.0 will be ignored. Current value: bagging_fraction=0.7785268810692852\n",
      "[LightGBM] [Warning] lambda_l2 is set=0.000888851724131142, reg_lambda=0.0 will be ignored. Current value: lambda_l2=0.000888851724131142\n",
      "[LightGBM] [Warning] lambda_l1 is set=9.789507688441479e-05, reg_alpha=0.0 will be ignored. Current value: lambda_l1=9.789507688441479e-05\n"
     ]
    },
    {
     "name": "stderr",
     "output_type": "stream",
     "text": [
      "\u001b[32m[I 2023-05-19 03:02:37,573]\u001b[0m Trial 41 finished with value: 1.0 and parameters: {'lambda_l1': 9.789507688441479e-05, 'lambda_l2': 0.000888851724131142, 'num_leaves': 175, 'feature_fraction': 0.7546363655026461, 'bagging_fraction': 0.7785268810692852, 'bagging_freq': 3, 'min_child_samples': 5}. Best is trial 9 with value: 1.0.\u001b[0m\n",
      "\u001b[32m[I 2023-05-19 03:02:37,658]\u001b[0m Trial 42 finished with value: 1.0 and parameters: {'lambda_l1': 4.210367038963699e-05, 'lambda_l2': 0.00015154483191761695, 'num_leaves': 134, 'feature_fraction': 0.7766602951430573, 'bagging_fraction': 0.8377549929087171, 'bagging_freq': 2, 'min_child_samples': 10}. Best is trial 9 with value: 1.0.\u001b[0m\n",
      "\u001b[32m[I 2023-05-19 03:02:37,738]\u001b[0m Trial 43 finished with value: 1.0 and parameters: {'lambda_l1': 0.00024171517590977154, 'lambda_l2': 0.007128542359807985, 'num_leaves': 158, 'feature_fraction': 0.6272978513111995, 'bagging_fraction': 0.6893672801936936, 'bagging_freq': 4, 'min_child_samples': 11}. Best is trial 9 with value: 1.0.\u001b[0m\n",
      "\u001b[32m[I 2023-05-19 03:02:37,821]\u001b[0m Trial 44 finished with value: 1.0 and parameters: {'lambda_l1': 2.5004531227489674e-05, 'lambda_l2': 1.6993710847873645e-05, 'num_leaves': 121, 'feature_fraction': 0.7187386841868636, 'bagging_fraction': 0.8899247524436869, 'bagging_freq': 3, 'min_child_samples': 39}. Best is trial 9 with value: 1.0.\u001b[0m\n"
     ]
    },
    {
     "name": "stdout",
     "output_type": "stream",
     "text": [
      "[LightGBM] [Warning] feature_fraction is set=0.7766602951430573, colsample_bytree=1.0 will be ignored. Current value: feature_fraction=0.7766602951430573\n",
      "[LightGBM] [Warning] bagging_freq is set=2, subsample_freq=0 will be ignored. Current value: bagging_freq=2\n",
      "[LightGBM] [Warning] bagging_fraction is set=0.8377549929087171, subsample=1.0 will be ignored. Current value: bagging_fraction=0.8377549929087171\n",
      "[LightGBM] [Warning] lambda_l2 is set=0.00015154483191761695, reg_lambda=0.0 will be ignored. Current value: lambda_l2=0.00015154483191761695\n",
      "[LightGBM] [Warning] lambda_l1 is set=4.210367038963699e-05, reg_alpha=0.0 will be ignored. Current value: lambda_l1=4.210367038963699e-05\n",
      "[LightGBM] [Warning] feature_fraction is set=0.6272978513111995, colsample_bytree=1.0 will be ignored. Current value: feature_fraction=0.6272978513111995\n",
      "[LightGBM] [Warning] bagging_freq is set=4, subsample_freq=0 will be ignored. Current value: bagging_freq=4\n",
      "[LightGBM] [Warning] bagging_fraction is set=0.6893672801936936, subsample=1.0 will be ignored. Current value: bagging_fraction=0.6893672801936936\n",
      "[LightGBM] [Warning] lambda_l2 is set=0.007128542359807985, reg_lambda=0.0 will be ignored. Current value: lambda_l2=0.007128542359807985\n",
      "[LightGBM] [Warning] lambda_l1 is set=0.00024171517590977154, reg_alpha=0.0 will be ignored. Current value: lambda_l1=0.00024171517590977154\n",
      "[LightGBM] [Warning] feature_fraction is set=0.7187386841868636, colsample_bytree=1.0 will be ignored. Current value: feature_fraction=0.7187386841868636\n",
      "[LightGBM] [Warning] bagging_freq is set=3, subsample_freq=0 will be ignored. Current value: bagging_freq=3\n",
      "[LightGBM] [Warning] bagging_fraction is set=0.8899247524436869, subsample=1.0 will be ignored. Current value: bagging_fraction=0.8899247524436869\n",
      "[LightGBM] [Warning] lambda_l2 is set=1.6993710847873645e-05, reg_lambda=0.0 will be ignored. Current value: lambda_l2=1.6993710847873645e-05\n",
      "[LightGBM] [Warning] lambda_l1 is set=2.5004531227489674e-05, reg_alpha=0.0 will be ignored. Current value: lambda_l1=2.5004531227489674e-05\n"
     ]
    },
    {
     "name": "stderr",
     "output_type": "stream",
     "text": [
      "\u001b[32m[I 2023-05-19 03:02:37,905]\u001b[0m Trial 45 finished with value: 0.9777435897435898 and parameters: {'lambda_l1': 1.1935617244104195e-05, 'lambda_l2': 0.0005652934538965818, 'num_leaves': 146, 'feature_fraction': 0.663296045161509, 'bagging_fraction': 0.40009571544360406, 'bagging_freq': 1, 'min_child_samples': 31}. Best is trial 9 with value: 1.0.\u001b[0m\n",
      "\u001b[32m[I 2023-05-19 03:02:37,987]\u001b[0m Trial 46 finished with value: 1.0 and parameters: {'lambda_l1': 1.6764027102072076e-06, 'lambda_l2': 3.929520313213277e-06, 'num_leaves': 6, 'feature_fraction': 0.8661028947343314, 'bagging_fraction': 0.7880137591718069, 'bagging_freq': 4, 'min_child_samples': 17}. Best is trial 9 with value: 1.0.\u001b[0m\n",
      "\u001b[32m[I 2023-05-19 03:02:38,077]\u001b[0m Trial 47 finished with value: 1.0 and parameters: {'lambda_l1': 0.000243217180560352, 'lambda_l2': 8.898128449395389e-07, 'num_leaves': 169, 'feature_fraction': 0.7479125882620209, 'bagging_fraction': 0.8294718721148873, 'bagging_freq': 5, 'min_child_samples': 9}. Best is trial 9 with value: 1.0.\u001b[0m\n"
     ]
    },
    {
     "name": "stdout",
     "output_type": "stream",
     "text": [
      "[LightGBM] [Warning] feature_fraction is set=0.663296045161509, colsample_bytree=1.0 will be ignored. Current value: feature_fraction=0.663296045161509\n",
      "[LightGBM] [Warning] bagging_freq is set=1, subsample_freq=0 will be ignored. Current value: bagging_freq=1\n",
      "[LightGBM] [Warning] bagging_fraction is set=0.40009571544360406, subsample=1.0 will be ignored. Current value: bagging_fraction=0.40009571544360406\n",
      "[LightGBM] [Warning] lambda_l2 is set=0.0005652934538965818, reg_lambda=0.0 will be ignored. Current value: lambda_l2=0.0005652934538965818\n",
      "[LightGBM] [Warning] lambda_l1 is set=1.1935617244104195e-05, reg_alpha=0.0 will be ignored. Current value: lambda_l1=1.1935617244104195e-05\n",
      "[LightGBM] [Warning] feature_fraction is set=0.8661028947343314, colsample_bytree=1.0 will be ignored. Current value: feature_fraction=0.8661028947343314\n",
      "[LightGBM] [Warning] bagging_freq is set=4, subsample_freq=0 will be ignored. Current value: bagging_freq=4\n",
      "[LightGBM] [Warning] bagging_fraction is set=0.7880137591718069, subsample=1.0 will be ignored. Current value: bagging_fraction=0.7880137591718069\n",
      "[LightGBM] [Warning] lambda_l2 is set=3.929520313213277e-06, reg_lambda=0.0 will be ignored. Current value: lambda_l2=3.929520313213277e-06\n",
      "[LightGBM] [Warning] lambda_l1 is set=1.6764027102072076e-06, reg_alpha=0.0 will be ignored. Current value: lambda_l1=1.6764027102072076e-06\n",
      "[LightGBM] [Warning] feature_fraction is set=0.7479125882620209, colsample_bytree=1.0 will be ignored. Current value: feature_fraction=0.7479125882620209\n",
      "[LightGBM] [Warning] bagging_freq is set=5, subsample_freq=0 will be ignored. Current value: bagging_freq=5\n",
      "[LightGBM] [Warning] bagging_fraction is set=0.8294718721148873, subsample=1.0 will be ignored. Current value: bagging_fraction=0.8294718721148873\n",
      "[LightGBM] [Warning] lambda_l2 is set=8.898128449395389e-07, reg_lambda=0.0 will be ignored. Current value: lambda_l2=8.898128449395389e-07\n",
      "[LightGBM] [Warning] lambda_l1 is set=0.000243217180560352, reg_alpha=0.0 will be ignored. Current value: lambda_l1=0.000243217180560352\n"
     ]
    },
    {
     "name": "stderr",
     "output_type": "stream",
     "text": [
      "\u001b[32m[I 2023-05-19 03:02:38,155]\u001b[0m Trial 48 finished with value: 1.0 and parameters: {'lambda_l1': 8.829590020273337e-05, 'lambda_l2': 6.682943060805202e-05, 'num_leaves': 52, 'feature_fraction': 0.6446106107001918, 'bagging_fraction': 0.8684525407877568, 'bagging_freq': 3, 'min_child_samples': 25}. Best is trial 9 with value: 1.0.\u001b[0m\n",
      "\u001b[32m[I 2023-05-19 03:02:38,223]\u001b[0m Trial 49 finished with value: 0.9663589743589744 and parameters: {'lambda_l1': 0.0011454064730427004, 'lambda_l2': 0.0012036858594327653, 'num_leaves': 99, 'feature_fraction': 0.5431547915044208, 'bagging_fraction': 0.953349864077104, 'bagging_freq': 6, 'min_child_samples': 68}. Best is trial 9 with value: 1.0.\u001b[0m\n",
      "\u001b[32m[I 2023-05-19 03:02:38,309]\u001b[0m Trial 50 finished with value: 1.0 and parameters: {'lambda_l1': 0.002471646914696436, 'lambda_l2': 5.9003882382869606e-06, 'num_leaves': 256, 'feature_fraction': 0.6087583044461959, 'bagging_fraction': 0.9091326808693638, 'bagging_freq': 4, 'min_child_samples': 5}. Best is trial 9 with value: 1.0.\u001b[0m\n"
     ]
    },
    {
     "name": "stdout",
     "output_type": "stream",
     "text": [
      "[LightGBM] [Warning] feature_fraction is set=0.6446106107001918, colsample_bytree=1.0 will be ignored. Current value: feature_fraction=0.6446106107001918\n",
      "[LightGBM] [Warning] bagging_freq is set=3, subsample_freq=0 will be ignored. Current value: bagging_freq=3\n",
      "[LightGBM] [Warning] bagging_fraction is set=0.8684525407877568, subsample=1.0 will be ignored. Current value: bagging_fraction=0.8684525407877568\n",
      "[LightGBM] [Warning] lambda_l2 is set=6.682943060805202e-05, reg_lambda=0.0 will be ignored. Current value: lambda_l2=6.682943060805202e-05\n",
      "[LightGBM] [Warning] lambda_l1 is set=8.829590020273337e-05, reg_alpha=0.0 will be ignored. Current value: lambda_l1=8.829590020273337e-05\n",
      "[LightGBM] [Warning] feature_fraction is set=0.5431547915044208, colsample_bytree=1.0 will be ignored. Current value: feature_fraction=0.5431547915044208\n",
      "[LightGBM] [Warning] bagging_freq is set=6, subsample_freq=0 will be ignored. Current value: bagging_freq=6\n",
      "[LightGBM] [Warning] bagging_fraction is set=0.953349864077104, subsample=1.0 will be ignored. Current value: bagging_fraction=0.953349864077104\n",
      "[LightGBM] [Warning] lambda_l2 is set=0.0012036858594327653, reg_lambda=0.0 will be ignored. Current value: lambda_l2=0.0012036858594327653\n",
      "[LightGBM] [Warning] lambda_l1 is set=0.0011454064730427004, reg_alpha=0.0 will be ignored. Current value: lambda_l1=0.0011454064730427004\n",
      "[LightGBM] [Warning] feature_fraction is set=0.6087583044461959, colsample_bytree=1.0 will be ignored. Current value: feature_fraction=0.6087583044461959\n",
      "[LightGBM] [Warning] bagging_freq is set=4, subsample_freq=0 will be ignored. Current value: bagging_freq=4\n",
      "[LightGBM] [Warning] bagging_fraction is set=0.9091326808693638, subsample=1.0 will be ignored. Current value: bagging_fraction=0.9091326808693638\n",
      "[LightGBM] [Warning] lambda_l2 is set=5.9003882382869606e-06, reg_lambda=0.0 will be ignored. Current value: lambda_l2=5.9003882382869606e-06\n",
      "[LightGBM] [Warning] lambda_l1 is set=0.002471646914696436, reg_alpha=0.0 will be ignored. Current value: lambda_l1=0.002471646914696436\n"
     ]
    },
    {
     "name": "stderr",
     "output_type": "stream",
     "text": [
      "\u001b[32m[I 2023-05-19 03:02:38,388]\u001b[0m Trial 51 finished with value: 1.0 and parameters: {'lambda_l1': 0.0005979764765303427, 'lambda_l2': 1.240265866277806e-08, 'num_leaves': 195, 'feature_fraction': 0.6765021980764077, 'bagging_fraction': 0.8971404226786981, 'bagging_freq': 7, 'min_child_samples': 36}. Best is trial 9 with value: 1.0.\u001b[0m\n",
      "\u001b[32m[I 2023-05-19 03:02:38,465]\u001b[0m Trial 52 finished with value: 1.0 and parameters: {'lambda_l1': 0.0019092632934240093, 'lambda_l2': 9.102282279723376e-08, 'num_leaves': 159, 'feature_fraction': 0.6417868886365568, 'bagging_fraction': 0.9845490763721447, 'bagging_freq': 7, 'min_child_samples': 33}. Best is trial 9 with value: 1.0.\u001b[0m\n",
      "\u001b[32m[I 2023-05-19 03:02:38,547]\u001b[0m Trial 53 finished with value: 1.0 and parameters: {'lambda_l1': 0.00014540327464521426, 'lambda_l2': 3.9193071054450255e-07, 'num_leaves': 190, 'feature_fraction': 0.7021502959076833, 'bagging_fraction': 0.8588931720719011, 'bagging_freq': 7, 'min_child_samples': 15}. Best is trial 9 with value: 1.0.\u001b[0m\n"
     ]
    },
    {
     "name": "stdout",
     "output_type": "stream",
     "text": [
      "[LightGBM] [Warning] feature_fraction is set=0.6765021980764077, colsample_bytree=1.0 will be ignored. Current value: feature_fraction=0.6765021980764077\n",
      "[LightGBM] [Warning] bagging_freq is set=7, subsample_freq=0 will be ignored. Current value: bagging_freq=7\n",
      "[LightGBM] [Warning] bagging_fraction is set=0.8971404226786981, subsample=1.0 will be ignored. Current value: bagging_fraction=0.8971404226786981\n",
      "[LightGBM] [Warning] lambda_l2 is set=1.240265866277806e-08, reg_lambda=0.0 will be ignored. Current value: lambda_l2=1.240265866277806e-08\n",
      "[LightGBM] [Warning] lambda_l1 is set=0.0005979764765303427, reg_alpha=0.0 will be ignored. Current value: lambda_l1=0.0005979764765303427\n",
      "[LightGBM] [Warning] feature_fraction is set=0.6417868886365568, colsample_bytree=1.0 will be ignored. Current value: feature_fraction=0.6417868886365568\n",
      "[LightGBM] [Warning] bagging_freq is set=7, subsample_freq=0 will be ignored. Current value: bagging_freq=7\n",
      "[LightGBM] [Warning] bagging_fraction is set=0.9845490763721447, subsample=1.0 will be ignored. Current value: bagging_fraction=0.9845490763721447\n",
      "[LightGBM] [Warning] lambda_l2 is set=9.102282279723376e-08, reg_lambda=0.0 will be ignored. Current value: lambda_l2=9.102282279723376e-08\n",
      "[LightGBM] [Warning] lambda_l1 is set=0.0019092632934240093, reg_alpha=0.0 will be ignored. Current value: lambda_l1=0.0019092632934240093\n",
      "[LightGBM] [Warning] feature_fraction is set=0.7021502959076833, colsample_bytree=1.0 will be ignored. Current value: feature_fraction=0.7021502959076833\n",
      "[LightGBM] [Warning] bagging_freq is set=7, subsample_freq=0 will be ignored. Current value: bagging_freq=7\n",
      "[LightGBM] [Warning] bagging_fraction is set=0.8588931720719011, subsample=1.0 will be ignored. Current value: bagging_fraction=0.8588931720719011\n",
      "[LightGBM] [Warning] lambda_l2 is set=3.9193071054450255e-07, reg_lambda=0.0 will be ignored. Current value: lambda_l2=3.9193071054450255e-07\n",
      "[LightGBM] [Warning] lambda_l1 is set=0.00014540327464521426, reg_alpha=0.0 will be ignored. Current value: lambda_l1=0.00014540327464521426\n"
     ]
    },
    {
     "name": "stderr",
     "output_type": "stream",
     "text": [
      "\u001b[32m[I 2023-05-19 03:02:38,640]\u001b[0m Trial 54 finished with value: 1.0 and parameters: {'lambda_l1': 0.003978239315978179, 'lambda_l2': 3.466545977194085e-08, 'num_leaves': 185, 'feature_fraction': 0.5674858605818868, 'bagging_fraction': 0.9253502525351288, 'bagging_freq': 6, 'min_child_samples': 22}. Best is trial 9 with value: 1.0.\u001b[0m\n",
      "\u001b[32m[I 2023-05-19 03:02:38,725]\u001b[0m Trial 55 finished with value: 0.9993846153846153 and parameters: {'lambda_l1': 0.0008526428152906396, 'lambda_l2': 1.6007503192768056e-07, 'num_leaves': 201, 'feature_fraction': 0.6085682960834473, 'bagging_fraction': 0.9709413510886137, 'bagging_freq': 4, 'min_child_samples': 46}. Best is trial 9 with value: 1.0.\u001b[0m\n",
      "\u001b[32m[I 2023-05-19 03:02:38,809]\u001b[0m Trial 56 finished with value: 0.9997948717948718 and parameters: {'lambda_l1': 0.00029718600708825306, 'lambda_l2': 1.8995572291183658e-06, 'num_leaves': 208, 'feature_fraction': 0.6465554349719467, 'bagging_fraction': 0.8109783166473392, 'bagging_freq': 5, 'min_child_samples': 38}. Best is trial 9 with value: 1.0.\u001b[0m\n"
     ]
    },
    {
     "name": "stdout",
     "output_type": "stream",
     "text": [
      "[LightGBM] [Warning] feature_fraction is set=0.5674858605818868, colsample_bytree=1.0 will be ignored. Current value: feature_fraction=0.5674858605818868\n",
      "[LightGBM] [Warning] bagging_freq is set=6, subsample_freq=0 will be ignored. Current value: bagging_freq=6\n",
      "[LightGBM] [Warning] bagging_fraction is set=0.9253502525351288, subsample=1.0 will be ignored. Current value: bagging_fraction=0.9253502525351288\n",
      "[LightGBM] [Warning] lambda_l2 is set=3.466545977194085e-08, reg_lambda=0.0 will be ignored. Current value: lambda_l2=3.466545977194085e-08\n",
      "[LightGBM] [Warning] lambda_l1 is set=0.003978239315978179, reg_alpha=0.0 will be ignored. Current value: lambda_l1=0.003978239315978179\n",
      "[LightGBM] [Warning] feature_fraction is set=0.6085682960834473, colsample_bytree=1.0 will be ignored. Current value: feature_fraction=0.6085682960834473\n",
      "[LightGBM] [Warning] bagging_freq is set=4, subsample_freq=0 will be ignored. Current value: bagging_freq=4\n",
      "[LightGBM] [Warning] bagging_fraction is set=0.9709413510886137, subsample=1.0 will be ignored. Current value: bagging_fraction=0.9709413510886137\n",
      "[LightGBM] [Warning] lambda_l2 is set=1.6007503192768056e-07, reg_lambda=0.0 will be ignored. Current value: lambda_l2=1.6007503192768056e-07\n",
      "[LightGBM] [Warning] lambda_l1 is set=0.0008526428152906396, reg_alpha=0.0 will be ignored. Current value: lambda_l1=0.0008526428152906396\n",
      "[LightGBM] [Warning] feature_fraction is set=0.6465554349719467, colsample_bytree=1.0 will be ignored. Current value: feature_fraction=0.6465554349719467\n",
      "[LightGBM] [Warning] bagging_freq is set=5, subsample_freq=0 will be ignored. Current value: bagging_freq=5\n",
      "[LightGBM] [Warning] bagging_fraction is set=0.8109783166473392, subsample=1.0 will be ignored. Current value: bagging_fraction=0.8109783166473392\n",
      "[LightGBM] [Warning] lambda_l2 is set=1.8995572291183658e-06, reg_lambda=0.0 will be ignored. Current value: lambda_l2=1.8995572291183658e-06\n",
      "[LightGBM] [Warning] lambda_l1 is set=0.00029718600708825306, reg_alpha=0.0 will be ignored. Current value: lambda_l1=0.00029718600708825306\n"
     ]
    },
    {
     "name": "stderr",
     "output_type": "stream",
     "text": [
      "\u001b[32m[I 2023-05-19 03:02:38,904]\u001b[0m Trial 57 finished with value: 1.0 and parameters: {'lambda_l1': 4.266215801519822e-05, 'lambda_l2': 3.822761114348133e-08, 'num_leaves': 219, 'feature_fraction': 0.5972696380436421, 'bagging_fraction': 0.8787033202851853, 'bagging_freq': 3, 'min_child_samples': 28}. Best is trial 9 with value: 1.0.\u001b[0m\n",
      "\u001b[32m[I 2023-05-19 03:02:39,002]\u001b[0m Trial 58 finished with value: 1.0 and parameters: {'lambda_l1': 0.0013918944092765932, 'lambda_l2': 2.635905929230841e-07, 'num_leaves': 170, 'feature_fraction': 0.704967433471453, 'bagging_fraction': 0.844608511055884, 'bagging_freq': 6, 'min_child_samples': 18}. Best is trial 9 with value: 1.0.\u001b[0m\n"
     ]
    },
    {
     "name": "stdout",
     "output_type": "stream",
     "text": [
      "[LightGBM] [Warning] feature_fraction is set=0.5972696380436421, colsample_bytree=1.0 will be ignored. Current value: feature_fraction=0.5972696380436421\n",
      "[LightGBM] [Warning] bagging_freq is set=3, subsample_freq=0 will be ignored. Current value: bagging_freq=3\n",
      "[LightGBM] [Warning] bagging_fraction is set=0.8787033202851853, subsample=1.0 will be ignored. Current value: bagging_fraction=0.8787033202851853\n",
      "[LightGBM] [Warning] lambda_l2 is set=3.822761114348133e-08, reg_lambda=0.0 will be ignored. Current value: lambda_l2=3.822761114348133e-08\n",
      "[LightGBM] [Warning] lambda_l1 is set=4.266215801519822e-05, reg_alpha=0.0 will be ignored. Current value: lambda_l1=4.266215801519822e-05\n",
      "[LightGBM] [Warning] feature_fraction is set=0.704967433471453, colsample_bytree=1.0 will be ignored. Current value: feature_fraction=0.704967433471453\n",
      "[LightGBM] [Warning] bagging_freq is set=6, subsample_freq=0 will be ignored. Current value: bagging_freq=6\n",
      "[LightGBM] [Warning] bagging_fraction is set=0.844608511055884, subsample=1.0 will be ignored. Current value: bagging_fraction=0.844608511055884\n",
      "[LightGBM] [Warning] lambda_l2 is set=2.635905929230841e-07, reg_lambda=0.0 will be ignored. Current value: lambda_l2=2.635905929230841e-07\n",
      "[LightGBM] [Warning] lambda_l1 is set=0.0013918944092765932, reg_alpha=0.0 will be ignored. Current value: lambda_l1=0.0013918944092765932\n",
      "[LightGBM] [Warning] feature_fraction is set=0.6706789628104404, colsample_bytree=1.0 will be ignored. Current value: feature_fraction=0.6706789628104404\n",
      "[LightGBM] [Warning] bagging_freq is set=7, subsample_freq=0 will be ignored. Current value: bagging_freq=7\n",
      "[LightGBM] [Warning] bagging_fraction is set=0.934947606812509, subsample=1.0 will be ignored. Current value: bagging_fraction=0.934947606812509\n",
      "[LightGBM] [Warning] lambda_l2 is set=1.1785960073086745e-06, reg_lambda=0.0 will be ignored. Current value: lambda_l2=1.1785960073086745e-06\n",
      "[LightGBM] [Warning] lambda_l1 is set=0.008020872132813123, reg_alpha=0.0 will be ignored. Current value: lambda_l1=0.008020872132813123\n"
     ]
    },
    {
     "name": "stderr",
     "output_type": "stream",
     "text": [
      "\u001b[32m[I 2023-05-19 03:02:39,090]\u001b[0m Trial 59 finished with value: 1.0 and parameters: {'lambda_l1': 0.008020872132813123, 'lambda_l2': 1.1785960073086745e-06, 'num_leaves': 182, 'feature_fraction': 0.6706789628104404, 'bagging_fraction': 0.934947606812509, 'bagging_freq': 7, 'min_child_samples': 41}. Best is trial 9 with value: 1.0.\u001b[0m\n",
      "\u001b[32m[I 2023-05-19 03:02:39,190]\u001b[0m Trial 60 finished with value: 1.0 and parameters: {'lambda_l1': 0.0043294263732496325, 'lambda_l2': 9.948958950519143e-06, 'num_leaves': 246, 'feature_fraction': 0.6289942560659948, 'bagging_fraction': 0.9017643913108921, 'bagging_freq': 4, 'min_child_samples': 13}. Best is trial 9 with value: 1.0.\u001b[0m\n",
      "\u001b[32m[I 2023-05-19 03:02:39,287]\u001b[0m Trial 61 finished with value: 1.0 and parameters: {'lambda_l1': 0.0004655922731360478, 'lambda_l2': 3.538522575863233e-06, 'num_leaves': 236, 'feature_fraction': 0.6862720083609827, 'bagging_fraction': 0.9930506578512478, 'bagging_freq': 3, 'min_child_samples': 16}. Best is trial 9 with value: 1.0.\u001b[0m\n"
     ]
    },
    {
     "name": "stdout",
     "output_type": "stream",
     "text": [
      "[LightGBM] [Warning] feature_fraction is set=0.6289942560659948, colsample_bytree=1.0 will be ignored. Current value: feature_fraction=0.6289942560659948\n",
      "[LightGBM] [Warning] bagging_freq is set=4, subsample_freq=0 will be ignored. Current value: bagging_freq=4\n",
      "[LightGBM] [Warning] bagging_fraction is set=0.9017643913108921, subsample=1.0 will be ignored. Current value: bagging_fraction=0.9017643913108921\n",
      "[LightGBM] [Warning] lambda_l2 is set=9.948958950519143e-06, reg_lambda=0.0 will be ignored. Current value: lambda_l2=9.948958950519143e-06\n",
      "[LightGBM] [Warning] lambda_l1 is set=0.0043294263732496325, reg_alpha=0.0 will be ignored. Current value: lambda_l1=0.0043294263732496325\n",
      "[LightGBM] [Warning] feature_fraction is set=0.6862720083609827, colsample_bytree=1.0 will be ignored. Current value: feature_fraction=0.6862720083609827\n",
      "[LightGBM] [Warning] bagging_freq is set=3, subsample_freq=0 will be ignored. Current value: bagging_freq=3\n",
      "[LightGBM] [Warning] bagging_fraction is set=0.9930506578512478, subsample=1.0 will be ignored. Current value: bagging_fraction=0.9930506578512478\n",
      "[LightGBM] [Warning] lambda_l2 is set=3.538522575863233e-06, reg_lambda=0.0 will be ignored. Current value: lambda_l2=3.538522575863233e-06\n",
      "[LightGBM] [Warning] lambda_l1 is set=0.0004655922731360478, reg_alpha=0.0 will be ignored. Current value: lambda_l1=0.0004655922731360478\n",
      "[LightGBM] [Warning] feature_fraction is set=0.7259365725525955, colsample_bytree=1.0 will be ignored. Current value: feature_fraction=0.7259365725525955\n",
      "[LightGBM] [Warning] bagging_freq is set=2, subsample_freq=0 will be ignored. Current value: bagging_freq=2\n",
      "[LightGBM] [Warning] bagging_fraction is set=0.965827179504915, subsample=1.0 will be ignored. Current value: bagging_fraction=0.965827179504915\n",
      "[LightGBM] [Warning] lambda_l2 is set=5.9881622160426446e-06, reg_lambda=0.0 will be ignored. Current value: lambda_l2=5.9881622160426446e-06\n",
      "[LightGBM] [Warning] lambda_l1 is set=0.00013257388371200923, reg_alpha=0.0 will be ignored. Current value: lambda_l1=0.00013257388371200923\n"
     ]
    },
    {
     "name": "stderr",
     "output_type": "stream",
     "text": [
      "\u001b[32m[I 2023-05-19 03:02:39,572]\u001b[0m Trial 62 finished with value: 1.0 and parameters: {'lambda_l1': 0.00013257388371200923, 'lambda_l2': 5.9881622160426446e-06, 'num_leaves': 247, 'feature_fraction': 0.7259365725525955, 'bagging_fraction': 0.965827179504915, 'bagging_freq': 2, 'min_child_samples': 22}. Best is trial 9 with value: 1.0.\u001b[0m\n",
      "\u001b[32m[I 2023-05-19 03:02:39,679]\u001b[0m Trial 63 finished with value: 1.0 and parameters: {'lambda_l1': 0.0002583608906513379, 'lambda_l2': 2.334888443315626e-05, 'num_leaves': 139, 'feature_fraction': 0.7402720701953935, 'bagging_fraction': 0.9953538185049176, 'bagging_freq': 3, 'min_child_samples': 27}. Best is trial 9 with value: 1.0.\u001b[0m\n",
      "\u001b[32m[I 2023-05-19 03:02:39,772]\u001b[0m Trial 64 finished with value: 1.0 and parameters: {'lambda_l1': 0.002046469051694151, 'lambda_l2': 1.2123621629660364e-06, 'num_leaves': 122, 'feature_fraction': 0.7021864794266077, 'bagging_fraction': 0.9457639138894621, 'bagging_freq': 4, 'min_child_samples': 31}. Best is trial 9 with value: 1.0.\u001b[0m\n"
     ]
    },
    {
     "name": "stdout",
     "output_type": "stream",
     "text": [
      "[LightGBM] [Warning] feature_fraction is set=0.7402720701953935, colsample_bytree=1.0 will be ignored. Current value: feature_fraction=0.7402720701953935\n",
      "[LightGBM] [Warning] bagging_freq is set=3, subsample_freq=0 will be ignored. Current value: bagging_freq=3\n",
      "[LightGBM] [Warning] bagging_fraction is set=0.9953538185049176, subsample=1.0 will be ignored. Current value: bagging_fraction=0.9953538185049176\n",
      "[LightGBM] [Warning] lambda_l2 is set=2.334888443315626e-05, reg_lambda=0.0 will be ignored. Current value: lambda_l2=2.334888443315626e-05\n",
      "[LightGBM] [Warning] lambda_l1 is set=0.0002583608906513379, reg_alpha=0.0 will be ignored. Current value: lambda_l1=0.0002583608906513379\n",
      "[LightGBM] [Warning] feature_fraction is set=0.7021864794266077, colsample_bytree=1.0 will be ignored. Current value: feature_fraction=0.7021864794266077\n",
      "[LightGBM] [Warning] bagging_freq is set=4, subsample_freq=0 will be ignored. Current value: bagging_freq=4\n",
      "[LightGBM] [Warning] bagging_fraction is set=0.9457639138894621, subsample=1.0 will be ignored. Current value: bagging_fraction=0.9457639138894621\n",
      "[LightGBM] [Warning] lambda_l2 is set=1.2123621629660364e-06, reg_lambda=0.0 will be ignored. Current value: lambda_l2=1.2123621629660364e-06\n",
      "[LightGBM] [Warning] lambda_l1 is set=0.002046469051694151, reg_alpha=0.0 will be ignored. Current value: lambda_l1=0.002046469051694151\n",
      "[LightGBM] [Warning] feature_fraction is set=0.6577440676883581, colsample_bytree=1.0 will be ignored. Current value: feature_fraction=0.6577440676883581\n",
      "[LightGBM] [Warning] bagging_freq is set=3, subsample_freq=0 will be ignored. Current value: bagging_freq=3\n",
      "[LightGBM] [Warning] bagging_fraction is set=0.9752042636506584, subsample=1.0 will be ignored. Current value: bagging_fraction=0.9752042636506584\n",
      "[LightGBM] [Warning] lambda_l2 is set=1.2613631228714956e-05, reg_lambda=0.0 will be ignored. Current value: lambda_l2=1.2613631228714956e-05\n",
      "[LightGBM] [Warning] lambda_l1 is set=6.824813959696932e-05, reg_alpha=0.0 will be ignored. Current value: lambda_l1=6.824813959696932e-05\n"
     ]
    },
    {
     "name": "stderr",
     "output_type": "stream",
     "text": [
      "\u001b[32m[I 2023-05-19 03:02:39,905]\u001b[0m Trial 65 finished with value: 1.0 and parameters: {'lambda_l1': 6.824813959696932e-05, 'lambda_l2': 1.2613631228714956e-05, 'num_leaves': 222, 'feature_fraction': 0.6577440676883581, 'bagging_fraction': 0.9752042636506584, 'bagging_freq': 3, 'min_child_samples': 13}. Best is trial 9 with value: 1.0.\u001b[0m\n",
      "\u001b[32m[I 2023-05-19 03:02:40,026]\u001b[0m Trial 66 finished with value: 1.0 and parameters: {'lambda_l1': 0.0006950718540454242, 'lambda_l2': 4.298827804792754e-07, 'num_leaves': 255, 'feature_fraction': 0.76572832435826, 'bagging_fraction': 0.9178180161732876, 'bagging_freq': 4, 'min_child_samples': 18}. Best is trial 9 with value: 1.0.\u001b[0m\n",
      "\u001b[32m[I 2023-05-19 03:02:40,123]\u001b[0m Trial 67 finished with value: 1.0 and parameters: {'lambda_l1': 4.401654630219359e-05, 'lambda_l2': 0.00011869690999924962, 'num_leaves': 70, 'feature_fraction': 0.7408246525297777, 'bagging_fraction': 0.8818988436012866, 'bagging_freq': 5, 'min_child_samples': 24}. Best is trial 9 with value: 1.0.\u001b[0m\n"
     ]
    },
    {
     "name": "stdout",
     "output_type": "stream",
     "text": [
      "[LightGBM] [Warning] feature_fraction is set=0.76572832435826, colsample_bytree=1.0 will be ignored. Current value: feature_fraction=0.76572832435826\n",
      "[LightGBM] [Warning] bagging_freq is set=4, subsample_freq=0 will be ignored. Current value: bagging_freq=4\n",
      "[LightGBM] [Warning] bagging_fraction is set=0.9178180161732876, subsample=1.0 will be ignored. Current value: bagging_fraction=0.9178180161732876\n",
      "[LightGBM] [Warning] lambda_l2 is set=4.298827804792754e-07, reg_lambda=0.0 will be ignored. Current value: lambda_l2=4.298827804792754e-07\n",
      "[LightGBM] [Warning] lambda_l1 is set=0.0006950718540454242, reg_alpha=0.0 will be ignored. Current value: lambda_l1=0.0006950718540454242\n",
      "[LightGBM] [Warning] feature_fraction is set=0.7408246525297777, colsample_bytree=1.0 will be ignored. Current value: feature_fraction=0.7408246525297777\n",
      "[LightGBM] [Warning] bagging_freq is set=5, subsample_freq=0 will be ignored. Current value: bagging_freq=5\n",
      "[LightGBM] [Warning] bagging_fraction is set=0.8818988436012866, subsample=1.0 will be ignored. Current value: bagging_fraction=0.8818988436012866\n",
      "[LightGBM] [Warning] lambda_l2 is set=0.00011869690999924962, reg_lambda=0.0 will be ignored. Current value: lambda_l2=0.00011869690999924962\n",
      "[LightGBM] [Warning] lambda_l1 is set=4.401654630219359e-05, reg_alpha=0.0 will be ignored. Current value: lambda_l1=4.401654630219359e-05\n"
     ]
    },
    {
     "name": "stderr",
     "output_type": "stream",
     "text": [
      "\u001b[32m[I 2023-05-19 03:02:40,302]\u001b[0m Trial 68 finished with value: 1.0 and parameters: {'lambda_l1': 0.011010989022585859, 'lambda_l2': 3.542556337715476e-05, 'num_leaves': 152, 'feature_fraction': 0.6840215116283073, 'bagging_fraction': 0.9516111529424934, 'bagging_freq': 3, 'min_child_samples': 7}. Best is trial 9 with value: 1.0.\u001b[0m\n",
      "\u001b[32m[I 2023-05-19 03:02:40,405]\u001b[0m Trial 69 finished with value: 1.0 and parameters: {'lambda_l1': 0.0033834833291139714, 'lambda_l2': 0.0002676733098268049, 'num_leaves': 228, 'feature_fraction': 0.790596461569459, 'bagging_fraction': 0.8213938695600256, 'bagging_freq': 2, 'min_child_samples': 35}. Best is trial 9 with value: 1.0.\u001b[0m\n"
     ]
    },
    {
     "name": "stdout",
     "output_type": "stream",
     "text": [
      "[LightGBM] [Warning] feature_fraction is set=0.6840215116283073, colsample_bytree=1.0 will be ignored. Current value: feature_fraction=0.6840215116283073\n",
      "[LightGBM] [Warning] bagging_freq is set=3, subsample_freq=0 will be ignored. Current value: bagging_freq=3\n",
      "[LightGBM] [Warning] bagging_fraction is set=0.9516111529424934, subsample=1.0 will be ignored. Current value: bagging_fraction=0.9516111529424934\n",
      "[LightGBM] [Warning] lambda_l2 is set=3.542556337715476e-05, reg_lambda=0.0 will be ignored. Current value: lambda_l2=3.542556337715476e-05\n",
      "[LightGBM] [Warning] lambda_l1 is set=0.011010989022585859, reg_alpha=0.0 will be ignored. Current value: lambda_l1=0.011010989022585859\n",
      "[LightGBM] [Warning] feature_fraction is set=0.790596461569459, colsample_bytree=1.0 will be ignored. Current value: feature_fraction=0.790596461569459\n",
      "[LightGBM] [Warning] bagging_freq is set=2, subsample_freq=0 will be ignored. Current value: bagging_freq=2\n",
      "[LightGBM] [Warning] bagging_fraction is set=0.8213938695600256, subsample=1.0 will be ignored. Current value: bagging_fraction=0.8213938695600256\n",
      "[LightGBM] [Warning] lambda_l2 is set=0.0002676733098268049, reg_lambda=0.0 will be ignored. Current value: lambda_l2=0.0002676733098268049\n",
      "[LightGBM] [Warning] lambda_l1 is set=0.0033834833291139714, reg_alpha=0.0 will be ignored. Current value: lambda_l1=0.0033834833291139714\n"
     ]
    },
    {
     "name": "stderr",
     "output_type": "stream",
     "text": [
      "\u001b[32m[I 2023-05-19 03:02:40,522]\u001b[0m Trial 70 finished with value: 0.5 and parameters: {'lambda_l1': 0.00048002592555956315, 'lambda_l2': 6.743505120317928e-07, 'num_leaves': 175, 'feature_fraction': 0.6241824992972377, 'bagging_fraction': 0.9232810008365726, 'bagging_freq': 1, 'min_child_samples': 83}. Best is trial 9 with value: 1.0.\u001b[0m\n",
      "\u001b[32m[I 2023-05-19 03:02:40,656]\u001b[0m Trial 71 finished with value: 1.0 and parameters: {'lambda_l1': 0.0015186619156558336, 'lambda_l2': 1.414388116559268e-07, 'num_leaves': 181, 'feature_fraction': 0.6574956342787519, 'bagging_fraction': 0.8521667541927849, 'bagging_freq': 4, 'min_child_samples': 19}. Best is trial 9 with value: 1.0.\u001b[0m\n"
     ]
    },
    {
     "name": "stdout",
     "output_type": "stream",
     "text": [
      "[LightGBM] [Warning] feature_fraction is set=0.6241824992972377, colsample_bytree=1.0 will be ignored. Current value: feature_fraction=0.6241824992972377\n",
      "[LightGBM] [Warning] bagging_freq is set=1, subsample_freq=0 will be ignored. Current value: bagging_freq=1\n",
      "[LightGBM] [Warning] bagging_fraction is set=0.9232810008365726, subsample=1.0 will be ignored. Current value: bagging_fraction=0.9232810008365726\n",
      "[LightGBM] [Warning] lambda_l2 is set=6.743505120317928e-07, reg_lambda=0.0 will be ignored. Current value: lambda_l2=6.743505120317928e-07\n",
      "[LightGBM] [Warning] lambda_l1 is set=0.00048002592555956315, reg_alpha=0.0 will be ignored. Current value: lambda_l1=0.00048002592555956315\n",
      "[LightGBM] [Warning] feature_fraction is set=0.6574956342787519, colsample_bytree=1.0 will be ignored. Current value: feature_fraction=0.6574956342787519\n",
      "[LightGBM] [Warning] bagging_freq is set=4, subsample_freq=0 will be ignored. Current value: bagging_freq=4\n",
      "[LightGBM] [Warning] bagging_fraction is set=0.8521667541927849, subsample=1.0 will be ignored. Current value: bagging_fraction=0.8521667541927849\n",
      "[LightGBM] [Warning] lambda_l2 is set=1.414388116559268e-07, reg_lambda=0.0 will be ignored. Current value: lambda_l2=1.414388116559268e-07\n",
      "[LightGBM] [Warning] lambda_l1 is set=0.0015186619156558336, reg_alpha=0.0 will be ignored. Current value: lambda_l1=0.0015186619156558336\n"
     ]
    },
    {
     "name": "stderr",
     "output_type": "stream",
     "text": [
      "\u001b[32m[I 2023-05-19 03:02:40,765]\u001b[0m Trial 72 finished with value: 1.0 and parameters: {'lambda_l1': 0.00018112017344502047, 'lambda_l2': 2.075817057209778e-08, 'num_leaves': 202, 'feature_fraction': 0.7305310555728435, 'bagging_fraction': 0.8777685851559568, 'bagging_freq': 4, 'min_child_samples': 22}. Best is trial 9 with value: 1.0.\u001b[0m\n",
      "\u001b[32m[I 2023-05-19 03:02:40,870]\u001b[0m Trial 73 finished with value: 1.0 and parameters: {'lambda_l1': 0.0209577267173837, 'lambda_l2': 2.0075048949854373e-06, 'num_leaves': 166, 'feature_fraction': 0.7090037564565399, 'bagging_fraction': 0.8662707434832597, 'bagging_freq': 5, 'min_child_samples': 14}. Best is trial 9 with value: 1.0.\u001b[0m\n"
     ]
    },
    {
     "name": "stdout",
     "output_type": "stream",
     "text": [
      "[LightGBM] [Warning] feature_fraction is set=0.7305310555728435, colsample_bytree=1.0 will be ignored. Current value: feature_fraction=0.7305310555728435\n",
      "[LightGBM] [Warning] bagging_freq is set=4, subsample_freq=0 will be ignored. Current value: bagging_freq=4\n",
      "[LightGBM] [Warning] bagging_fraction is set=0.8777685851559568, subsample=1.0 will be ignored. Current value: bagging_fraction=0.8777685851559568\n",
      "[LightGBM] [Warning] lambda_l2 is set=2.075817057209778e-08, reg_lambda=0.0 will be ignored. Current value: lambda_l2=2.075817057209778e-08\n",
      "[LightGBM] [Warning] lambda_l1 is set=0.00018112017344502047, reg_alpha=0.0 will be ignored. Current value: lambda_l1=0.00018112017344502047\n",
      "[LightGBM] [Warning] feature_fraction is set=0.7090037564565399, colsample_bytree=1.0 will be ignored. Current value: feature_fraction=0.7090037564565399\n",
      "[LightGBM] [Warning] bagging_freq is set=5, subsample_freq=0 will be ignored. Current value: bagging_freq=5\n",
      "[LightGBM] [Warning] bagging_fraction is set=0.8662707434832597, subsample=1.0 will be ignored. Current value: bagging_fraction=0.8662707434832597\n",
      "[LightGBM] [Warning] lambda_l2 is set=2.0075048949854373e-06, reg_lambda=0.0 will be ignored. Current value: lambda_l2=2.0075048949854373e-06\n",
      "[LightGBM] [Warning] lambda_l1 is set=0.0209577267173837, reg_alpha=0.0 will be ignored. Current value: lambda_l1=0.0209577267173837\n",
      "[LightGBM] [Warning] feature_fraction is set=0.6790783211994718, colsample_bytree=1.0 will be ignored. Current value: feature_fraction=0.6790783211994718\n",
      "[LightGBM] [Warning] bagging_freq is set=5, subsample_freq=0 will be ignored. Current value: bagging_freq=5\n",
      "[LightGBM] [Warning] bagging_fraction is set=0.8325535247975467, subsample=1.0 will be ignored. Current value: bagging_fraction=0.8325535247975467\n",
      "[LightGBM] [Warning] lambda_l2 is set=7.39496947558814e-08, reg_lambda=0.0 will be ignored. Current value: lambda_l2=7.39496947558814e-08\n",
      "[LightGBM] [Warning] lambda_l1 is set=0.0055493718462266885, reg_alpha=0.0 will be ignored. Current value: lambda_l1=0.0055493718462266885\n"
     ]
    },
    {
     "name": "stderr",
     "output_type": "stream",
     "text": [
      "\u001b[32m[I 2023-05-19 03:02:40,967]\u001b[0m Trial 74 finished with value: 1.0 and parameters: {'lambda_l1': 0.0055493718462266885, 'lambda_l2': 7.39496947558814e-08, 'num_leaves': 157, 'feature_fraction': 0.6790783211994718, 'bagging_fraction': 0.8325535247975467, 'bagging_freq': 5, 'min_child_samples': 30}. Best is trial 9 with value: 1.0.\u001b[0m\n",
      "\u001b[32m[I 2023-05-19 03:02:41,061]\u001b[0m Trial 75 finished with value: 1.0 and parameters: {'lambda_l1': 0.0009956451390084175, 'lambda_l2': 4.422895104906302e-06, 'num_leaves': 189, 'feature_fraction': 0.6115063806429113, 'bagging_fraction': 0.7994542761875277, 'bagging_freq': 4, 'min_child_samples': 9}. Best is trial 9 with value: 1.0.\u001b[0m\n",
      "\u001b[32m[I 2023-05-19 03:02:41,138]\u001b[0m Trial 76 finished with value: 1.0 and parameters: {'lambda_l1': 0.0023597319442502213, 'lambda_l2': 8.697364940023843e-06, 'num_leaves': 143, 'feature_fraction': 0.699664252361137, 'bagging_fraction': 0.8926233752569718, 'bagging_freq': 3, 'min_child_samples': 24}. Best is trial 9 with value: 1.0.\u001b[0m\n",
      "\u001b[32m[I 2023-05-19 03:02:41,215]\u001b[0m Trial 77 finished with value: 1.0 and parameters: {'lambda_l1': 0.016321673432500534, 'lambda_l2': 2.597993915258763e-07, 'num_leaves': 241, 'feature_fraction': 0.6540637493771576, 'bagging_fraction': 0.7642305008423934, 'bagging_freq': 4, 'min_child_samples': 27}. Best is trial 9 with value: 1.0.\u001b[0m\n"
     ]
    },
    {
     "name": "stdout",
     "output_type": "stream",
     "text": [
      "[LightGBM] [Warning] feature_fraction is set=0.6115063806429113, colsample_bytree=1.0 will be ignored. Current value: feature_fraction=0.6115063806429113\n",
      "[LightGBM] [Warning] bagging_freq is set=4, subsample_freq=0 will be ignored. Current value: bagging_freq=4\n",
      "[LightGBM] [Warning] bagging_fraction is set=0.7994542761875277, subsample=1.0 will be ignored. Current value: bagging_fraction=0.7994542761875277\n",
      "[LightGBM] [Warning] lambda_l2 is set=4.422895104906302e-06, reg_lambda=0.0 will be ignored. Current value: lambda_l2=4.422895104906302e-06\n",
      "[LightGBM] [Warning] lambda_l1 is set=0.0009956451390084175, reg_alpha=0.0 will be ignored. Current value: lambda_l1=0.0009956451390084175\n",
      "[LightGBM] [Warning] feature_fraction is set=0.699664252361137, colsample_bytree=1.0 will be ignored. Current value: feature_fraction=0.699664252361137\n",
      "[LightGBM] [Warning] bagging_freq is set=3, subsample_freq=0 will be ignored. Current value: bagging_freq=3\n",
      "[LightGBM] [Warning] bagging_fraction is set=0.8926233752569718, subsample=1.0 will be ignored. Current value: bagging_fraction=0.8926233752569718\n",
      "[LightGBM] [Warning] lambda_l2 is set=8.697364940023843e-06, reg_lambda=0.0 will be ignored. Current value: lambda_l2=8.697364940023843e-06\n",
      "[LightGBM] [Warning] lambda_l1 is set=0.0023597319442502213, reg_alpha=0.0 will be ignored. Current value: lambda_l1=0.0023597319442502213\n",
      "[LightGBM] [Warning] feature_fraction is set=0.6540637493771576, colsample_bytree=1.0 will be ignored. Current value: feature_fraction=0.6540637493771576\n",
      "[LightGBM] [Warning] bagging_freq is set=4, subsample_freq=0 will be ignored. Current value: bagging_freq=4\n",
      "[LightGBM] [Warning] bagging_fraction is set=0.7642305008423934, subsample=1.0 will be ignored. Current value: bagging_fraction=0.7642305008423934\n",
      "[LightGBM] [Warning] lambda_l2 is set=2.597993915258763e-07, reg_lambda=0.0 will be ignored. Current value: lambda_l2=2.597993915258763e-07\n",
      "[LightGBM] [Warning] lambda_l1 is set=0.016321673432500534, reg_alpha=0.0 will be ignored. Current value: lambda_l1=0.016321673432500534\n"
     ]
    },
    {
     "name": "stderr",
     "output_type": "stream",
     "text": [
      "\u001b[32m[I 2023-05-19 03:02:41,304]\u001b[0m Trial 78 finished with value: 1.0 and parameters: {'lambda_l1': 0.04035748539421288, 'lambda_l2': 1.5570216908931106e-05, 'num_leaves': 129, 'feature_fraction': 0.6341702572770593, 'bagging_fraction': 0.8470112479829989, 'bagging_freq': 6, 'min_child_samples': 12}. Best is trial 9 with value: 1.0.\u001b[0m\n",
      "\u001b[32m[I 2023-05-19 03:02:41,400]\u001b[0m Trial 79 finished with value: 1.0 and parameters: {'lambda_l1': 0.0003347675362521562, 'lambda_l2': 1.3845072353348272e-06, 'num_leaves': 110, 'feature_fraction': 0.5675651947667053, 'bagging_fraction': 0.9110224812175001, 'bagging_freq': 3, 'min_child_samples': 20}. Best is trial 9 with value: 1.0.\u001b[0m\n"
     ]
    },
    {
     "name": "stdout",
     "output_type": "stream",
     "text": [
      "[LightGBM] [Warning] feature_fraction is set=0.6341702572770593, colsample_bytree=1.0 will be ignored. Current value: feature_fraction=0.6341702572770593\n",
      "[LightGBM] [Warning] bagging_freq is set=6, subsample_freq=0 will be ignored. Current value: bagging_freq=6\n",
      "[LightGBM] [Warning] bagging_fraction is set=0.8470112479829989, subsample=1.0 will be ignored. Current value: bagging_fraction=0.8470112479829989\n",
      "[LightGBM] [Warning] lambda_l2 is set=1.5570216908931106e-05, reg_lambda=0.0 will be ignored. Current value: lambda_l2=1.5570216908931106e-05\n",
      "[LightGBM] [Warning] lambda_l1 is set=0.04035748539421288, reg_alpha=0.0 will be ignored. Current value: lambda_l1=0.04035748539421288\n",
      "[LightGBM] [Warning] feature_fraction is set=0.5675651947667053, colsample_bytree=1.0 will be ignored. Current value: feature_fraction=0.5675651947667053\n",
      "[LightGBM] [Warning] bagging_freq is set=3, subsample_freq=0 will be ignored. Current value: bagging_freq=3\n",
      "[LightGBM] [Warning] bagging_fraction is set=0.9110224812175001, subsample=1.0 will be ignored. Current value: bagging_fraction=0.9110224812175001\n",
      "[LightGBM] [Warning] lambda_l2 is set=1.3845072353348272e-06, reg_lambda=0.0 will be ignored. Current value: lambda_l2=1.3845072353348272e-06\n",
      "[LightGBM] [Warning] lambda_l1 is set=0.0003347675362521562, reg_alpha=0.0 will be ignored. Current value: lambda_l1=0.0003347675362521562\n",
      "[LightGBM] [Warning] feature_fraction is set=0.7349554716593227, colsample_bytree=1.0 will be ignored. Current value: feature_fraction=0.7349554716593227\n",
      "[LightGBM] [Warning] bagging_freq is set=5, subsample_freq=0 will be ignored. Current value: bagging_freq=5\n",
      "[LightGBM] [Warning] bagging_fraction is set=0.943582181755421, subsample=1.0 will be ignored. Current value: bagging_fraction=0.943582181755421\n",
      "[LightGBM] [Warning] lambda_l2 is set=7.296448600940546e-07, reg_lambda=0.0 will be ignored. Current value: lambda_l2=7.296448600940546e-07\n",
      "[LightGBM] [Warning] lambda_l1 is set=0.0034745270987901825, reg_alpha=0.0 will be ignored. Current value: lambda_l1=0.0034745270987901825\n"
     ]
    },
    {
     "name": "stderr",
     "output_type": "stream",
     "text": [
      "\u001b[32m[I 2023-05-19 03:02:41,512]\u001b[0m Trial 80 finished with value: 1.0 and parameters: {'lambda_l1': 0.0034745270987901825, 'lambda_l2': 7.296448600940546e-07, 'num_leaves': 152, 'feature_fraction': 0.7349554716593227, 'bagging_fraction': 0.943582181755421, 'bagging_freq': 5, 'min_child_samples': 33}. Best is trial 9 with value: 1.0.\u001b[0m\n",
      "\u001b[32m[I 2023-05-19 03:02:41,609]\u001b[0m Trial 81 finished with value: 1.0 and parameters: {'lambda_l1': 6.640186450816875e-05, 'lambda_l2': 3.946042133054278e-06, 'num_leaves': 37, 'feature_fraction': 0.7189598693856085, 'bagging_fraction': 0.819667003805199, 'bagging_freq': 5, 'min_child_samples': 35}. Best is trial 9 with value: 1.0.\u001b[0m\n",
      "\u001b[32m[I 2023-05-19 03:02:41,754]\u001b[0m Trial 82 finished with value: 1.0 and parameters: {'lambda_l1': 1.9746554622883885e-05, 'lambda_l2': 7.406380371757429e-06, 'num_leaves': 70, 'feature_fraction': 0.6769134165943801, 'bagging_fraction': 0.792862273766636, 'bagging_freq': 5, 'min_child_samples': 16}. Best is trial 9 with value: 1.0.\u001b[0m\n"
     ]
    },
    {
     "name": "stdout",
     "output_type": "stream",
     "text": [
      "[LightGBM] [Warning] feature_fraction is set=0.7189598693856085, colsample_bytree=1.0 will be ignored. Current value: feature_fraction=0.7189598693856085\n",
      "[LightGBM] [Warning] bagging_freq is set=5, subsample_freq=0 will be ignored. Current value: bagging_freq=5\n",
      "[LightGBM] [Warning] bagging_fraction is set=0.819667003805199, subsample=1.0 will be ignored. Current value: bagging_fraction=0.819667003805199\n",
      "[LightGBM] [Warning] lambda_l2 is set=3.946042133054278e-06, reg_lambda=0.0 will be ignored. Current value: lambda_l2=3.946042133054278e-06\n",
      "[LightGBM] [Warning] lambda_l1 is set=6.640186450816875e-05, reg_alpha=0.0 will be ignored. Current value: lambda_l1=6.640186450816875e-05\n",
      "[LightGBM] [Warning] feature_fraction is set=0.6769134165943801, colsample_bytree=1.0 will be ignored. Current value: feature_fraction=0.6769134165943801\n",
      "[LightGBM] [Warning] bagging_freq is set=5, subsample_freq=0 will be ignored. Current value: bagging_freq=5\n",
      "[LightGBM] [Warning] bagging_fraction is set=0.792862273766636, subsample=1.0 will be ignored. Current value: bagging_fraction=0.792862273766636\n",
      "[LightGBM] [Warning] lambda_l2 is set=7.406380371757429e-06, reg_lambda=0.0 will be ignored. Current value: lambda_l2=7.406380371757429e-06\n",
      "[LightGBM] [Warning] lambda_l1 is set=1.9746554622883885e-05, reg_alpha=0.0 will be ignored. Current value: lambda_l1=1.9746554622883885e-05\n"
     ]
    },
    {
     "name": "stderr",
     "output_type": "stream",
     "text": [
      "\u001b[32m[I 2023-05-19 03:02:41,852]\u001b[0m Trial 83 finished with value: 1.0 and parameters: {'lambda_l1': 0.00010249587851905599, 'lambda_l2': 1.0176551407473885e-08, 'num_leaves': 173, 'feature_fraction': 0.7598226330507394, 'bagging_fraction': 0.874580275922024, 'bagging_freq': 4, 'min_child_samples': 31}. Best is trial 9 with value: 1.0.\u001b[0m\n",
      "\u001b[32m[I 2023-05-19 03:02:41,935]\u001b[0m Trial 84 finished with value: 0.9895384615384616 and parameters: {'lambda_l1': 9.032851105123081e-06, 'lambda_l2': 3.9658065091603425e-05, 'num_leaves': 136, 'feature_fraction': 0.5925833906345098, 'bagging_fraction': 0.898241812220289, 'bagging_freq': 6, 'min_child_samples': 57}. Best is trial 9 with value: 1.0.\u001b[0m\n"
     ]
    },
    {
     "name": "stdout",
     "output_type": "stream",
     "text": [
      "[LightGBM] [Warning] feature_fraction is set=0.7598226330507394, colsample_bytree=1.0 will be ignored. Current value: feature_fraction=0.7598226330507394\n",
      "[LightGBM] [Warning] bagging_freq is set=4, subsample_freq=0 will be ignored. Current value: bagging_freq=4\n",
      "[LightGBM] [Warning] bagging_fraction is set=0.874580275922024, subsample=1.0 will be ignored. Current value: bagging_fraction=0.874580275922024\n",
      "[LightGBM] [Warning] lambda_l2 is set=1.0176551407473885e-08, reg_lambda=0.0 will be ignored. Current value: lambda_l2=1.0176551407473885e-08\n",
      "[LightGBM] [Warning] lambda_l1 is set=0.00010249587851905599, reg_alpha=0.0 will be ignored. Current value: lambda_l1=0.00010249587851905599\n",
      "[LightGBM] [Warning] feature_fraction is set=0.5925833906345098, colsample_bytree=1.0 will be ignored. Current value: feature_fraction=0.5925833906345098\n",
      "[LightGBM] [Warning] bagging_freq is set=6, subsample_freq=0 will be ignored. Current value: bagging_freq=6\n",
      "[LightGBM] [Warning] bagging_fraction is set=0.898241812220289, subsample=1.0 will be ignored. Current value: bagging_fraction=0.898241812220289\n",
      "[LightGBM] [Warning] lambda_l2 is set=3.9658065091603425e-05, reg_lambda=0.0 will be ignored. Current value: lambda_l2=3.9658065091603425e-05\n",
      "[LightGBM] [Warning] lambda_l1 is set=9.032851105123081e-06, reg_alpha=0.0 will be ignored. Current value: lambda_l1=9.032851105123081e-06\n",
      "[LightGBM] [Warning] feature_fraction is set=0.6926547135977605, colsample_bytree=1.0 will be ignored. Current value: feature_fraction=0.6926547135977605\n",
      "[LightGBM] [Warning] bagging_freq is set=2, subsample_freq=0 will be ignored. Current value: bagging_freq=2\n",
      "[LightGBM] [Warning] bagging_fraction is set=0.8612027350948191, subsample=1.0 will be ignored. Current value: bagging_fraction=0.8612027350948191\n",
      "[LightGBM] [Warning] lambda_l2 is set=2.031736795394217e-05, reg_lambda=0.0 will be ignored. Current value: lambda_l2=2.031736795394217e-05\n",
      "[LightGBM] [Warning] lambda_l1 is set=0.00015665469520433, reg_alpha=0.0 will be ignored. Current value: lambda_l1=0.00015665469520433\n"
     ]
    },
    {
     "name": "stderr",
     "output_type": "stream",
     "text": [
      "\u001b[32m[I 2023-05-19 03:02:42,066]\u001b[0m Trial 85 finished with value: 1.0 and parameters: {'lambda_l1': 0.00015665469520433, 'lambda_l2': 2.031736795394217e-05, 'num_leaves': 210, 'feature_fraction': 0.6926547135977605, 'bagging_fraction': 0.8612027350948191, 'bagging_freq': 2, 'min_child_samples': 40}. Best is trial 9 with value: 1.0.\u001b[0m\n",
      "\u001b[32m[I 2023-05-19 03:02:42,200]\u001b[0m Trial 86 finished with value: 1.0 and parameters: {'lambda_l1': 0.00046913198745492004, 'lambda_l2': 2.349374172363999e-06, 'num_leaves': 164, 'feature_fraction': 0.6456453306722154, 'bagging_fraction': 0.8374291326565441, 'bagging_freq': 4, 'min_child_samples': 8}. Best is trial 9 with value: 1.0.\u001b[0m\n",
      "\u001b[32m[I 2023-05-19 03:02:42,290]\u001b[0m Trial 87 finished with value: 1.0 and parameters: {'lambda_l1': 3.588288135891871e-05, 'lambda_l2': 5.483159129491582e-06, 'num_leaves': 192, 'feature_fraction': 0.714255062592054, 'bagging_fraction': 0.8126534686434661, 'bagging_freq': 5, 'min_child_samples': 28}. Best is trial 9 with value: 1.0.\u001b[0m\n"
     ]
    },
    {
     "name": "stdout",
     "output_type": "stream",
     "text": [
      "[LightGBM] [Warning] feature_fraction is set=0.6456453306722154, colsample_bytree=1.0 will be ignored. Current value: feature_fraction=0.6456453306722154\n",
      "[LightGBM] [Warning] bagging_freq is set=4, subsample_freq=0 will be ignored. Current value: bagging_freq=4\n",
      "[LightGBM] [Warning] bagging_fraction is set=0.8374291326565441, subsample=1.0 will be ignored. Current value: bagging_fraction=0.8374291326565441\n",
      "[LightGBM] [Warning] lambda_l2 is set=2.349374172363999e-06, reg_lambda=0.0 will be ignored. Current value: lambda_l2=2.349374172363999e-06\n",
      "[LightGBM] [Warning] lambda_l1 is set=0.00046913198745492004, reg_alpha=0.0 will be ignored. Current value: lambda_l1=0.00046913198745492004\n",
      "[LightGBM] [Warning] feature_fraction is set=0.714255062592054, colsample_bytree=1.0 will be ignored. Current value: feature_fraction=0.714255062592054\n",
      "[LightGBM] [Warning] bagging_freq is set=5, subsample_freq=0 will be ignored. Current value: bagging_freq=5\n",
      "[LightGBM] [Warning] bagging_fraction is set=0.8126534686434661, subsample=1.0 will be ignored. Current value: bagging_fraction=0.8126534686434661\n",
      "[LightGBM] [Warning] lambda_l2 is set=5.483159129491582e-06, reg_lambda=0.0 will be ignored. Current value: lambda_l2=5.483159129491582e-06\n",
      "[LightGBM] [Warning] lambda_l1 is set=3.588288135891871e-05, reg_alpha=0.0 will be ignored. Current value: lambda_l1=3.588288135891871e-05\n"
     ]
    },
    {
     "name": "stderr",
     "output_type": "stream",
     "text": [
      "\u001b[32m[I 2023-05-19 03:02:42,491]\u001b[0m Trial 88 finished with value: 0.9971282051282051 and parameters: {'lambda_l1': 0.008054484051072041, 'lambda_l2': 4.1134573032965e-07, 'num_leaves': 180, 'feature_fraction': 0.6188298977278782, 'bagging_fraction': 0.9314928007319511, 'bagging_freq': 5, 'min_child_samples': 48}. Best is trial 9 with value: 1.0.\u001b[0m\n"
     ]
    },
    {
     "name": "stdout",
     "output_type": "stream",
     "text": [
      "[LightGBM] [Warning] feature_fraction is set=0.6188298977278782, colsample_bytree=1.0 will be ignored. Current value: feature_fraction=0.6188298977278782\n",
      "[LightGBM] [Warning] bagging_freq is set=5, subsample_freq=0 will be ignored. Current value: bagging_freq=5\n",
      "[LightGBM] [Warning] bagging_fraction is set=0.9314928007319511, subsample=1.0 will be ignored. Current value: bagging_fraction=0.9314928007319511\n",
      "[LightGBM] [Warning] lambda_l2 is set=4.1134573032965e-07, reg_lambda=0.0 will be ignored. Current value: lambda_l2=4.1134573032965e-07\n",
      "[LightGBM] [Warning] lambda_l1 is set=0.008054484051072041, reg_alpha=0.0 will be ignored. Current value: lambda_l1=0.008054484051072041\n"
     ]
    },
    {
     "name": "stderr",
     "output_type": "stream",
     "text": [
      "\u001b[32m[I 2023-05-19 03:02:42,682]\u001b[0m Trial 89 finished with value: 1.0 and parameters: {'lambda_l1': 0.0010730474291288136, 'lambda_l2': 1.205178708449193e-05, 'num_leaves': 232, 'feature_fraction': 0.6679814651773407, 'bagging_fraction': 0.9789950968158255, 'bagging_freq': 4, 'min_child_samples': 25}. Best is trial 9 with value: 1.0.\u001b[0m\n",
      "\u001b[32m[I 2023-05-19 03:02:42,758]\u001b[0m Trial 90 finished with value: 0.9950769230769231 and parameters: {'lambda_l1': 2.228578370267258e-05, 'lambda_l2': 7.408599219207066e-05, 'num_leaves': 199, 'feature_fraction': 0.745976039043954, 'bagging_fraction': 0.9575020674226823, 'bagging_freq': 3, 'min_child_samples': 54}. Best is trial 9 with value: 1.0.\u001b[0m\n"
     ]
    },
    {
     "name": "stdout",
     "output_type": "stream",
     "text": [
      "[LightGBM] [Warning] feature_fraction is set=0.6679814651773407, colsample_bytree=1.0 will be ignored. Current value: feature_fraction=0.6679814651773407\n",
      "[LightGBM] [Warning] bagging_freq is set=4, subsample_freq=0 will be ignored. Current value: bagging_freq=4\n",
      "[LightGBM] [Warning] bagging_fraction is set=0.9789950968158255, subsample=1.0 will be ignored. Current value: bagging_fraction=0.9789950968158255\n",
      "[LightGBM] [Warning] lambda_l2 is set=1.205178708449193e-05, reg_lambda=0.0 will be ignored. Current value: lambda_l2=1.205178708449193e-05\n",
      "[LightGBM] [Warning] lambda_l1 is set=0.0010730474291288136, reg_alpha=0.0 will be ignored. Current value: lambda_l1=0.0010730474291288136\n",
      "[LightGBM] [Warning] feature_fraction is set=0.745976039043954, colsample_bytree=1.0 will be ignored. Current value: feature_fraction=0.745976039043954\n",
      "[LightGBM] [Warning] bagging_freq is set=3, subsample_freq=0 will be ignored. Current value: bagging_freq=3\n",
      "[LightGBM] [Warning] bagging_fraction is set=0.9575020674226823, subsample=1.0 will be ignored. Current value: bagging_fraction=0.9575020674226823\n",
      "[LightGBM] [Warning] lambda_l2 is set=7.408599219207066e-05, reg_lambda=0.0 will be ignored. Current value: lambda_l2=7.408599219207066e-05\n",
      "[LightGBM] [Warning] lambda_l1 is set=2.228578370267258e-05, reg_alpha=0.0 will be ignored. Current value: lambda_l1=2.228578370267258e-05\n",
      "[LightGBM] [Warning] feature_fraction is set=0.688469531509645, colsample_bytree=1.0 will be ignored. Current value: feature_fraction=0.688469531509645\n",
      "[LightGBM] [Warning] bagging_freq is set=4, subsample_freq=0 will be ignored. Current value: bagging_freq=4\n",
      "[LightGBM] [Warning] bagging_fraction is set=0.8453267995550687, subsample=1.0 will be ignored. Current value: bagging_fraction=0.8453267995550687\n",
      "[LightGBM] [Warning] lambda_l2 is set=2.5820446911313537e-06, reg_lambda=0.0 will be ignored. Current value: lambda_l2=2.5820446911313537e-06\n",
      "[LightGBM] [Warning] lambda_l1 is set=0.0002123232578090199, reg_alpha=0.0 will be ignored. Current value: lambda_l1=0.0002123232578090199\n"
     ]
    },
    {
     "name": "stderr",
     "output_type": "stream",
     "text": [
      "\u001b[32m[I 2023-05-19 03:02:42,839]\u001b[0m Trial 91 finished with value: 1.0 and parameters: {'lambda_l1': 0.0002123232578090199, 'lambda_l2': 2.5820446911313537e-06, 'num_leaves': 206, 'feature_fraction': 0.688469531509645, 'bagging_fraction': 0.8453267995550687, 'bagging_freq': 4, 'min_child_samples': 33}. Best is trial 9 with value: 1.0.\u001b[0m\n",
      "\u001b[32m[I 2023-05-19 03:02:42,915]\u001b[0m Trial 92 finished with value: 1.0 and parameters: {'lambda_l1': 0.0003583248614797098, 'lambda_l2': 1.657943092421643e-06, 'num_leaves': 188, 'feature_fraction': 0.7265600430285971, 'bagging_fraction': 0.8252381933587669, 'bagging_freq': 4, 'min_child_samples': 23}. Best is trial 9 with value: 1.0.\u001b[0m\n",
      "\u001b[32m[I 2023-05-19 03:02:43,005]\u001b[0m Trial 93 finished with value: 1.0 and parameters: {'lambda_l1': 0.0006352981927257162, 'lambda_l2': 8.083155779883564e-06, 'num_leaves': 251, 'feature_fraction': 0.6362561722536763, 'bagging_fraction': 0.8885261925301755, 'bagging_freq': 4, 'min_child_samples': 20}. Best is trial 9 with value: 1.0.\u001b[0m\n"
     ]
    },
    {
     "name": "stdout",
     "output_type": "stream",
     "text": [
      "[LightGBM] [Warning] feature_fraction is set=0.7265600430285971, colsample_bytree=1.0 will be ignored. Current value: feature_fraction=0.7265600430285971\n",
      "[LightGBM] [Warning] bagging_freq is set=4, subsample_freq=0 will be ignored. Current value: bagging_freq=4\n",
      "[LightGBM] [Warning] bagging_fraction is set=0.8252381933587669, subsample=1.0 will be ignored. Current value: bagging_fraction=0.8252381933587669\n",
      "[LightGBM] [Warning] lambda_l2 is set=1.657943092421643e-06, reg_lambda=0.0 will be ignored. Current value: lambda_l2=1.657943092421643e-06\n",
      "[LightGBM] [Warning] lambda_l1 is set=0.0003583248614797098, reg_alpha=0.0 will be ignored. Current value: lambda_l1=0.0003583248614797098\n",
      "[LightGBM] [Warning] feature_fraction is set=0.6362561722536763, colsample_bytree=1.0 will be ignored. Current value: feature_fraction=0.6362561722536763\n",
      "[LightGBM] [Warning] bagging_freq is set=4, subsample_freq=0 will be ignored. Current value: bagging_freq=4\n",
      "[LightGBM] [Warning] bagging_fraction is set=0.8885261925301755, subsample=1.0 will be ignored. Current value: bagging_fraction=0.8885261925301755\n",
      "[LightGBM] [Warning] lambda_l2 is set=8.083155779883564e-06, reg_lambda=0.0 will be ignored. Current value: lambda_l2=8.083155779883564e-06\n",
      "[LightGBM] [Warning] lambda_l1 is set=0.0006352981927257162, reg_alpha=0.0 will be ignored. Current value: lambda_l1=0.0006352981927257162\n",
      "[LightGBM] [Warning] feature_fraction is set=0.710665523547621, colsample_bytree=1.0 will be ignored. Current value: feature_fraction=0.710665523547621\n",
      "[LightGBM] [Warning] bagging_freq is set=5, subsample_freq=0 will be ignored. Current value: bagging_freq=5\n",
      "[LightGBM] [Warning] bagging_fraction is set=0.8685135810350724, subsample=1.0 will be ignored. Current value: bagging_fraction=0.8685135810350724\n",
      "[LightGBM] [Warning] lambda_l2 is set=3.7364935836613373e-06, reg_lambda=0.0 will be ignored. Current value: lambda_l2=3.7364935836613373e-06\n",
      "[LightGBM] [Warning] lambda_l1 is set=0.0014807021357199472, reg_alpha=0.0 will be ignored. Current value: lambda_l1=0.0014807021357199472\n"
     ]
    },
    {
     "name": "stderr",
     "output_type": "stream",
     "text": [
      "\u001b[32m[I 2023-05-19 03:02:43,101]\u001b[0m Trial 94 finished with value: 0.9991794871794872 and parameters: {'lambda_l1': 0.0014807021357199472, 'lambda_l2': 3.7364935836613373e-06, 'num_leaves': 240, 'feature_fraction': 0.710665523547621, 'bagging_fraction': 0.8685135810350724, 'bagging_freq': 5, 'min_child_samples': 42}. Best is trial 9 with value: 1.0.\u001b[0m\n",
      "\u001b[32m[I 2023-05-19 03:02:43,283]\u001b[0m Trial 95 finished with value: 1.0 and parameters: {'lambda_l1': 6.985758469657134e-05, 'lambda_l2': 2.337933127441783e-05, 'num_leaves': 216, 'feature_fraction': 0.6713818588439721, 'bagging_fraction': 0.7807266865236693, 'bagging_freq': 4, 'min_child_samples': 30}. Best is trial 9 with value: 1.0.\u001b[0m\n",
      "\u001b[32m[I 2023-05-19 03:02:43,367]\u001b[0m Trial 96 finished with value: 0.9997948717948718 and parameters: {'lambda_l1': 0.0007373791246057514, 'lambda_l2': 7.994427517839591e-07, 'num_leaves': 95, 'feature_fraction': 0.6540166665393136, 'bagging_fraction': 0.8069647429578287, 'bagging_freq': 7, 'min_child_samples': 37}. Best is trial 9 with value: 1.0.\u001b[0m\n"
     ]
    },
    {
     "name": "stdout",
     "output_type": "stream",
     "text": [
      "[LightGBM] [Warning] feature_fraction is set=0.6713818588439721, colsample_bytree=1.0 will be ignored. Current value: feature_fraction=0.6713818588439721\n",
      "[LightGBM] [Warning] bagging_freq is set=4, subsample_freq=0 will be ignored. Current value: bagging_freq=4\n",
      "[LightGBM] [Warning] bagging_fraction is set=0.7807266865236693, subsample=1.0 will be ignored. Current value: bagging_fraction=0.7807266865236693\n",
      "[LightGBM] [Warning] lambda_l2 is set=2.337933127441783e-05, reg_lambda=0.0 will be ignored. Current value: lambda_l2=2.337933127441783e-05\n",
      "[LightGBM] [Warning] lambda_l1 is set=6.985758469657134e-05, reg_alpha=0.0 will be ignored. Current value: lambda_l1=6.985758469657134e-05\n",
      "[LightGBM] [Warning] feature_fraction is set=0.6540166665393136, colsample_bytree=1.0 will be ignored. Current value: feature_fraction=0.6540166665393136\n",
      "[LightGBM] [Warning] bagging_freq is set=7, subsample_freq=0 will be ignored. Current value: bagging_freq=7\n",
      "[LightGBM] [Warning] bagging_fraction is set=0.8069647429578287, subsample=1.0 will be ignored. Current value: bagging_fraction=0.8069647429578287\n",
      "[LightGBM] [Warning] lambda_l2 is set=7.994427517839591e-07, reg_lambda=0.0 will be ignored. Current value: lambda_l2=7.994427517839591e-07\n",
      "[LightGBM] [Warning] lambda_l1 is set=0.0007373791246057514, reg_alpha=0.0 will be ignored. Current value: lambda_l1=0.0007373791246057514\n"
     ]
    },
    {
     "name": "stderr",
     "output_type": "stream",
     "text": [
      "\u001b[32m[I 2023-05-19 03:02:43,453]\u001b[0m Trial 97 finished with value: 1.0 and parameters: {'lambda_l1': 0.002723924041310967, 'lambda_l2': 5.621357927887193e-06, 'num_leaves': 179, 'feature_fraction': 0.6875874430548299, 'bagging_fraction': 0.907429659116378, 'bagging_freq': 3, 'min_child_samples': 26}. Best is trial 9 with value: 1.0.\u001b[0m\n",
      "\u001b[32m[I 2023-05-19 03:02:43,537]\u001b[0m Trial 98 finished with value: 1.0 and parameters: {'lambda_l1': 0.0002465780707307857, 'lambda_l2': 1.0656385670194852e-06, 'num_leaves': 126, 'feature_fraction': 0.668418773034246, 'bagging_fraction': 0.854216263916944, 'bagging_freq': 6, 'min_child_samples': 18}. Best is trial 9 with value: 1.0.\u001b[0m\n",
      "\u001b[32m[I 2023-05-19 03:02:43,614]\u001b[0m Trial 99 finished with value: 1.0 and parameters: {'lambda_l1': 0.00012121007792476168, 'lambda_l2': 1.20569013840292e-05, 'num_leaves': 164, 'feature_fraction': 0.7042000275137689, 'bagging_fraction': 0.8342302808718628, 'bagging_freq': 4, 'min_child_samples': 29}. Best is trial 9 with value: 1.0.\u001b[0m\n"
     ]
    },
    {
     "name": "stdout",
     "output_type": "stream",
     "text": [
      "[LightGBM] [Warning] feature_fraction is set=0.6875874430548299, colsample_bytree=1.0 will be ignored. Current value: feature_fraction=0.6875874430548299\n",
      "[LightGBM] [Warning] bagging_freq is set=3, subsample_freq=0 will be ignored. Current value: bagging_freq=3\n",
      "[LightGBM] [Warning] bagging_fraction is set=0.907429659116378, subsample=1.0 will be ignored. Current value: bagging_fraction=0.907429659116378\n",
      "[LightGBM] [Warning] lambda_l2 is set=5.621357927887193e-06, reg_lambda=0.0 will be ignored. Current value: lambda_l2=5.621357927887193e-06\n",
      "[LightGBM] [Warning] lambda_l1 is set=0.002723924041310967, reg_alpha=0.0 will be ignored. Current value: lambda_l1=0.002723924041310967\n",
      "[LightGBM] [Warning] feature_fraction is set=0.668418773034246, colsample_bytree=1.0 will be ignored. Current value: feature_fraction=0.668418773034246\n",
      "[LightGBM] [Warning] bagging_freq is set=6, subsample_freq=0 will be ignored. Current value: bagging_freq=6\n",
      "[LightGBM] [Warning] bagging_fraction is set=0.854216263916944, subsample=1.0 will be ignored. Current value: bagging_fraction=0.854216263916944\n",
      "[LightGBM] [Warning] lambda_l2 is set=1.0656385670194852e-06, reg_lambda=0.0 will be ignored. Current value: lambda_l2=1.0656385670194852e-06\n",
      "[LightGBM] [Warning] lambda_l1 is set=0.0002465780707307857, reg_alpha=0.0 will be ignored. Current value: lambda_l1=0.0002465780707307857\n",
      "[LightGBM] [Warning] feature_fraction is set=0.7042000275137689, colsample_bytree=1.0 will be ignored. Current value: feature_fraction=0.7042000275137689\n",
      "[LightGBM] [Warning] bagging_freq is set=4, subsample_freq=0 will be ignored. Current value: bagging_freq=4\n",
      "[LightGBM] [Warning] bagging_fraction is set=0.8342302808718628, subsample=1.0 will be ignored. Current value: bagging_fraction=0.8342302808718628\n",
      "[LightGBM] [Warning] lambda_l2 is set=1.20569013840292e-05, reg_lambda=0.0 will be ignored. Current value: lambda_l2=1.20569013840292e-05\n",
      "[LightGBM] [Warning] lambda_l1 is set=0.00012121007792476168, reg_alpha=0.0 will be ignored. Current value: lambda_l1=0.00012121007792476168\n"
     ]
    }
   ],
   "source": [
    "best_params = calc_hps('LGBM', X_train, y_train, 'class')"
   ]
  },
  {
   "cell_type": "code",
   "execution_count": 7,
   "metadata": {},
   "outputs": [
    {
     "name": "stdout",
     "output_type": "stream",
     "text": [
      "[LightGBM] [Warning] bagging_fraction is set=0.9732817786330177, subsample=1.0 will be ignored. Current value: bagging_fraction=0.9732817786330177\n",
      "[LightGBM] [Warning] feature_fraction is set=0.5874043552438959, colsample_bytree=1.0 will be ignored. Current value: feature_fraction=0.5874043552438959\n",
      "[LightGBM] [Warning] bagging_freq is set=5, subsample_freq=0 will be ignored. Current value: bagging_freq=5\n",
      "[LightGBM] [Warning] lambda_l2 is set=1.0898158717951682e-05, reg_lambda=0.0 will be ignored. Current value: lambda_l2=1.0898158717951682e-05\n",
      "[LightGBM] [Warning] lambda_l1 is set=0.0019777799953276396, reg_alpha=0.0 will be ignored. Current value: lambda_l1=0.0019777799953276396\n"
     ]
    },
    {
     "data": {
      "text/html": [
       "<style>#sk-container-id-1 {color: black;background-color: white;}#sk-container-id-1 pre{padding: 0;}#sk-container-id-1 div.sk-toggleable {background-color: white;}#sk-container-id-1 label.sk-toggleable__label {cursor: pointer;display: block;width: 100%;margin-bottom: 0;padding: 0.3em;box-sizing: border-box;text-align: center;}#sk-container-id-1 label.sk-toggleable__label-arrow:before {content: \"▸\";float: left;margin-right: 0.25em;color: #696969;}#sk-container-id-1 label.sk-toggleable__label-arrow:hover:before {color: black;}#sk-container-id-1 div.sk-estimator:hover label.sk-toggleable__label-arrow:before {color: black;}#sk-container-id-1 div.sk-toggleable__content {max-height: 0;max-width: 0;overflow: hidden;text-align: left;background-color: #f0f8ff;}#sk-container-id-1 div.sk-toggleable__content pre {margin: 0.2em;color: black;border-radius: 0.25em;background-color: #f0f8ff;}#sk-container-id-1 input.sk-toggleable__control:checked~div.sk-toggleable__content {max-height: 200px;max-width: 100%;overflow: auto;}#sk-container-id-1 input.sk-toggleable__control:checked~label.sk-toggleable__label-arrow:before {content: \"▾\";}#sk-container-id-1 div.sk-estimator input.sk-toggleable__control:checked~label.sk-toggleable__label {background-color: #d4ebff;}#sk-container-id-1 div.sk-label input.sk-toggleable__control:checked~label.sk-toggleable__label {background-color: #d4ebff;}#sk-container-id-1 input.sk-hidden--visually {border: 0;clip: rect(1px 1px 1px 1px);clip: rect(1px, 1px, 1px, 1px);height: 1px;margin: -1px;overflow: hidden;padding: 0;position: absolute;width: 1px;}#sk-container-id-1 div.sk-estimator {font-family: monospace;background-color: #f0f8ff;border: 1px dotted black;border-radius: 0.25em;box-sizing: border-box;margin-bottom: 0.5em;}#sk-container-id-1 div.sk-estimator:hover {background-color: #d4ebff;}#sk-container-id-1 div.sk-parallel-item::after {content: \"\";width: 100%;border-bottom: 1px solid gray;flex-grow: 1;}#sk-container-id-1 div.sk-label:hover label.sk-toggleable__label {background-color: #d4ebff;}#sk-container-id-1 div.sk-serial::before {content: \"\";position: absolute;border-left: 1px solid gray;box-sizing: border-box;top: 0;bottom: 0;left: 50%;z-index: 0;}#sk-container-id-1 div.sk-serial {display: flex;flex-direction: column;align-items: center;background-color: white;padding-right: 0.2em;padding-left: 0.2em;position: relative;}#sk-container-id-1 div.sk-item {position: relative;z-index: 1;}#sk-container-id-1 div.sk-parallel {display: flex;align-items: stretch;justify-content: center;background-color: white;position: relative;}#sk-container-id-1 div.sk-item::before, #sk-container-id-1 div.sk-parallel-item::before {content: \"\";position: absolute;border-left: 1px solid gray;box-sizing: border-box;top: 0;bottom: 0;left: 50%;z-index: -1;}#sk-container-id-1 div.sk-parallel-item {display: flex;flex-direction: column;z-index: 1;position: relative;background-color: white;}#sk-container-id-1 div.sk-parallel-item:first-child::after {align-self: flex-end;width: 50%;}#sk-container-id-1 div.sk-parallel-item:last-child::after {align-self: flex-start;width: 50%;}#sk-container-id-1 div.sk-parallel-item:only-child::after {width: 0;}#sk-container-id-1 div.sk-dashed-wrapped {border: 1px dashed gray;margin: 0 0.4em 0.5em 0.4em;box-sizing: border-box;padding-bottom: 0.4em;background-color: white;}#sk-container-id-1 div.sk-label label {font-family: monospace;font-weight: bold;display: inline-block;line-height: 1.2em;}#sk-container-id-1 div.sk-label-container {text-align: center;}#sk-container-id-1 div.sk-container {/* jupyter's `normalize.less` sets `[hidden] { display: none; }` but bootstrap.min.css set `[hidden] { display: none !important; }` so we also need the `!important` here to be able to override the default hidden behavior on the sphinx rendered scikit-learn.org. See: https://github.com/scikit-learn/scikit-learn/issues/21755 */display: inline-block !important;position: relative;}#sk-container-id-1 div.sk-text-repr-fallback {display: none;}</style><div id=\"sk-container-id-1\" class=\"sk-top-container\"><div class=\"sk-text-repr-fallback\"><pre>LGBMClassifier(bagging_fraction=0.9732817786330177, bagging_freq=5,\n",
       "               feature_fraction=0.5874043552438959,\n",
       "               lambda_l1=0.0019777799953276396,\n",
       "               lambda_l2=1.0898158717951682e-05, min_child_samples=22,\n",
       "               num_leaves=168)</pre><b>In a Jupyter environment, please rerun this cell to show the HTML representation or trust the notebook. <br />On GitHub, the HTML representation is unable to render, please try loading this page with nbviewer.org.</b></div><div class=\"sk-container\" hidden><div class=\"sk-item\"><div class=\"sk-estimator sk-toggleable\"><input class=\"sk-toggleable__control sk-hidden--visually\" id=\"sk-estimator-id-1\" type=\"checkbox\" checked><label for=\"sk-estimator-id-1\" class=\"sk-toggleable__label sk-toggleable__label-arrow\">LGBMClassifier</label><div class=\"sk-toggleable__content\"><pre>LGBMClassifier(bagging_fraction=0.9732817786330177, bagging_freq=5,\n",
       "               feature_fraction=0.5874043552438959,\n",
       "               lambda_l1=0.0019777799953276396,\n",
       "               lambda_l2=1.0898158717951682e-05, min_child_samples=22,\n",
       "               num_leaves=168)</pre></div></div></div></div></div>"
      ],
      "text/plain": [
       "LGBMClassifier(bagging_fraction=0.9732817786330177, bagging_freq=5,\n",
       "               feature_fraction=0.5874043552438959,\n",
       "               lambda_l1=0.0019777799953276396,\n",
       "               lambda_l2=1.0898158717951682e-05, min_child_samples=22,\n",
       "               num_leaves=168)"
      ]
     },
     "execution_count": 7,
     "metadata": {},
     "output_type": "execute_result"
    }
   ],
   "source": [
    "model = lgb.LGBMClassifier()\n",
    "model.set_params(**best_params)\n",
    "model.fit(X_train, y_train)"
   ]
  },
  {
   "cell_type": "code",
   "execution_count": 8,
   "metadata": {},
   "outputs": [
    {
     "name": "stdout",
     "output_type": "stream",
     "text": [
      "1.0\n",
      "0.9657142857142857\n"
     ]
    }
   ],
   "source": [
    "print(roc_auc_score(y_train, model.predict_proba(X_train)[:,1]))\n",
    "print(roc_auc_score(y_test, model.predict_proba(X_test)[:,1]))"
   ]
  },
  {
   "cell_type": "code",
   "execution_count": 9,
   "metadata": {
    "scrolled": true
   },
   "outputs": [
    {
     "ename": "AttributeError",
     "evalue": "'LGBMClassifier' object has no attribute 'coef_'",
     "output_type": "error",
     "traceback": [
      "\u001b[0;31m---------------------------------------------------------------------------\u001b[0m",
      "\u001b[0;31mAttributeError\u001b[0m                            Traceback (most recent call last)",
      "Cell \u001b[0;32mIn[9], line 1\u001b[0m\n\u001b[0;32m----> 1\u001b[0m coefficients \u001b[38;5;241m=\u001b[39m \u001b[43mmodel\u001b[49m\u001b[38;5;241;43m.\u001b[39;49m\u001b[43mcoef_\u001b[49m[\u001b[38;5;241m0\u001b[39m]\n\u001b[1;32m      3\u001b[0m feature_importance \u001b[38;5;241m=\u001b[39m pd\u001b[38;5;241m.\u001b[39mDataFrame({\u001b[38;5;124m'\u001b[39m\u001b[38;5;124mFeature\u001b[39m\u001b[38;5;124m'\u001b[39m: X_train\u001b[38;5;241m.\u001b[39mcolumns, \u001b[38;5;124m'\u001b[39m\u001b[38;5;124mImportance\u001b[39m\u001b[38;5;124m'\u001b[39m: np\u001b[38;5;241m.\u001b[39mabs(coefficients)})\n\u001b[1;32m      4\u001b[0m feature_importance \u001b[38;5;241m=\u001b[39m feature_importance\u001b[38;5;241m.\u001b[39msort_values(\u001b[38;5;124m'\u001b[39m\u001b[38;5;124mImportance\u001b[39m\u001b[38;5;124m'\u001b[39m, ascending\u001b[38;5;241m=\u001b[39m\u001b[38;5;28;01mFalse\u001b[39;00m)\n",
      "\u001b[0;31mAttributeError\u001b[0m: 'LGBMClassifier' object has no attribute 'coef_'"
     ]
    }
   ],
   "source": [
    "coefficients = model.coef_[0]\n",
    "\n",
    "feature_importance = pd.DataFrame({'Feature': X_train.columns, 'Importance': np.abs(coefficients)})\n",
    "feature_importance = feature_importance.sort_values('Importance', ascending=False)"
   ]
  },
  {
   "cell_type": "code",
   "execution_count": null,
   "metadata": {},
   "outputs": [],
   "source": [
    "_, features = get_top_features(model, feature_importance['Feature'], X_train, y_train, X_test, y_test, type='class')"
   ]
  },
  {
   "cell_type": "code",
   "execution_count": 28,
   "metadata": {},
   "outputs": [],
   "source": [
    "argList = [i for i in X_train.columns]"
   ]
  },
  {
   "cell_type": "code",
   "execution_count": 32,
   "metadata": {},
   "outputs": [
    {
     "name": "stdout",
     "output_type": "stream",
     "text": [
      "ROC AUC Test initial = 0.7530864197530864\n",
      "Осталось фичей: 31, ROC AUC = 0.7946127946127945, удалена фича 29\n",
      "Осталось фичей: 30, ROC AUC = 0.8462401795735128, удалена фича 12\n",
      "Осталось фичей: 29, ROC AUC = 0.8529741863075195, удалена фича 6\n",
      "Осталось фичей: 28, ROC AUC = 0.8585858585858586, удалена фича 1\n",
      "Осталось фичей: 27, ROC AUC = 0.8641975308641974, удалена фича 25\n",
      "Осталось фичей: 26, ROC AUC = 0.8709315375982043, удалена фича 14\n",
      "Осталось фичей: 25, ROC AUC = 0.8731762065095399, удалена фича 2\n",
      "Осталось фичей: 24, ROC AUC = 0.8765432098765432, удалена фича 5\n",
      "Осталось фичей: 23, ROC AUC = 0.877665544332211, удалена фича 3\n",
      "Осталось фичей: 22, ROC AUC = 0.8787878787878789, удалена фича 8\n",
      "Осталось фичей: 21, ROC AUC = 0.8787878787878789, удалена фича 18\n",
      "Осталось фичей: 20, ROC AUC = 0.8787878787878789, удалена фича 20\n",
      "Осталось фичей: 19, ROC AUC = 0.8787878787878789, удалена фича 15\n",
      "Осталось фичей: 18, ROC AUC = 0.8787878787878788, удалена фича 31\n",
      "Осталось фичей: 17, ROC AUC = 0.877665544332211, удалена фича 16\n",
      "Осталось фичей: 16, ROC AUC = 0.8787878787878789, удалена фича 17\n",
      "Осталось фичей: 15, ROC AUC = 0.8799102132435466, удалена фича 21\n",
      "Осталось фичей: 14, ROC AUC = 0.8832772166105499, удалена фича 0\n",
      "Осталось фичей: 13, ROC AUC = 0.8832772166105499, удалена фича 26\n",
      "Осталось фичей: 12, ROC AUC = 0.8832772166105499, удалена фича 13\n",
      "Осталось фичей: 11, ROC AUC = 0.8832772166105499, удалена фича 22\n",
      "Осталось фичей: 10, ROC AUC = 0.8810325476992144, удалена фича 10\n",
      "Осталось фичей: 9, ROC AUC = 0.8843995510662178, удалена фича 27\n",
      "Осталось фичей: 8, ROC AUC = 0.8843995510662178, удалена фича 19\n",
      "Осталось фичей: 7, ROC AUC = 0.8855218855218854, удалена фича 23\n",
      "Осталось фичей: 6, ROC AUC = 0.8877665544332212, удалена фича 28\n"
     ]
    },
    {
     "data": {
      "text/plain": [
       "[4, 7, 9, 11, 24, 30]"
      ]
     },
     "execution_count": 32,
     "metadata": {},
     "output_type": "execute_result"
    }
   ],
   "source": [
    "backward_selection(argList, model, \n",
    "                   X_train, y_train, X_test, y_test, \n",
    "                   quality_loss = 0.05, n_features_to_select = 6) # -1, чтобы по всем пройти"
   ]
  },
  {
   "cell_type": "code",
   "execution_count": 11,
   "metadata": {},
   "outputs": [],
   "source": [
    "models = [KNeighborsClassifier(n_neighbors=10),\n",
    "          LogisticRegression(C=.12, fit_intercept=False)]\n",
    "for model in models: \n",
    "    model.fit(X_train, y_train)\n",
    "    evaluator = Evaluator(model, model_name=model.__str__().split('(')[0])\n",
    "    evaluator.write_all(X_train, X_test, y_train, y_test,\n",
    "                        dir_load='results', \n",
    "                        metric_func_set=[accuracy_score, roc_auc_score, f1_score],\n",
    "                        log=False,\n",
    "                        features='all')\n"
   ]
  }
 ],
 "metadata": {
  "kernelspec": {
   "display_name": "Python 3 (ipykernel)",
   "language": "python",
   "name": "python3"
  },
  "language_info": {
   "codemirror_mode": {
    "name": "ipython",
    "version": 3
   },
   "file_extension": ".py",
   "mimetype": "text/x-python",
   "name": "python",
   "nbconvert_exporter": "python",
   "pygments_lexer": "ipython3",
   "version": "3.9.6"
  }
 },
 "nbformat": 4,
 "nbformat_minor": 4
}
